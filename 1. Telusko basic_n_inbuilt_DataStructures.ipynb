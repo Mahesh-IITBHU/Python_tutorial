{
 "cells": [
  {
   "cell_type": "code",
   "execution_count": 1,
   "id": "6524d005",
   "metadata": {},
   "outputs": [
    {
     "name": "stdout",
     "output_type": "stream",
     "text": [
      "add & subtract 6\n",
      "Divide 2.6666666666666665\n",
      "Floor or Integer division 3\n",
      "Raise to power  125\n",
      "Remainder, modulo operator 1\n"
     ]
    }
   ],
   "source": [
    "print('add & subtract',7+3-4 ) \n",
    "print('Divide',8/3)\n",
    "print('Floor or Integer division', 21//6)\n",
    "print('Raise to power ',5**3)\n",
    "print('Remainder, modulo operator', 10%3)"
   ]
  },
  {
   "cell_type": "code",
   "execution_count": 2,
   "id": "336d6d4b",
   "metadata": {},
   "outputs": [
    {
     "name": "stdout",
     "output_type": "stream",
     "text": [
      "Mahesh purbia\n",
      "it's raining\n",
      "it's raining & \"I am working\"\n",
      "Mahesh Mahesh Mahesh Mahesh Mahesh Mahesh Mahesh Mahesh Mahesh Mahesh \n",
      "c:\\docs\n",
      "otworking\n",
      "c:\\docs\\not working using raw string\n"
     ]
    }
   ],
   "source": [
    "# String\n",
    "\n",
    "print('Mahesh purbia')\n",
    "#print('it's raining')                           #will generate error\n",
    "print(\"it's raining\")\n",
    "#print('it's raining \"I am working\"')            #will generate error\n",
    "print('it\\'s raining & \"I am working\"')\n",
    "\n",
    "print('Mahesh ' * 10)\n",
    "print('c:\\docs\\notworking')                      #will treat \\n as escape sequence 'new line character'\n",
    "print(r'c:\\docs\\not working using raw string')   #will resolve "
   ]
  },
  {
   "cell_type": "markdown",
   "id": "056da81d",
   "metadata": {},
   "source": [
    "# Variables in python"
   ]
  },
  {
   "cell_type": "code",
   "execution_count": 3,
   "id": "06bd044b",
   "metadata": {},
   "outputs": [
    {
     "name": "stdout",
     "output_type": "stream",
     "text": [
      "15\n",
      "56\n",
      "36\n"
     ]
    }
   ],
   "source": [
    "x=10\n",
    "y=5\n",
    "print(x+y)\n",
    "x = 51\n",
    "print(x+y)\n",
    "print(y+31)"
   ]
  },
  {
   "cell_type": "code",
   "execution_count": 4,
   "id": "a4412de5",
   "metadata": {},
   "outputs": [
    {
     "data": {
      "text/plain": [
       "90"
      ]
     },
     "execution_count": 4,
     "metadata": {},
     "output_type": "execute_result"
    }
   ],
   "source": [
    "y=19\n",
    "x + 39"
   ]
  },
  {
   "cell_type": "code",
   "execution_count": 5,
   "id": "78308453",
   "metadata": {},
   "outputs": [
    {
     "data": {
      "text/plain": [
       "109"
      ]
     },
     "execution_count": 5,
     "metadata": {},
     "output_type": "execute_result"
    }
   ],
   "source": [
    "_ + y             #  '_' take previous value and perform the operation"
   ]
  },
  {
   "cell_type": "code",
   "execution_count": 6,
   "id": "6cbf72e1",
   "metadata": {},
   "outputs": [
    {
     "name": "stdout",
     "output_type": "stream",
     "text": [
      "youtuberocks\n",
      "y\n",
      "e\n",
      "utub\n",
      "ebut \n",
      "\n",
      "mytube\n"
     ]
    }
   ],
   "source": [
    "#Strings\n",
    "\n",
    "name = 'youtube'\n",
    "print(name + 'rocks')\n",
    "\n",
    "print(name[0])\n",
    "print(name[-1])\n",
    "print(name[2:6])\n",
    "print(name[-1:-5:-1],'\\n')             #[start : stop : step]\n",
    "\n",
    "print('my' + name[3:])"
   ]
  },
  {
   "cell_type": "markdown",
   "id": "d2227fa4",
   "metadata": {},
   "source": [
    "# Python Data Structure\n",
    "\n",
    "#### List [     ]"
   ]
  },
  {
   "cell_type": "code",
   "execution_count": 7,
   "id": "dd5e5d9c",
   "metadata": {},
   "outputs": [
    {
     "name": "stdout",
     "output_type": "stream",
     "text": [
      "[36, 27, 25, 96, 14, 32]\n",
      "['mahesh', 'shubham', 'murli', 'Eshwar']\n",
      "[175, 'mahesh', 77.3]\n"
     ]
    }
   ],
   "source": [
    "nums = [36,27,25,96,14,32]\n",
    "names = ['mahesh', 'shubham', 'murli','Eshwar']\n",
    "value = [175, 'mahesh', 77.3]\n",
    "\n",
    "print(nums)\n",
    "print(names)\n",
    "print(value)"
   ]
  },
  {
   "cell_type": "code",
   "execution_count": 8,
   "id": "7338c454",
   "metadata": {},
   "outputs": [
    {
     "name": "stdout",
     "output_type": "stream",
     "text": [
      "[['mahesh', 'shubham', 'murli', 'Eshwar'], [36, 27, 25, 96, 14, 32]]\n"
     ]
    }
   ],
   "source": [
    "mix = [names,nums]\n",
    "print(mix)"
   ]
  },
  {
   "cell_type": "markdown",
   "id": "ebce81fa",
   "metadata": {},
   "source": [
    "## List []\n",
    "\n",
    "##### Lists are Mutable\n",
    "\n",
    "####  Methods :- ** .append, .clear, .copy, .count, .extend, .index, .insert, .pop, .remove, .reverse, .sort**\n",
    "\n",
    "append ----> add value at the end\n",
    "insert ----> add value in between"
   ]
  },
  {
   "cell_type": "code",
   "execution_count": 9,
   "id": "53f52e0c",
   "metadata": {},
   "outputs": [
    {
     "data": {
      "text/plain": [
       "[36, 27, 25, 96, 14, 32]"
      ]
     },
     "execution_count": 9,
     "metadata": {},
     "output_type": "execute_result"
    }
   ],
   "source": [
    "nums"
   ]
  },
  {
   "cell_type": "code",
   "execution_count": 10,
   "id": "352832ff",
   "metadata": {},
   "outputs": [
    {
     "data": {
      "text/plain": [
       "[36, 27, 25, 19, 96, 14, 32]"
      ]
     },
     "execution_count": 10,
     "metadata": {},
     "output_type": "execute_result"
    }
   ],
   "source": [
    "nums.insert(-3,19)                  # add 19 at index value -3\n",
    "nums"
   ]
  },
  {
   "cell_type": "code",
   "execution_count": 11,
   "id": "a381f7c2",
   "metadata": {},
   "outputs": [
    {
     "data": {
      "text/plain": [
       "[36, 27, 25, 19, 96, 14]"
      ]
     },
     "execution_count": 11,
     "metadata": {},
     "output_type": "execute_result"
    }
   ],
   "source": [
    "nums.remove(32)                   # delete number if present in the list\n",
    "nums"
   ]
  },
  {
   "cell_type": "code",
   "execution_count": 12,
   "id": "7a5a547b",
   "metadata": {},
   "outputs": [
    {
     "data": {
      "text/plain": [
       "[36, 25, 19, 96, 14]"
      ]
     },
     "execution_count": 12,
     "metadata": {},
     "output_type": "execute_result"
    }
   ],
   "source": [
    "nums.pop(1)                       #worked as LIFO(stack), last element would be remove 1st, 1st \n",
    "nums"
   ]
  },
  {
   "cell_type": "code",
   "execution_count": 13,
   "id": "c52137c2",
   "metadata": {},
   "outputs": [
    {
     "data": {
      "text/plain": [
       "[36, 25]"
      ]
     },
     "execution_count": 13,
     "metadata": {},
     "output_type": "execute_result"
    }
   ],
   "source": [
    "del nums[2:]                         #delete elements from array\n",
    "nums"
   ]
  },
  {
   "cell_type": "code",
   "execution_count": 14,
   "id": "f4af81be",
   "metadata": {},
   "outputs": [
    {
     "data": {
      "text/plain": [
       "[36, 25, 15, 20, 25, 35]"
      ]
     },
     "execution_count": 14,
     "metadata": {},
     "output_type": "execute_result"
    }
   ],
   "source": [
    "nums.extend([15,20,25,35])                #extend scree\n",
    "nums"
   ]
  },
  {
   "cell_type": "code",
   "execution_count": 15,
   "id": "f7e40354",
   "metadata": {},
   "outputs": [
    {
     "name": "stdout",
     "output_type": "stream",
     "text": [
      "15\n",
      "36\n",
      "156\n"
     ]
    }
   ],
   "source": [
    "print(min(nums))\n",
    "print(max(nums))\n",
    "print(sum(nums))"
   ]
  },
  {
   "cell_type": "code",
   "execution_count": 16,
   "id": "9c0773e1",
   "metadata": {},
   "outputs": [
    {
     "data": {
      "text/plain": [
       "[15, 20, 25, 25, 35, 36]"
      ]
     },
     "execution_count": 16,
     "metadata": {},
     "output_type": "execute_result"
    }
   ],
   "source": [
    "nums.sort()\n",
    "nums"
   ]
  },
  {
   "cell_type": "markdown",
   "id": "95386791",
   "metadata": {},
   "source": [
    "# Tuples  ()\n",
    "\n",
    "1. Immutable \n",
    "  > some projects/program require values not to be change , hence tuple is important\n",
    "  > since they are immutable hence, iteration in tuples is faster than List\n",
    "  \n",
    "2. Methods :- count, index"
   ]
  },
  {
   "cell_type": "code",
   "execution_count": 17,
   "id": "a56bf526",
   "metadata": {},
   "outputs": [
    {
     "data": {
      "text/plain": [
       "(21, 36, 14, 25)"
      ]
     },
     "execution_count": 17,
     "metadata": {},
     "output_type": "execute_result"
    }
   ],
   "source": [
    "tup = (21,36,14,25)\n",
    "tup"
   ]
  },
  {
   "cell_type": "code",
   "execution_count": 18,
   "id": "017456c9",
   "metadata": {},
   "outputs": [
    {
     "data": {
      "text/plain": [
       "36"
      ]
     },
     "execution_count": 18,
     "metadata": {},
     "output_type": "execute_result"
    }
   ],
   "source": [
    "tup[1]"
   ]
  },
  {
   "cell_type": "code",
   "execution_count": 19,
   "id": "7e9e1a54",
   "metadata": {},
   "outputs": [],
   "source": [
    "#tup[1] = 33                              # **Error** 'tuple' object does not support item assignment"
   ]
  },
  {
   "cell_type": "code",
   "execution_count": 20,
   "id": "4f52a780",
   "metadata": {},
   "outputs": [
    {
     "data": {
      "text/plain": [
       "1"
      ]
     },
     "execution_count": 20,
     "metadata": {},
     "output_type": "execute_result"
    }
   ],
   "source": [
    "tup = (8,2,3,3,8,5,0,4,2,3)               #count no of occurrences for the given argument\n",
    "tup.count(4)"
   ]
  },
  {
   "cell_type": "markdown",
   "id": "c1763a82",
   "metadata": {},
   "source": [
    "# SET   {}\n",
    "\n",
    "- collection of unique elements\n",
    "- Set is based on the concept of hash hence the elements are not in particular sequence\n",
    "- using hash improve the performance, allow to fetch element as fast as possible.\n",
    "- set dont support indexing also, as their notany sequence is followed\n",
    "\n",
    "### Methods : - \n",
    "> add, pop, remove, update, issubset, isdisjoint  etc.               -   "
   ]
  },
  {
   "cell_type": "code",
   "execution_count": 21,
   "id": "02bad3a8",
   "metadata": {},
   "outputs": [
    {
     "data": {
      "text/plain": [
       "{6, 14, 29, 34, 61, 75, 96}"
      ]
     },
     "execution_count": 21,
     "metadata": {},
     "output_type": "execute_result"
    }
   ],
   "source": [
    "s = {96,14,6,75,34,29,61}\n",
    "s"
   ]
  },
  {
   "cell_type": "code",
   "execution_count": 22,
   "id": "8682f19b",
   "metadata": {},
   "outputs": [
    {
     "data": {
      "text/plain": [
       "{-13.6, -5, 6, 14, 21, 25, 62, 63, 75, 89, 98}"
      ]
     },
     "execution_count": 22,
     "metadata": {},
     "output_type": "execute_result"
    }
   ],
   "source": [
    "s = {25,14,98,63,75,98,-5,21,6,-13.6,62,89}\n",
    "s"
   ]
  },
  {
   "cell_type": "code",
   "execution_count": 23,
   "id": "fa32d1c9",
   "metadata": {},
   "outputs": [],
   "source": [
    "# s[2]               #Values in set cannt be indexed as not in order\n",
    "                     #'set' object is not subscriptable"
   ]
  },
  {
   "cell_type": "markdown",
   "id": "9ee64c45",
   "metadata": {},
   "source": [
    "# Dictionary {:}\n",
    "\n",
    "- {Key : Value pair}\n",
    " > key should be unique and they are immutable\n",
    " > value can fetch by using key in []\n",
    " \n",
    "- **Methods :-**   \n",
    " > .get, fromkeys, pop, popitem, update, value, items etc.\n"
   ]
  },
  {
   "cell_type": "code",
   "execution_count": 24,
   "id": "36197f51",
   "metadata": {},
   "outputs": [
    {
     "data": {
      "text/plain": [
       "{1: 'Eshwar',\n",
       " 2: 'Himanshu',\n",
       " 3: 'Jasvinder',\n",
       " 4: 'Mahesh',\n",
       " 5: 'manideep',\n",
       " 7: 'shubham',\n",
       " 8: 'saurabh'}"
      ]
     },
     "execution_count": 24,
     "metadata": {},
     "output_type": "execute_result"
    }
   ],
   "source": [
    "data = {1: 'Eshwar',2:'Himanshu',3:'Jasvinder',4:'Mahesh',5:'manideep', 7:'shubham',8:'saurabh' }\n",
    "data"
   ]
  },
  {
   "cell_type": "code",
   "execution_count": 25,
   "id": "c018c621",
   "metadata": {},
   "outputs": [
    {
     "name": "stdout",
     "output_type": "stream",
     "text": [
      "Jasvinder\n",
      "shubham\n"
     ]
    }
   ],
   "source": [
    "print(data[3])\n",
    "print(data.get(7))          #using .get method"
   ]
  },
  {
   "cell_type": "code",
   "execution_count": 26,
   "id": "253133a5",
   "metadata": {},
   "outputs": [
    {
     "data": {
      "text/plain": [
       "'not found'"
      ]
     },
     "execution_count": 26,
     "metadata": {},
     "output_type": "execute_result"
    }
   ],
   "source": [
    "data.get(6,'not found')          #if particular key is not there, than we can print msg as reqd, default msg is None"
   ]
  },
  {
   "cell_type": "code",
   "execution_count": 27,
   "id": "5fdf02f7",
   "metadata": {},
   "outputs": [
    {
     "data": {
      "text/plain": [
       "{'Eshwar': 'gurobi',\n",
       " 'mahesh': 'python',\n",
       " 'manideep': 'C',\n",
       " 'shubham': 'Java',\n",
       " 'jasvinder': 'Html',\n",
       " 'saurabh': 'c++',\n",
       " 'Himanshu': 'sql'}"
      ]
     },
     "execution_count": 27,
     "metadata": {},
     "output_type": "execute_result"
    }
   ],
   "source": [
    "# creating dictionary using list.\n",
    "\n",
    "student = ['Eshwar','mahesh','manideep','shubham','jasvinder','saurabh','Himanshu']\n",
    "TechLanguage = ['gurobi','python','C','Java','Html','c++','sql']\n",
    "\n",
    "student_skill = dict(zip(student,TechLanguage)) #combine value using zip fun and than making a dictionary using dict function\n",
    "student_skill"
   ]
  },
  {
   "cell_type": "code",
   "execution_count": 28,
   "id": "d521e4d4",
   "metadata": {},
   "outputs": [
    {
     "data": {
      "text/plain": [
       "{'Eshwar': 'gurobi',\n",
       " 'mahesh': 'python',\n",
       " 'manideep': 'C',\n",
       " 'shubham': 'Java',\n",
       " 'jasvinder': 'Html',\n",
       " 'saurabh': 'c++',\n",
       " 'Himanshu': 'sql',\n",
       " 'nikhil': 'Excel'}"
      ]
     },
     "execution_count": 28,
     "metadata": {},
     "output_type": "execute_result"
    }
   ],
   "source": [
    "student_skill['nikhil'] = 'Excel'\n",
    "student_skill"
   ]
  },
  {
   "cell_type": "code",
   "execution_count": 29,
   "id": "48647e34",
   "metadata": {},
   "outputs": [
    {
     "data": {
      "text/plain": [
       "{'Eshwar': 'gurobi',\n",
       " 'mahesh': 'python',\n",
       " 'manideep': 'C',\n",
       " 'shubham': 'Java',\n",
       " 'jasvinder': 'Html',\n",
       " 'saurabh': 'c++',\n",
       " 'Himanshu': 'sql'}"
      ]
     },
     "execution_count": 29,
     "metadata": {},
     "output_type": "execute_result"
    }
   ],
   "source": [
    "del student_skill['nikhil']\n",
    "student_skill"
   ]
  },
  {
   "cell_type": "code",
   "execution_count": 30,
   "id": "7077b3ab",
   "metadata": {},
   "outputs": [
    {
     "data": {
      "text/plain": [
       "{'JS': 'Atom',\n",
       " 'Java': {'JSE': 'Netbeans', 'JEE': 'Eclipse'},\n",
       " 'Python': ['Pycharm', 'Sublime', 'Jupyter Notebook'],\n",
       " 'c++': 'VS'}"
      ]
     },
     "execution_count": 30,
     "metadata": {},
     "output_type": "execute_result"
    }
   ],
   "source": [
    "IDE = {'JS': 'Atom', 'Java':{'JSE':'Netbeans','JEE':'Eclipse'}, 'Python' : ['Pycharm','Sublime', 'Jupyter Notebook'],'c++' : 'VS' }\n",
    "IDE"
   ]
  },
  {
   "cell_type": "code",
   "execution_count": 31,
   "id": "23cee559",
   "metadata": {},
   "outputs": [
    {
     "name": "stdout",
     "output_type": "stream",
     "text": [
      "['Pycharm', 'Sublime', 'Jupyter Notebook']\n",
      "2nd IDE in the list indexed at 1 : Sublime\n"
     ]
    }
   ],
   "source": [
    "print(IDE['Python'])\n",
    "print('2nd IDE in the list indexed at 1 :',IDE['Python'][1])"
   ]
  },
  {
   "cell_type": "code",
   "execution_count": 32,
   "id": "a7bdd299",
   "metadata": {},
   "outputs": [
    {
     "name": "stdout",
     "output_type": "stream",
     "text": [
      "{'JSE': 'Netbeans', 'JEE': 'Eclipse'}\n",
      "Eclipse\n"
     ]
    }
   ],
   "source": [
    "print(IDE['Java'])\n",
    "print(IDE['Java']['JEE'])"
   ]
  },
  {
   "cell_type": "code",
   "execution_count": null,
   "id": "88144af9",
   "metadata": {},
   "outputs": [],
   "source": []
  }
 ],
 "metadata": {
  "kernelspec": {
   "display_name": "Python 3 (ipykernel)",
   "language": "python",
   "name": "python3"
  },
  "language_info": {
   "codemirror_mode": {
    "name": "ipython",
    "version": 3
   },
   "file_extension": ".py",
   "mimetype": "text/x-python",
   "name": "python",
   "nbconvert_exporter": "python",
   "pygments_lexer": "ipython3",
   "version": "3.8.8"
  }
 },
 "nbformat": 4,
 "nbformat_minor": 5
}
