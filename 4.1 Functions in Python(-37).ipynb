{
 "cells": [
  {
   "cell_type": "markdown",
   "id": "e25e71d6",
   "metadata": {},
   "source": [
    "# Functions in Python\n",
    "\n",
    "- Creating our own defined function : Require 2 step\n",
    "\n",
    "1. Defining a function  :                 keyword fun_name(argument)\n",
    "2. Calling a function   :                 fun_name(argument)   "
   ]
  },
  {
   "cell_type": "code",
   "execution_count": 1,
   "id": "e508e8d5",
   "metadata": {},
   "outputs": [
    {
     "name": "stdout",
     "output_type": "stream",
     "text": [
      "Hello\n",
      "Good Morning\n"
     ]
    }
   ],
   "source": [
    "def greet():                              #step 1 : defining function\n",
    "    print(\"Hello\")\n",
    "    print(\"Good Morning\")\n",
    "    \n",
    "greet()                                   #step 2 : function calling"
   ]
  },
  {
   "cell_type": "code",
   "execution_count": 2,
   "id": "2f2792cf",
   "metadata": {},
   "outputs": [
    {
     "name": "stdout",
     "output_type": "stream",
     "text": [
      "addition:  15\n"
     ]
    }
   ],
   "source": [
    "#function which simply execute the task\n",
    "\n",
    "def add(x,y):\n",
    "    c = x + y\n",
    "    print(\"addition: \", c)\n",
    "        \n",
    "add(5,10)"
   ]
  },
  {
   "cell_type": "code",
   "execution_count": 3,
   "id": "586f5e31",
   "metadata": {},
   "outputs": [
    {
     "name": "stdout",
     "output_type": "stream",
     "text": [
      "15\n"
     ]
    }
   ],
   "source": [
    "#function which return value : \n",
    "\n",
    "def add(x,y):\n",
    "    c = x + y\n",
    "    return c\n",
    "        \n",
    "result = add(5,10)\n",
    "\n",
    "print(result)"
   ]
  },
  {
   "cell_type": "code",
   "execution_count": 4,
   "id": "3ba84d35",
   "metadata": {},
   "outputs": [
    {
     "name": "stdout",
     "output_type": "stream",
     "text": [
      " addition:  15 \n",
      " substraction : -5\n"
     ]
    }
   ],
   "source": [
    "#using 1 function returning multiple result\n",
    "\n",
    "def add_sub(x,y):\n",
    "    c = x + y\n",
    "    d = x - y\n",
    "    return c,d\n",
    "        \n",
    "result1, result2 = add_sub(5,10)\n",
    "\n",
    "print(\" addition: \",result1,\"\\n\",\"substraction :\", result2)"
   ]
  },
  {
   "cell_type": "markdown",
   "id": "1e6a6d46",
   "metadata": {},
   "source": [
    "### Function argument in Python : Mutable and Immutable Arguments"
   ]
  },
  {
   "cell_type": "code",
   "execution_count": 5,
   "id": "252b37bd",
   "metadata": {},
   "outputs": [
    {
     "name": "stdout",
     "output_type": "stream",
     "text": [
      "Value of x 8\n"
     ]
    }
   ],
   "source": [
    "def update(x):\n",
    "    x=8\n",
    "    print(\"Value of x\",x)\n",
    "    \n",
    "update(10)"
   ]
  },
  {
   "cell_type": "code",
   "execution_count": 6,
   "id": "5e729bde",
   "metadata": {},
   "outputs": [
    {
     "name": "stdout",
     "output_type": "stream",
     "text": [
      "Value of x 8\n",
      "Value of a 15\n"
     ]
    }
   ],
   "source": [
    "def update(x):\n",
    "    x=8\n",
    "    print(\"Value of x\",x)\n",
    "    \n",
    "a = 15\n",
    "update(a)                           #passing value i.e 10 not variable i.e 'a'\n",
    "print(\"Value of a\",a)"
   ]
  },
  {
   "cell_type": "markdown",
   "id": "169d5cd7",
   "metadata": {},
   "source": [
    "- In above task value of 'a' not updated even function called on it.\n",
    "\n",
    "# In Python we dont use any of the concept i.e pass by value/reference\n",
    "\n",
    "# Concept for function argument (other programming language)\n",
    "> 1. Pass By value\n",
    "> 2. Pass By Reference\n",
    "\n",
    "#### 1. Pass by Value\n",
    "- when calling function by passing a variable value it will be passed as a value not as a variable.\n",
    "- passing only value not the address\n",
    "\n",
    "#### 2. Pass by Reference\n",
    "- Here we pass the address itself"
   ]
  },
  {
   "cell_type": "code",
   "execution_count": 7,
   "id": "421e388f",
   "metadata": {},
   "outputs": [
    {
     "name": "stdout",
     "output_type": "stream",
     "text": [
      "Address of a before update:  140725424891984\n",
      "Address of x before update:  140725424891984\n",
      "\n",
      "Value of x 8\n",
      "Address of x after update:  140725424891920\n",
      "Value of a 10\n",
      "Address of a after update:  140725424891984\n"
     ]
    }
   ],
   "source": [
    "def update(x):\n",
    "    \n",
    "    print(\"Address of x before update: \",id(x))\n",
    "    \n",
    "    x=8\n",
    "    print(\"\\nValue of x\",x)\n",
    "    print(\"Address of x after update: \",id(x))\n",
    "    \n",
    "a = 10\n",
    "print(\"Address of a before update: \",id(a))\n",
    "\n",
    "update(a)                        \n",
    "print(\"Value of a\",a)\n",
    "print(\"Address of a after update: \",id(a))\n",
    "\n",
    "\n",
    "#Expectation is a = 10, x =10\n",
    "#address for both variables is same before updating"
   ]
  },
  {
   "cell_type": "code",
   "execution_count": 8,
   "id": "28a85eef",
   "metadata": {},
   "outputs": [
    {
     "name": "stdout",
     "output_type": "stream",
     "text": [
      "Value of list before update : [10, 20, 30]\n",
      "Address of list before update :  2597946680512\n",
      "\n",
      "Value of list after update :  [10, 45, 30]\n",
      "Address of list after update:  2597946680512\n"
     ]
    }
   ],
   "source": [
    "# strings and integers are immutable\n",
    "\n",
    "# list is mutable - Lets try it out:-\n",
    "\n",
    "def update(list):    \n",
    "    print(\"Address of list before update : \",id(list))\n",
    "    \n",
    "    list[1] = 45\n",
    "    print(\"\\nValue of list after update : \",list)\n",
    "    \n",
    "    \n",
    "list = [10,20,30]\n",
    "print(\"Value of list before update :\",list)\n",
    "\n",
    "update(list) \n",
    "print(\"Address of list after update: \",id(list))"
   ]
  },
  {
   "cell_type": "markdown",
   "id": "a4d88125",
   "metadata": {},
   "source": [
    "# Types of arguments in Python\n",
    "- There are 2 types of arguments :\n",
    "> 1. Formal argument\n",
    "> 2. Actual Argument\n",
    "\n",
    "#### Actual argument is of following types    \n",
    "1. Position  \n",
    "2. Keyword\n",
    "3. Default\n",
    "4. Variable Length"
   ]
  },
  {
   "cell_type": "code",
   "execution_count": 9,
   "id": "6d3bd052",
   "metadata": {},
   "outputs": [
    {
     "name": "stdout",
     "output_type": "stream",
     "text": [
      "11\n"
     ]
    }
   ],
   "source": [
    "def add(a,b):                                  #formal argument - argument used when defining function\n",
    "    c = a+b\n",
    "    print(c)\n",
    "    \n",
    "add(5,6)                                       #actual argument - argument used when calling function"
   ]
  },
  {
   "cell_type": "code",
   "execution_count": 10,
   "id": "1b0960c3",
   "metadata": {},
   "outputs": [
    {
     "name": "stdout",
     "output_type": "stream",
     "text": [
      "Mahesh\n",
      "26\n"
     ]
    }
   ],
   "source": [
    "def person(name,age):\n",
    "    print(name)\n",
    "    print(age)\n",
    "    \n",
    "person('Mahesh', 26)                    #1. positional argument, need to be take care of sequence while function calling\n",
    "\n",
    "#How do we make sure that values for name and age assigning properly"
   ]
  },
  {
   "cell_type": "code",
   "execution_count": 11,
   "id": "fcc426f5",
   "metadata": {},
   "outputs": [
    {
     "name": "stdout",
     "output_type": "stream",
     "text": [
      "28\n",
      "shubham\n"
     ]
    }
   ],
   "source": [
    "person(28,'shubham')   #this shouldn't be happen"
   ]
  },
  {
   "cell_type": "code",
   "execution_count": 12,
   "id": "0925d8f3",
   "metadata": {},
   "outputs": [
    {
     "name": "stdout",
     "output_type": "stream",
     "text": [
      "shubham\n",
      "28\n"
     ]
    }
   ],
   "source": [
    "person(age =28,name='shubham')           #2. Keyword argument"
   ]
  },
  {
   "cell_type": "code",
   "execution_count": 13,
   "id": "e06979ae",
   "metadata": {},
   "outputs": [
    {
     "name": "stdout",
     "output_type": "stream",
     "text": [
      "Mahesh\n",
      "26\n",
      "Sachin\n",
      "18\n"
     ]
    }
   ],
   "source": [
    "def person(name,age=18):                 #3. Default argument :- default value for age is 18\n",
    "    print(name)                              # If argument not provided than default value would be assign \n",
    "    print(age)\n",
    "    \n",
    "person('Mahesh', 26) \n",
    "person('Sachin', ) "
   ]
  },
  {
   "cell_type": "code",
   "execution_count": 14,
   "id": "4db74163",
   "metadata": {},
   "outputs": [
    {
     "name": "stdout",
     "output_type": "stream",
     "text": [
      "5\n",
      "(6, 34, 78)\n"
     ]
    }
   ],
   "source": [
    "def sum(a,*b):                #variable length argument : where we dont know in advane for how many parameters reqd             \n",
    "    print(a)               # Here, a = integer, b = tuple\n",
    "    print(b)\n",
    "    \n",
    "sum(5,6,34,78)"
   ]
  },
  {
   "cell_type": "code",
   "execution_count": 15,
   "id": "f4f5ee01",
   "metadata": {},
   "outputs": [
    {
     "name": "stdout",
     "output_type": "stream",
     "text": [
      "123\n"
     ]
    }
   ],
   "source": [
    "def sum(a,*b):\n",
    "    c = a\n",
    "    \n",
    "    for i in b:\n",
    "        c = c + i      #'i' iterates through tuple -> b     \n",
    "    print(c)\n",
    "    \n",
    "sum(5,6,34,78)"
   ]
  },
  {
   "cell_type": "code",
   "execution_count": 16,
   "id": "e312b9d1",
   "metadata": {},
   "outputs": [
    {
     "name": "stdout",
     "output_type": "stream",
     "text": [
      "3\n"
     ]
    }
   ],
   "source": [
    "def sum(*b):\n",
    "    c = 0\n",
    "    \n",
    "    for i in b:\n",
    "        c = c + i      #'i' iterates through tuple -> b     \n",
    "    print(c)\n",
    "    \n",
    "sum(5,6,34,78,120,-240)"
   ]
  },
  {
   "cell_type": "markdown",
   "id": "e4b425a7",
   "metadata": {},
   "source": [
    "# kwargs: keywords argument\n",
    "- keywords Variable Length argument"
   ]
  },
  {
   "cell_type": "code",
   "execution_count": 17,
   "id": "b86076df",
   "metadata": {},
   "outputs": [
    {
     "name": "stdout",
     "output_type": "stream",
     "text": [
      "Mahesh\n",
      "(26, 'Udaipur', 8233850423)\n"
     ]
    }
   ],
   "source": [
    "def person(name,*data):\n",
    "    print(name)\n",
    "    print(data) \n",
    "        \n",
    "person('Mahesh',26,'Udaipur',8233850423)"
   ]
  },
  {
   "cell_type": "code",
   "execution_count": 18,
   "id": "258a9757",
   "metadata": {},
   "outputs": [
    {
     "name": "stdout",
     "output_type": "stream",
     "text": [
      "murli\n",
      "('udaipur', 24, 756849321)\n"
     ]
    }
   ],
   "source": [
    "person('murli','udaipur',24, 756849321)     #because of posiotnal argument value not move to right variable\n",
    "                                            #also user dont know abt which data to feed hence required keywords"
   ]
  },
  {
   "cell_type": "code",
   "execution_count": 19,
   "id": "9ae622f3",
   "metadata": {},
   "outputs": [],
   "source": [
    "#person('murli',age = 24, 'udaipur',mob = 756849321) \n",
    "\n",
    "#will give error since we are iterating through tuple taking data values, hence cannt take multiple arguments"
   ]
  },
  {
   "cell_type": "code",
   "execution_count": 20,
   "id": "67d3bf21",
   "metadata": {},
   "outputs": [
    {
     "name": "stdout",
     "output_type": "stream",
     "text": [
      "murli\n",
      "{'age': 24, 'city': 'udaipur', 'mob': 756849321}\n"
     ]
    }
   ],
   "source": [
    "def person(name, **data):                    # '**'  double star helps in taking multiple arguments\n",
    "    print(name)\n",
    "    print(data) \n",
    "    \n",
    "person('murli',age = 24,city ='udaipur', mob = 756849321)  #will create dictionary , key : value pair"
   ]
  },
  {
   "cell_type": "markdown",
   "id": "124825c5",
   "metadata": {},
   "source": [
    "# global Keyword in Python | Global vs Local Variable"
   ]
  },
  {
   "cell_type": "code",
   "execution_count": 21,
   "id": "b053d2e4",
   "metadata": {},
   "outputs": [
    {
     "name": "stdout",
     "output_type": "stream",
     "text": [
      "a in function      :   30\n",
      "b in function      :    8\n",
      "a outside function :    10\n"
     ]
    }
   ],
   "source": [
    "a  = 10                #global variable\n",
    "def something():\n",
    "    a = 30             #local varibale : local to fun\n",
    "    b = 8\n",
    "    print(\"a in function      :  \",a)\n",
    "    print(\"b in function      :   \",b)\n",
    "    \n",
    "something()            #preference while executive always given ti the local variable\n",
    "                        \n",
    "print(\"a outside function :   \",a)"
   ]
  },
  {
   "cell_type": "markdown",
   "id": "ffe3a071",
   "metadata": {},
   "source": [
    "#### Using global variable directly"
   ]
  },
  {
   "cell_type": "code",
   "execution_count": 22,
   "id": "3a4472d3",
   "metadata": {},
   "outputs": [
    {
     "name": "stdout",
     "output_type": "stream",
     "text": [
      "a in function      :   10\n"
     ]
    }
   ],
   "source": [
    "a  = 10                #global variable\n",
    "def something():        \n",
    "    print(\"a in function      :  \",a)    #directly accessing global varibale in the function\n",
    "\n",
    "something()"
   ]
  },
  {
   "cell_type": "code",
   "execution_count": 23,
   "id": "9861282a",
   "metadata": {},
   "outputs": [
    {
     "name": "stdout",
     "output_type": "stream",
     "text": [
      "a in function      :   26\n",
      "a outside function :   26\n"
     ]
    }
   ],
   "source": [
    "a  = 10                #global variable\n",
    "def something():\n",
    "    global a                    #to define varible inside function as global variable\n",
    "    a = 26\n",
    "    print(\"a in function      :  \",a)    #directly accessing global varibale in the function\n",
    "\n",
    "something()\n",
    "print(\"a outside function :  \",a)"
   ]
  },
  {
   "cell_type": "markdown",
   "id": "ca9c0f01",
   "metadata": {},
   "source": [
    "### Using global and local variable in the same function"
   ]
  },
  {
   "cell_type": "code",
   "execution_count": 24,
   "id": "24bb8e3c",
   "metadata": {},
   "outputs": [
    {
     "name": "stdout",
     "output_type": "stream",
     "text": [
      "global a :  140725424891984\n",
      "global x : 140725424891984\n",
      "In funtion :  15\n",
      "outside fun :  10\n"
     ]
    }
   ],
   "source": [
    "a = 10\n",
    "#b = 30\n",
    "\n",
    "print(\"global a : \",id(a))\n",
    "#print(\"global b : \",id(b))\n",
    "\n",
    "def something():\n",
    "    a = 15\n",
    "    \n",
    "    x = globals()['a']                  #to access any global variable, here we are accessing only 'a' global variable\n",
    "    print(\"global x :\", id(x))\n",
    "    print(\"In funtion : \", a)\n",
    "    \n",
    "something()\n",
    "\n",
    "print('outside fun : ', a)\n",
    "\n",
    "\n",
    "#address for both global variable 'a' and global variable accessed into a in function is same"
   ]
  },
  {
   "cell_type": "code",
   "execution_count": 25,
   "id": "1e4d5ebb",
   "metadata": {},
   "outputs": [
    {
     "name": "stdout",
     "output_type": "stream",
     "text": [
      "global a :  140725424891984\n",
      "global x :  140725424891984\n",
      "In funtion :   15\n",
      "outside fun :  150\n"
     ]
    }
   ],
   "source": [
    "a = 10\n",
    "print(\"global a : \",id(a))\n",
    "\n",
    "def something():\n",
    "    a = 15\n",
    "    \n",
    "    x = globals()['a']                  #to access any global variable, here we are accessing only 'a' global variable\n",
    "    print(\"global x : \", id(x))\n",
    "    print(\"In funtion :  \", a)\n",
    "    globals()['a'] = 150                #we can update global variable value using this\n",
    "    \n",
    "something()\n",
    "print('outside fun : ', a)             #global variable value is updated"
   ]
  },
  {
   "cell_type": "markdown",
   "id": "4c43d2f3",
   "metadata": {},
   "source": [
    "## Pass List to a Function in Python"
   ]
  },
  {
   "cell_type": "code",
   "execution_count": 26,
   "id": "da703bae",
   "metadata": {},
   "outputs": [
    {
     "name": "stdout",
     "output_type": "stream",
     "text": [
      "even No :  4\n",
      "odd  No :  7\n"
     ]
    }
   ],
   "source": [
    "def count(list):\n",
    "    even = 0\n",
    "    odd = 0\n",
    "    \n",
    "    for i in list:\n",
    "        if i%2 == 0:\n",
    "            even += 1\n",
    "        else:\n",
    "            odd += 1\n",
    "    return even, odd\n",
    "\n",
    "list = [20,25,14,19,26,17,39,78,31,33,93]\n",
    "\n",
    "even, odd = count(list)\n",
    "\n",
    "print(\"even No : \",even)\n",
    "print(\"odd  No : \",odd)"
   ]
  },
  {
   "cell_type": "code",
   "execution_count": 27,
   "id": "8d49df14",
   "metadata": {},
   "outputs": [
    {
     "name": "stdout",
     "output_type": "stream",
     "text": [
      "Even : 4 and Odd : 7\n"
     ]
    }
   ],
   "source": [
    "print(\"Even : {} and Odd : {}\".format(even, odd))       #format() function use for strings, used to replace both format{}"
   ]
  }
 ],
 "metadata": {
  "kernelspec": {
   "display_name": "Python 3 (ipykernel)",
   "language": "python",
   "name": "python3"
  },
  "language_info": {
   "codemirror_mode": {
    "name": "ipython",
    "version": 3
   },
   "file_extension": ".py",
   "mimetype": "text/x-python",
   "name": "python",
   "nbconvert_exporter": "python",
   "pygments_lexer": "ipython3",
   "version": "3.8.8"
  }
 },
 "nbformat": 4,
 "nbformat_minor": 5
}
