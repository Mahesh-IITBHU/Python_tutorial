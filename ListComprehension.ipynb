{
 "cells": [
  {
   "cell_type": "markdown",
   "id": "82f7f73b",
   "metadata": {},
   "source": [
    "# ListComprehension\n",
    "- **Method provided by python to create list in a smarter way using single line of code**\n",
    "- `**Constructing a list from an existing list**`\n",
    "\n",
    "## Syntax:  `l1 = [ expression for e in sequence ]` \n",
    "\n",
    "- Here sequence can be : string , list, tuple\n",
    "- Expression will execute till the loop iterates\n",
    "- The iteration will execute till their is element in the sequence\n",
    "\n",
    "# Advantage of ListComprehnsion\n",
    "\n",
    "- Faster for loops\n",
    "- Simplified conditional statements\n",
    "- String Manipulation"
   ]
  },
  {
   "cell_type": "markdown",
   "id": "c7af5ddd",
   "metadata": {},
   "source": [
    "# Type 1"
   ]
  },
  {
   "cell_type": "code",
   "execution_count": 1,
   "id": "a054b454",
   "metadata": {},
   "outputs": [
    {
     "name": "stdout",
     "output_type": "stream",
     "text": [
      "apples\n",
      "bananas\n",
      "oranges\n"
     ]
    }
   ],
   "source": [
    "fruits = [\"apples\",\"bananas\",\"oranges\"]\n",
    "for i in fruits:\n",
    "    print(i)"
   ]
  },
  {
   "cell_type": "code",
   "execution_count": 2,
   "id": "c51467e3",
   "metadata": {},
   "outputs": [
    {
     "data": {
      "text/plain": [
       "['apples', 'bananas', 'oranges']"
      ]
     },
     "execution_count": 2,
     "metadata": {},
     "output_type": "execute_result"
    }
   ],
   "source": [
    "fruits = [\"apples\",\"bananas\",\"oranges\"]\n",
    "[i for i in fruits]"
   ]
  },
  {
   "cell_type": "code",
   "execution_count": 3,
   "id": "e665c548",
   "metadata": {},
   "outputs": [
    {
     "name": "stdout",
     "output_type": "stream",
     "text": [
      "['APPLES', 'BANANAS', 'ORANGES']\n"
     ]
    }
   ],
   "source": [
    "# Using for loop\n",
    "\n",
    "fruits = [\"apples\",\"bananas\",\"oranges\"]\n",
    "new_fruits = []\n",
    "\n",
    "for i in fruits:\n",
    "    i = i.upper()\n",
    "    new_fruits.append(i)\n",
    "fruits = new_fruits\n",
    "print(fruits)"
   ]
  },
  {
   "cell_type": "code",
   "execution_count": 4,
   "id": "bc2de628",
   "metadata": {},
   "outputs": [
    {
     "data": {
      "text/plain": [
       "['APPLES', 'BANANAS', 'ORANGES']"
      ]
     },
     "execution_count": 4,
     "metadata": {},
     "output_type": "execute_result"
    }
   ],
   "source": [
    "#using ListComprehension\n",
    "\n",
    "fruits = [\"apples\",\"bananas\",\"oranges\"]\n",
    "[ i.upper() for i in fruits]"
   ]
  },
  {
   "cell_type": "code",
   "execution_count": 5,
   "id": "2a72e03e",
   "metadata": {},
   "outputs": [
    {
     "name": "stdout",
     "output_type": "stream",
     "text": [
      "Original:  [False, True, False, False, True, False, False, True]\n",
      "for loop:  [0, 1, 0, 0, 1, 0, 0, 1]\n",
      "ListComp:  [0, 1, 0, 0, 1, 0, 0, 1]\n"
     ]
    }
   ],
   "source": [
    "bits = [False, True, False, False, True, False, False, True]\n",
    "#For loop\n",
    "new_bits = []\n",
    "for b in bits:\n",
    "    if b == True:\n",
    "        new_bits.append(1)\n",
    "    else:\n",
    "        new_bits.append(0)\n",
    "\n",
    "print(\"Original: \", bits)\n",
    "print(\"for loop: \",new_bits)\n",
    "\n",
    "#ListComprehension\n",
    "superbits = [1 if i==True else 0 for i in bits]\n",
    "print(\"ListComp: \",superbits)"
   ]
  },
  {
   "cell_type": "code",
   "execution_count": 6,
   "id": "92d3ac9f",
   "metadata": {},
   "outputs": [
    {
     "name": "stdout",
     "output_type": "stream",
     "text": [
      "[0, 2, 4, 6, 8, 10, 12, 14, 16, 18]\n"
     ]
    }
   ],
   "source": [
    "ls = []\n",
    "for i in range(20):\n",
    "    if i%2==0:\n",
    "        ls.append(i)\n",
    "print(ls)"
   ]
  },
  {
   "cell_type": "code",
   "execution_count": 7,
   "id": "3bbe468d",
   "metadata": {},
   "outputs": [
    {
     "name": "stdout",
     "output_type": "stream",
     "text": [
      "[2, 4, 6, 8, 10, 12, 14, 16, 18, 20]\n"
     ]
    }
   ],
   "source": [
    "#Generate a list of 10 numbers multiple of 2\n",
    "\n",
    "ls = [ 2*e for e in range(1,11)]\n",
    "print(ls)"
   ]
  },
  {
   "cell_type": "code",
   "execution_count": 8,
   "id": "cdf1810a",
   "metadata": {},
   "outputs": [
    {
     "name": "stdout",
     "output_type": "stream",
     "text": [
      "[18, 76, 68, 42, 8]\n"
     ]
    }
   ],
   "source": [
    "list1 = [23,45,18,76,23,79,68,25,42,8]\n",
    "ls = [i for i in list1 if i%2==0]\n",
    "print(ls)"
   ]
  },
  {
   "cell_type": "markdown",
   "id": "8e78f762",
   "metadata": {},
   "source": [
    "# String Manipulation"
   ]
  },
  {
   "cell_type": "code",
   "execution_count": 9,
   "id": "2f95e206",
   "metadata": {},
   "outputs": [
    {
     "name": "stdout",
     "output_type": "stream",
     "text": [
      "['Mahesh', 'Relax Eshwar', 'Relax Shubham', 'Himanshu', 'Relax Manideep']\n"
     ]
    }
   ],
   "source": [
    "# General Way:\n",
    "names = ['mahesh', 'ESHWAR', 'sHUBham','himanshu', 'Manideep']\n",
    "new_names = []\n",
    "\n",
    "for n in names:\n",
    "    if n.islower():\n",
    "        n=n.capitalize()\n",
    "    else:\n",
    "        n = \"Relax \" + n.capitalize()\n",
    "    new_names.append(n)\n",
    "names = new_names\n",
    "print(names)"
   ]
  },
  {
   "cell_type": "code",
   "execution_count": 10,
   "id": "72ac5d3b",
   "metadata": {},
   "outputs": [
    {
     "data": {
      "text/plain": [
       "['Mahesh', 'relax Eshwar', 'relax Shubham', 'Himanshu', 'relax Manideep']"
      ]
     },
     "execution_count": 10,
     "metadata": {},
     "output_type": "execute_result"
    }
   ],
   "source": [
    "#ListCOmprehension\n",
    "\n",
    "names = ['mahesh', 'ESHWAR', 'sHUBham','himanshu', 'Manideep']\n",
    "\n",
    "[n.capitalize() if n.islower() else \"relax \" + n.capitalize() for n in names]"
   ]
  },
  {
   "cell_type": "markdown",
   "id": "96bfb475",
   "metadata": {},
   "source": [
    "# Example2"
   ]
  },
  {
   "cell_type": "code",
   "execution_count": 11,
   "id": "f3ca7050",
   "metadata": {},
   "outputs": [
    {
     "name": "stdout",
     "output_type": "stream",
     "text": [
      "['H', 'e', 'l', 'l', 'o', 'M', 'y', 'N', 'a', 'm', 'e', 'I', 's', 'M', 'a', 'h', 'e', 's', 'h']\n"
     ]
    }
   ],
   "source": [
    "my_string = \"HelloMyNameIsMahesh\"\n",
    "my_string = [i for i in my_string]\n",
    "print(my_string)"
   ]
  },
  {
   "cell_type": "code",
   "execution_count": 12,
   "id": "8f1fdb51",
   "metadata": {},
   "outputs": [
    {
     "name": "stdout",
     "output_type": "stream",
     "text": [
      " Hello My Name Is Mahesh\n"
     ]
    }
   ],
   "source": [
    "#Using join method to join character in list comprehension\n",
    "\n",
    "my_string = \"HelloMyNameIsMahesh\"\n",
    "my_string = \"\".join([i if i.islower() else \" \" + i for i in my_string])\n",
    "print(my_string)"
   ]
  },
  {
   "cell_type": "markdown",
   "id": "9cab46ca",
   "metadata": {},
   "source": [
    "# Note\n",
    "\n",
    "- We can not use elif clause inside the list comprehension\n",
    "- In list comprehension we use else else keyword\n",
    "\n",
    "## Syntax\n",
    "- ### **else** `condition` `action` **else**"
   ]
  },
  {
   "cell_type": "code",
   "execution_count": 13,
   "id": "90aa51b5",
   "metadata": {},
   "outputs": [
    {
     "name": "stdout",
     "output_type": "stream",
     "text": [
      "Hello My name is Mahesh\n"
     ]
    }
   ],
   "source": [
    "#Removing initial space and also lowering specific character\n",
    "\n",
    "my_string = \"HelloMyNameIsMahesh\"\n",
    "my_string = \"\".join([i if i.islower() else \" \" +  i.lower() if i in [\"N\", \"I\"] else\" \" + i for i in my_string])[1:]\n",
    "\n",
    "print(my_string)"
   ]
  },
  {
   "cell_type": "code",
   "execution_count": 14,
   "id": "1bed2626",
   "metadata": {},
   "outputs": [
    {
     "name": "stdout",
     "output_type": "stream",
     "text": [
      "hiddenmessage\n"
     ]
    }
   ],
   "source": [
    "my_string = \"hi442nm233ag2\"\n",
    "new_string = \"\".join([\"d\" if i == \"4\" else \"e\" if i==\"2\" else \"s\" if i==\"3\" else i for i in my_string])\n",
    "print(new_string)"
   ]
  },
  {
   "cell_type": "markdown",
   "id": "ce0451fc",
   "metadata": {},
   "source": [
    "# Note:\n",
    "In `Python 2.0`, we only had the option of `list comprehensions`, but now after `3.0 version`, we **can also apply** `comprehension on dictionary and sets`."
   ]
  },
  {
   "cell_type": "markdown",
   "id": "ebbc7da1",
   "metadata": {},
   "source": [
    "# Dict Comprehension"
   ]
  },
  {
   "cell_type": "code",
   "execution_count": 15,
   "id": "ba8a5324",
   "metadata": {},
   "outputs": [
    {
     "name": "stdout",
     "output_type": "stream",
     "text": [
      "{0: 'item 0', 1: 'item 1', 2: 'item 2', 3: 'item 3', 4: 'item 4'}\n",
      "{0: 'Item 0', 1: 'Item 1', 2: 'Item 2', 3: 'Item 3', 4: 'Item 4'}\n"
     ]
    }
   ],
   "source": [
    "Normaldict = {\n",
    "  0 : \"item 0\",\n",
    "  1 : \"item 1\",\n",
    "  2 : \"item 2\",\n",
    "  3 : \"item 3\",\n",
    "  4 : \"item 4\",\n",
    "}\n",
    "\n",
    "Compdict = {i:f\"Item {i}\" for i in range(5)}\n",
    "\n",
    "print(Normaldict)\n",
    "print(Compdict)"
   ]
  },
  {
   "cell_type": "code",
   "execution_count": 16,
   "id": "e3b8ce93",
   "metadata": {},
   "outputs": [
    {
     "data": {
      "text/plain": [
       "{0: 'Item 0', 1: 'Item 1', 2: 'Item 2', 3: 'Item 3', 4: 'Item 4'}"
      ]
     },
     "execution_count": 16,
     "metadata": {},
     "output_type": "execute_result"
    }
   ],
   "source": [
    "dict1 = {i:f\"Item {i}\" for i in range(5)}\n",
    "dict1"
   ]
  },
  {
   "cell_type": "code",
   "execution_count": 17,
   "id": "86d23f1c",
   "metadata": {},
   "outputs": [
    {
     "name": "stdout",
     "output_type": "stream",
     "text": [
      "{0: 'Item 0', 1: 'Item 1', 2: 'Item 2', 3: 'Item 3', 4: 'Item 4'} \n",
      " {'Item 0': 0, 'Item 1': 1, 'Item 2': 2, 'Item 3': 3, 'Item 4': 4}\n"
     ]
    }
   ],
   "source": [
    "dict2 = {value:key for key,value in dict1.items()}\n",
    "print(dict1,\"\\n\", dict2)"
   ]
  },
  {
   "cell_type": "markdown",
   "id": "98ec68d4",
   "metadata": {},
   "source": [
    "# Set Comprehension"
   ]
  },
  {
   "cell_type": "code",
   "execution_count": 18,
   "id": "529ae6a5",
   "metadata": {},
   "outputs": [
    {
     "data": {
      "text/plain": [
       "{'a', 'b', 'c', 'd'}"
      ]
     },
     "execution_count": 18,
     "metadata": {},
     "output_type": "execute_result"
    }
   ],
   "source": [
    "alpha = {alpha for alpha in [\"a\", \"a\", \"b\", \"c\", \"d\", \"d\"]}\n",
    "alpha    "
   ]
  },
  {
   "cell_type": "markdown",
   "id": "2ae22074",
   "metadata": {},
   "source": [
    "# Generator Comprehension"
   ]
  },
  {
   "cell_type": "code",
   "execution_count": 19,
   "id": "f390edf3",
   "metadata": {},
   "outputs": [
    {
     "name": "stdout",
     "output_type": "stream",
     "text": [
      "0\n",
      "1\n"
     ]
    }
   ],
   "source": [
    "def gener(n):\n",
    "    for i in range(n):\n",
    "        yield i\n",
    "\n",
    "a = gener(5)\n",
    "print(a.__next__())\n",
    "print(a.__next__())"
   ]
  },
  {
   "cell_type": "code",
   "execution_count": 20,
   "id": "e97778b8",
   "metadata": {},
   "outputs": [
    {
     "name": "stdout",
     "output_type": "stream",
     "text": [
      "0\n",
      "1\n"
     ]
    }
   ],
   "source": [
    "gener = (i for i in range(5))\n",
    "#a = gener(5)\n",
    "print(gener.__next__())\n",
    "print(gener.__next__())"
   ]
  },
  {
   "cell_type": "code",
   "execution_count": 21,
   "id": "b4fb7be9",
   "metadata": {},
   "outputs": [
    {
     "name": "stdout",
     "output_type": "stream",
     "text": [
      "0\n",
      "2\n"
     ]
    }
   ],
   "source": [
    "evens = (i for i in range(100) if i%2==0)\n",
    "#print(type(evens))\n",
    "\n",
    "print(evens.__next__())\n",
    "print(evens.__next__())"
   ]
  },
  {
   "cell_type": "code",
   "execution_count": null,
   "id": "01ceef0e",
   "metadata": {},
   "outputs": [],
   "source": []
  }
 ],
 "metadata": {
  "kernelspec": {
   "display_name": "Python 3 (ipykernel)",
   "language": "python",
   "name": "python3"
  },
  "language_info": {
   "codemirror_mode": {
    "name": "ipython",
    "version": 3
   },
   "file_extension": ".py",
   "mimetype": "text/x-python",
   "name": "python",
   "nbconvert_exporter": "python",
   "pygments_lexer": "ipython3",
   "version": "3.8.8"
  }
 },
 "nbformat": 4,
 "nbformat_minor": 5
}
