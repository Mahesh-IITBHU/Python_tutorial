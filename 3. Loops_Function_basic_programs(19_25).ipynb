{
 "cells": [
  {
   "cell_type": "markdown",
   "id": "846b5b46",
   "metadata": {},
   "source": [
    "# Conditional Decision Making "
   ]
  },
  {
   "cell_type": "markdown",
   "id": "780ce594",
   "metadata": {},
   "source": [
    "<img src = \"image/CPU_units.png\" align=\"left\" style=\"width:350px; height:250px\"/>\n",
    "                          \n",
    "         CPU ----> Logic Units\n",
    "         Keyword = if, elif, else\n",
    "         Flowchart"
   ]
  },
  {
   "cell_type": "code",
   "execution_count": 1,
   "id": "79ff2005",
   "metadata": {},
   "outputs": [
    {
     "name": "stdout",
     "output_type": "stream",
     "text": [
      "Bye\n"
     ]
    }
   ],
   "source": [
    "if False:                         #True True/False\n",
    "    print(\"I'm right\")\n",
    "print(\"Bye\")"
   ]
  },
  {
   "cell_type": "code",
   "execution_count": 2,
   "id": "14f3a520",
   "metadata": {},
   "outputs": [
    {
     "name": "stdout",
     "output_type": "stream",
     "text": [
      "Even\n",
      "Bye\n"
     ]
    }
   ],
   "source": [
    "x = 14                           #Try [2,7,9,16, etc]\n",
    "r = x % 2\n",
    "\n",
    "if r == 0:\n",
    "    print('Even')\n",
    "if r==1:                         #This is not the efficient code as program need to check for both if blocks.\n",
    "    print('Odd')\n",
    "print('Bye')"
   ]
  },
  {
   "cell_type": "code",
   "execution_count": 3,
   "id": "fb6e4c51",
   "metadata": {},
   "outputs": [
    {
     "name": "stdout",
     "output_type": "stream",
     "text": [
      "Even\n",
      "Bye\n"
     ]
    }
   ],
   "source": [
    "#If-else\n",
    "\n",
    "x = 12                           #Try [2,7,9,16, etc]\n",
    "r = x % 2\n",
    "\n",
    "if r == 0:\n",
    "    print('Even')\n",
    "else:                         \n",
    "    print('Odd')                #Use else instead, if 1st block evaluated to False will directly execute the else statement\n",
    "print('Bye')                    #Try to see using IDE like pycharm and debug to see steps "
   ]
  },
  {
   "cell_type": "code",
   "execution_count": 4,
   "id": "980f851e",
   "metadata": {},
   "outputs": [
    {
     "name": "stdout",
     "output_type": "stream",
     "text": [
      "Even\n",
      "Not so Great\n",
      "Bye\n"
     ]
    }
   ],
   "source": [
    "#Nested-if\n",
    "\n",
    "x = 2                        #Try [2,7,9,16, etc]\n",
    "r = x % 2\n",
    "\n",
    "if r == 0:\n",
    "    print('Even')\n",
    "    if x>5:                         \n",
    "        print('Great')\n",
    "    else:\n",
    "        print('Not so Great')\n",
    "else:\n",
    "    print('Odd')\n",
    "print('Bye')"
   ]
  },
  {
   "cell_type": "code",
   "execution_count": 5,
   "id": "34d6cca9",
   "metadata": {},
   "outputs": [
    {
     "name": "stdout",
     "output_type": "stream",
     "text": [
      "Wrong input\n"
     ]
    }
   ],
   "source": [
    "#if_elif_else\n",
    "\n",
    "x = 7\n",
    "if x==1:\n",
    "    print(\"One\")\n",
    "elif x==2:\n",
    "    print(\"Two\")\n",
    "elif x==3:\n",
    "    print(\"Three\")\n",
    "elif x==4:\n",
    "    print(\"Four\")\n",
    "else:\n",
    "    print(\"Wrong input\")"
   ]
  },
  {
   "cell_type": "markdown",
   "id": "895f576e",
   "metadata": {},
   "source": [
    "# Programming_Loops"
   ]
  },
  {
   "cell_type": "markdown",
   "id": "96f760ea",
   "metadata": {},
   "source": [
    "## 1. while loop\n",
    "\n",
    "- used for certain condition and iteration"
   ]
  },
  {
   "cell_type": "code",
   "execution_count": 6,
   "id": "03720c37",
   "metadata": {},
   "outputs": [
    {
     "name": "stdout",
     "output_type": "stream",
     "text": [
      "Mahesh\n",
      "Mahesh\n",
      "Mahesh\n",
      "Mahesh\n",
      "Mahesh\n"
     ]
    }
   ],
   "source": [
    "i = 1                            #step1 : Initialization       #Counter variable 'i'\n",
    "\n",
    "while i<=5:                      #step2 : Condition\n",
    "    print(\"Mahesh\")\n",
    "    i+=1                         #Step3 : Increment/Decrement"
   ]
  },
  {
   "cell_type": "code",
   "execution_count": 7,
   "id": "8aa3a9e4",
   "metadata": {},
   "outputs": [
    {
     "name": "stdout",
     "output_type": "stream",
     "text": [
      "Purbia 5\n",
      "Purbia 4\n",
      "Purbia 3\n",
      "Purbia 2\n",
      "Purbia 1\n"
     ]
    }
   ],
   "source": [
    "i = 5                            #step1 : Initialization       #Counter variable 'i'\n",
    "\n",
    "while i>=1:                      #step2 : Condition\n",
    "    print(\"Purbia\",i)\n",
    "    i-=1                         #Step3 : Increment/Decrement"
   ]
  },
  {
   "cell_type": "markdown",
   "id": "0c446d84",
   "metadata": {},
   "source": [
    "##### Perform Loops operation using Pycharm IDE - Check working by debugging the code"
   ]
  },
  {
   "cell_type": "code",
   "execution_count": 8,
   "id": "4a6c3f3c",
   "metadata": {},
   "outputs": [
    {
     "name": "stdout",
     "output_type": "stream",
     "text": [
      "Mahesh\n",
      "DON\n",
      "DON\n",
      "DON\n",
      "DON\n",
      "\n",
      "Mahesh\n",
      "\n",
      "Mahesh\n",
      "\n",
      "Mahesh\n",
      "\n",
      "Mahesh\n",
      "\n"
     ]
    }
   ],
   "source": [
    "#Nested_While Loop\n",
    "i = 1\n",
    "j = 1                                   #since counter for variable j is updated outside the i counter hence not working for \n",
    "while i<=5:                             #updating i value,   visualise it using Pycharm IDE\n",
    "    print(\"Mahesh\")  \n",
    "    while j<=4:\n",
    "        print(\"DON\")\n",
    "        j=j+1           \n",
    "    i=i+1\n",
    "    print()"
   ]
  },
  {
   "cell_type": "code",
   "execution_count": 9,
   "id": "505a725b",
   "metadata": {},
   "outputs": [
    {
     "name": "stdout",
     "output_type": "stream",
     "text": [
      "Mahesh\n",
      "DON\n",
      "DON\n",
      "DON\n",
      "DON\n",
      "\n",
      "Mahesh\n",
      "DON\n",
      "DON\n",
      "DON\n",
      "DON\n",
      "\n",
      "Mahesh\n",
      "DON\n",
      "DON\n",
      "DON\n",
      "DON\n",
      "\n",
      "Mahesh\n",
      "DON\n",
      "DON\n",
      "DON\n",
      "DON\n",
      "\n",
      "Mahesh\n",
      "DON\n",
      "DON\n",
      "DON\n",
      "DON\n",
      "\n"
     ]
    }
   ],
   "source": [
    "i = 1\n",
    "\n",
    "while i<=5:\n",
    "    print(\"Mahesh\")  \n",
    "    j=1                             #this will reinitialize j counter whenever i counter updated after nested while loop\n",
    "    while j<=4:\n",
    "        print(\"DON\")\n",
    "        j=j+1\n",
    "    i=i+1\n",
    "    print()"
   ]
  },
  {
   "cell_type": "code",
   "execution_count": 10,
   "id": "e5d3f72a",
   "metadata": {},
   "outputs": [
    {
     "name": "stdout",
     "output_type": "stream",
     "text": [
      "Mahesh  DON  DON  DON  DON  \n",
      "Mahesh  DON  DON  DON  DON  \n",
      "Mahesh  DON  DON  DON  DON  \n",
      "Mahesh  DON  DON  DON  DON  \n",
      "Mahesh  DON  DON  DON  DON  \n"
     ]
    }
   ],
   "source": [
    "i=1\n",
    "while i<=5:\n",
    "    print(\"Mahesh \", end=\" \")                  #after execution if (end = \" \") print in single line w/o moving to nextline\n",
    "    j=1\n",
    "    while j<=4:\n",
    "        print(\"DON \", end=\" \")\n",
    "        j=j+1\n",
    "    i=i+1\n",
    "    print()"
   ]
  },
  {
   "cell_type": "markdown",
   "id": "67152678",
   "metadata": {},
   "source": [
    "## 2. For Loop\n",
    "\n",
    "- for loop generally not require condition, it works with sequence(list, tuple, set, dictionary, range etc.)"
   ]
  },
  {
   "cell_type": "code",
   "execution_count": 11,
   "id": "db04f4d8",
   "metadata": {},
   "outputs": [
    {
     "name": "stdout",
     "output_type": "stream",
     "text": [
      "mahesh\n",
      "purbia\n",
      "26\n"
     ]
    }
   ],
   "source": [
    "x = ['mahesh', 'purbia', 26]\n",
    "\n",
    "for i in x:\n",
    "    print(i)"
   ]
  },
  {
   "cell_type": "code",
   "execution_count": 12,
   "id": "fb2726c2",
   "metadata": {},
   "outputs": [
    {
     "name": "stdout",
     "output_type": "stream",
     "text": [
      "M a h e s h "
     ]
    }
   ],
   "source": [
    "for i in 'Mahesh':\n",
    "    print(i, end = \" \")"
   ]
  },
  {
   "cell_type": "code",
   "execution_count": 13,
   "id": "1db4aec4",
   "metadata": {},
   "outputs": [
    {
     "name": "stdout",
     "output_type": "stream",
     "text": [
      "0 1 2 3 4 5 6 7 8 9 "
     ]
    }
   ],
   "source": [
    "for i in range(10):\n",
    "    print(i,end = \" \")"
   ]
  },
  {
   "cell_type": "code",
   "execution_count": 14,
   "id": "c36d4769",
   "metadata": {},
   "outputs": [
    {
     "name": "stdout",
     "output_type": "stream",
     "text": [
      "2 4 6 8 10 12 14 16 18 "
     ]
    }
   ],
   "source": [
    "for i in range(2,20,2):\n",
    "    print(i, end = \" \")"
   ]
  },
  {
   "cell_type": "code",
   "execution_count": 15,
   "id": "e920c5c9",
   "metadata": {},
   "outputs": [
    {
     "name": "stdout",
     "output_type": "stream",
     "text": [
      "100 90 80 70 60 50 40 30 20 10 "
     ]
    }
   ],
   "source": [
    "for i in range(100,0,-10):\n",
    "    print(i, end = \" \")"
   ]
  },
  {
   "cell_type": "code",
   "execution_count": 16,
   "id": "3e116a20",
   "metadata": {},
   "outputs": [
    {
     "name": "stdout",
     "output_type": "stream",
     "text": [
      "1 2 3 4 6 7 8 9 11 12 13 14 16 17 18 19 "
     ]
    }
   ],
   "source": [
    "for i in range(1,20):\n",
    "    if i%5 != 0:                       # print only if If i not divisible to 5 \n",
    "        print(i, end = (\" \"))"
   ]
  },
  {
   "cell_type": "markdown",
   "id": "3efa3090",
   "metadata": {},
   "source": [
    "# Keyword : Break , Continue , Pass in python"
   ]
  },
  {
   "cell_type": "markdown",
   "id": "4e9300ad",
   "metadata": {},
   "source": [
    "### Break"
   ]
  },
  {
   "cell_type": "code",
   "execution_count": 17,
   "id": "7a5659a2",
   "metadata": {},
   "outputs": [
    {
     "name": "stdout",
     "output_type": "stream",
     "text": [
      "How many Chocolate you want? 9\n",
      "Choclate\n",
      "Choclate\n",
      "Choclate\n",
      "Choclate\n",
      "out of stock\n",
      "Choclate\n",
      "out of stock\n",
      "Choclate\n",
      "out of stock\n",
      "Choclate\n",
      "out of stock\n",
      "Choclate\n",
      "out of stock\n",
      "Choclate\n"
     ]
    }
   ],
   "source": [
    "x = int(input(\"How many Chocolate you want? \"))\n",
    "av = 4                                             #variable available not of coclate\n",
    "\n",
    "i=1\n",
    "while i<=x:\n",
    "    if i > av:\n",
    "        print(\"out of stock\")\n",
    "        \n",
    "    print(\"Choclate\" )\n",
    "    i += 1 "
   ]
  },
  {
   "cell_type": "code",
   "execution_count": 18,
   "id": "f101ade6",
   "metadata": {},
   "outputs": [
    {
     "name": "stdout",
     "output_type": "stream",
     "text": [
      "How many Chocolate you want? 9\n",
      "Choclate\n",
      "Choclate\n",
      "Choclate\n",
      "Choclate\n",
      "out of stock\n"
     ]
    }
   ],
   "source": [
    "x = int(input(\"How many Chocolate you want? \"))\n",
    "av = 4                                             #variable available not of coclate\n",
    "\n",
    "i=1\n",
    "while i<=x:\n",
    "    if i > av:\n",
    "        print(\"out of stock\")\n",
    "        break                        #will not evalute further as soon as the condition satistfied, jump out of while loop\n",
    "        \n",
    "    print(\"Choclate\" )\n",
    "    i += 1 "
   ]
  },
  {
   "cell_type": "markdown",
   "id": "fae76f23",
   "metadata": {},
   "source": [
    "### Continue"
   ]
  },
  {
   "cell_type": "code",
   "execution_count": 19,
   "id": "e2387dbd",
   "metadata": {},
   "outputs": [
    {
     "name": "stdout",
     "output_type": "stream",
     "text": [
      "1 2 4 7 8 11 13 14 16 17 19 22 23 26 28 29 31 32 34 37 38 "
     ]
    }
   ],
   "source": [
    "for i in range (1,40):       #print no in range from 1 to 40\n",
    "    if i%3==0 or i%5==0:    # But Want to skip numbers which are divisible  by 3 or 5 \n",
    "        continue            #it will skip the remaining statement if condition satisfied but loop will continue\n",
    "    print(i, end =\" \")"
   ]
  },
  {
   "cell_type": "markdown",
   "id": "437f24ac",
   "metadata": {},
   "source": [
    "### Pass"
   ]
  },
  {
   "cell_type": "code",
   "execution_count": 20,
   "id": "c53d5cfd",
   "metadata": {},
   "outputs": [],
   "source": [
    "# will generate error\n",
    "\n",
    "# for i in range(1,50):\n",
    "#     if(i%2 != 0): \n",
    "#                             #we cannt let the if block w/o statement                  \n",
    "#     else:\n",
    "#         print(i,end = \" \")\n",
    "# print(\"bye\")  "
   ]
  },
  {
   "cell_type": "code",
   "execution_count": 21,
   "id": "0b24ed17",
   "metadata": {},
   "outputs": [
    {
     "name": "stdout",
     "output_type": "stream",
     "text": [
      "2 4 6 8 10 12 14 16 18 20 22 24 26 28 30 32 34 36 38 40 42 44 46 48 bye\n"
     ]
    }
   ],
   "source": [
    "for i in range(1,50):\n",
    "    if(i%2 != 0):            # if value of i is not divisible 2 (odd numbers) then we dont want to execute other steps\n",
    "        pass                 # pass or ignore the statement\n",
    "    else:\n",
    "        print(i,end = \" \")\n",
    "print(\"bye\")  "
   ]
  },
  {
   "cell_type": "markdown",
   "id": "07446e7a",
   "metadata": {},
   "source": [
    "#### More examples for clarification : break, continue, pass "
   ]
  },
  {
   "cell_type": "code",
   "execution_count": 22,
   "id": "d3707b9a",
   "metadata": {},
   "outputs": [
    {
     "name": "stdout",
     "output_type": "stream",
     "text": [
      "Hello 0\n",
      "Hello 1\n",
      "Hello 2\n",
      "Hello 4\n"
     ]
    }
   ],
   "source": [
    "for i in range(5):\n",
    "    if i==3:\n",
    "        continue                   #it still continue the loop and run next iteration\n",
    "    print(\"Hello\",i)"
   ]
  },
  {
   "cell_type": "code",
   "execution_count": 23,
   "id": "f260e9dc",
   "metadata": {},
   "outputs": [
    {
     "name": "stdout",
     "output_type": "stream",
     "text": [
      "Hello 0\n",
      "Hello 1\n",
      "Hello 2\n"
     ]
    }
   ],
   "source": [
    "for i in range(5):\n",
    "    if i==3:\n",
    "        break                      #directly jump out of the loop w/o executing the statement as soon as condion satisfied\n",
    "    print(\"Hello\",i)"
   ]
  },
  {
   "cell_type": "code",
   "execution_count": 24,
   "id": "eff06f25",
   "metadata": {},
   "outputs": [],
   "source": [
    "def fun():\n",
    "    pass             #defining function but using pass so that not show error, and will code later as soon idea pops up"
   ]
  },
  {
   "cell_type": "markdown",
   "id": "72266dee",
   "metadata": {},
   "source": [
    "# Printing Patterns in Python"
   ]
  },
  {
   "cell_type": "code",
   "execution_count": 25,
   "id": "af3eaca2",
   "metadata": {},
   "outputs": [
    {
     "name": "stdout",
     "output_type": "stream",
     "text": [
      "# # # # \n",
      "# # # # \n",
      "# # # # \n",
      "# # # # \n"
     ]
    }
   ],
   "source": [
    "#Shape =\n",
    "\n",
    "# # # #\n",
    "# # # #\n",
    "# # # #\n",
    "# # # #\n",
    "\n",
    "for i in range(4):\n",
    "    for j in range(4):\n",
    "        print(\"#\", end = \" \")\n",
    "    print()        "
   ]
  },
  {
   "cell_type": "code",
   "execution_count": 26,
   "id": "23559e87",
   "metadata": {},
   "outputs": [
    {
     "name": "stdout",
     "output_type": "stream",
     "text": [
      "# \n",
      "# # \n",
      "# # # \n",
      "# # # # \n"
     ]
    }
   ],
   "source": [
    "for i in range(4):                   # i = rows, j = columns\n",
    "    for j in range(i+1):             #since value i ends with 4 loop will run only to 3 hence i+1\n",
    "        print(\"#\", end = \" \")\n",
    "    print()\n",
    "    \n",
    "# No of columns in a particular row is depend upon the row number\n",
    "# i.e no of printing \"#\" depend upon row number"
   ]
  },
  {
   "cell_type": "code",
   "execution_count": 27,
   "id": "7d5d28cf",
   "metadata": {},
   "outputs": [
    {
     "name": "stdout",
     "output_type": "stream",
     "text": [
      "# # # # \n",
      "# # # \n",
      "# # \n",
      "# \n"
     ]
    }
   ],
   "source": [
    "for i in range(4):                   # i = rows, j = columns\n",
    "    for j in range(4-i):             #since value i ends with 4 loop will run only to 3 hence i+1\n",
    "        print(\"#\", end = \" \")   \n",
    "    print()\n",
    "    \n",
    "#as row no increases , no of \"#\" decreases"
   ]
  },
  {
   "cell_type": "markdown",
   "id": "bae80cf2",
   "metadata": {},
   "source": [
    "# For Else in Python"
   ]
  },
  {
   "cell_type": "code",
   "execution_count": 28,
   "id": "079fced8",
   "metadata": {},
   "outputs": [
    {
     "name": "stdout",
     "output_type": "stream",
     "text": [
      "15\n"
     ]
    }
   ],
   "source": [
    "nums = [12,15,18,21,26]\n",
    "\n",
    "for num in nums:\n",
    "    if num % 5 == 0:\n",
    "        print(num)"
   ]
  },
  {
   "cell_type": "code",
   "execution_count": 29,
   "id": "b4c32855",
   "metadata": {},
   "outputs": [
    {
     "name": "stdout",
     "output_type": "stream",
     "text": [
      "15\n",
      "25\n"
     ]
    }
   ],
   "source": [
    "nums = [12,15,18,21,25]\n",
    "\n",
    "for num in nums:\n",
    "    if num % 5 == 0:\n",
    "        print(num)"
   ]
  },
  {
   "cell_type": "code",
   "execution_count": 30,
   "id": "c65f9d50",
   "metadata": {},
   "outputs": [
    {
     "name": "stdout",
     "output_type": "stream",
     "text": [
      "15\n"
     ]
    }
   ],
   "source": [
    "# want to print only 1 number as soon as the condition satisfied\n",
    "\n",
    "nums = [12,15,18,21,25]\n",
    "\n",
    "for num in nums:\n",
    "    if num % 5 == 0:\n",
    "        print(num)\n",
    "        break"
   ]
  },
  {
   "cell_type": "code",
   "execution_count": 31,
   "id": "6df512b2",
   "metadata": {},
   "outputs": [
    {
     "name": "stdout",
     "output_type": "stream",
     "text": [
      "Not found\n"
     ]
    }
   ],
   "source": [
    "nums = [12,16,18,21,23]\n",
    "\n",
    "for num in nums:\n",
    "    if num % 5 == 0:\n",
    "        print(num)\n",
    "        break                     \n",
    "else:\n",
    "    print(\"Not found\")"
   ]
  },
  {
   "cell_type": "markdown",
   "id": "926cad7d",
   "metadata": {},
   "source": [
    "## Prime Number in Python"
   ]
  },
  {
   "cell_type": "code",
   "execution_count": 32,
   "id": "c8d0ab74",
   "metadata": {},
   "outputs": [
    {
     "name": "stdout",
     "output_type": "stream",
     "text": [
      "Enter a number : 16\n",
      "Not Prime\n"
     ]
    }
   ],
   "source": [
    "num = int(input(\"Enter a number : \"))\n",
    "\n",
    "for i in range(2,num):\n",
    "    if num % i == 0:             #If number is not divisible by any number except 1 and itself is k/as prime\n",
    "        print(\"Not Prime\")       #If no. is divisible by other no  i.e it give remainder 0, its not prime\n",
    "        break\n",
    "else:\n",
    "    print(\"Prime\")\n",
    "    "
   ]
  },
  {
   "cell_type": "code",
   "execution_count": null,
   "id": "e38bfa9c",
   "metadata": {},
   "outputs": [],
   "source": []
  },
  {
   "cell_type": "code",
   "execution_count": null,
   "id": "9f8741d1",
   "metadata": {},
   "outputs": [],
   "source": []
  }
 ],
 "metadata": {
  "kernelspec": {
   "display_name": "Python 3 (ipykernel)",
   "language": "python",
   "name": "python3"
  },
  "language_info": {
   "codemirror_mode": {
    "name": "ipython",
    "version": 3
   },
   "file_extension": ".py",
   "mimetype": "text/x-python",
   "name": "python",
   "nbconvert_exporter": "python",
   "pygments_lexer": "ipython3",
   "version": "3.8.8"
  }
 },
 "nbformat": 4,
 "nbformat_minor": 5
}
