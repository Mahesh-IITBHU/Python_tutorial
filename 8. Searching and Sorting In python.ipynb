{
 "cells": [
  {
   "cell_type": "markdown",
   "id": "b945a825",
   "metadata": {},
   "source": [
    "# LinearSearch"
   ]
  },
  {
   "cell_type": "code",
   "execution_count": 2,
   "id": "e51899d2",
   "metadata": {},
   "outputs": [
    {
     "name": "stdout",
     "output_type": "stream",
     "text": [
      "Enter Number to search: 15\n",
      "Not found\n"
     ]
    }
   ],
   "source": [
    "list = [5,8,4,6,9,2]\n",
    "n = int(input(\"Enter Number to search: \"))\n",
    "\n",
    "def search(list,n):\n",
    "    i=0\n",
    "    while i<len(list):\n",
    "        if list[i] == n:\n",
    "            return True\n",
    "        i += 1\n",
    "    return False\n",
    "if search(list,n):\n",
    "    print('found')\n",
    "else:\n",
    "    print('Not found')"
   ]
  },
  {
   "cell_type": "code",
   "execution_count": 3,
   "id": "d42114f6",
   "metadata": {},
   "outputs": [
    {
     "name": "stdout",
     "output_type": "stream",
     "text": [
      "Enter Number to search: 9\n",
      "Found at 5\n"
     ]
    }
   ],
   "source": [
    "list = [5,8,4,6,9,2]\n",
    "n = int(input(\"Enter Number to search: \"))\n",
    "\n",
    "pos = -1                                  #global variable\n",
    "def search(list,n):\n",
    "    i=0\n",
    "    while i<len(list):\n",
    "        if list[i] == n:\n",
    "            globals()['pos'] = i                       #Local Variable\n",
    "            return True\n",
    "        i += 1\n",
    "    return False\n",
    "\n",
    "if search(list,n):\n",
    "    print('Found at', pos+1)\n",
    "else:\n",
    "    print('Not found')"
   ]
  },
  {
   "cell_type": "markdown",
   "id": "0a670cac",
   "metadata": {},
   "source": [
    "### Assignment : Trying LinearSearch using for loop"
   ]
  },
  {
   "cell_type": "code",
   "execution_count": null,
   "id": "d8ff7c18",
   "metadata": {},
   "outputs": [],
   "source": []
  },
  {
   "cell_type": "markdown",
   "id": "8740f0ce",
   "metadata": {},
   "source": [
    "# Binary Search using Python\n",
    "\n",
    "- Value in the list should be sorted\n",
    "- Useful in case of searching element in a long long list.\n",
    "\n",
    "- Define postion lower and upper bound and then calulate mid positon (low+upper)/2\n",
    "> - If search value is smaller then change upper bound & mid becomes new upper bound.\n",
    "> - If search value is bigger then change lower bound & mid becomes new lower bound."
   ]
  },
  {
   "cell_type": "code",
   "execution_count": 5,
   "id": "d9a1cbc1",
   "metadata": {},
   "outputs": [
    {
     "name": "stdout",
     "output_type": "stream",
     "text": [
      "Enter Number to search: 199\n",
      "Not found\n"
     ]
    }
   ],
   "source": [
    "list = [4,7,8,12,45,99,102,702,10987,56668]\n",
    "n = int(input(\"Enter Number to search: \"))\n",
    "\n",
    "pos = -1                                  #global variable\n",
    "def search(list,n):\n",
    "    l = 0\n",
    "    u = len(list)-1\n",
    "    while l <= u:\n",
    "        mid = (l+u)//2\n",
    "        \n",
    "        if list[mid] == n:\n",
    "            globals()['pos'] = mid\n",
    "            return True\n",
    "        else:\n",
    "            if list[mid] < n:\n",
    "                l = mid+1\n",
    "            else:\n",
    "                u = mid-1\n",
    "    return False\n",
    "                        \n",
    "if search(list,n):\n",
    "    print('Found at', pos+1)\n",
    "else:\n",
    "    print('Not found')"
   ]
  },
  {
   "cell_type": "markdown",
   "id": "151e42bd",
   "metadata": {},
   "source": [
    "# Sorting Techniques\n",
    "- Generally all sorting techniques have swapping method involve\n",
    "\n",
    "\n",
    "# 1. Bubble Sort\n",
    "\n",
    "<img src = \"image/Bubble_Sort.png\" align=\"left\" style=\"width:400px; height:250px\"/>"
   ]
  },
  {
   "cell_type": "code",
   "execution_count": 18,
   "id": "1802fe36",
   "metadata": {},
   "outputs": [
    {
     "name": "stdout",
     "output_type": "stream",
     "text": [
      "[3, 5, 8, 6, 7, 2]\n",
      "[3, 5, 8, 6, 7, 2]\n",
      "[3, 5, 6, 8, 7, 2]\n",
      "[3, 5, 6, 7, 8, 2]\n",
      "[3, 5, 6, 7, 2, 8]\n",
      "[3, 5, 6, 7, 2, 8]\n",
      "[3, 5, 6, 7, 2, 8]\n",
      "[3, 5, 6, 7, 2, 8]\n",
      "[3, 5, 6, 2, 7, 8]\n",
      "[3, 5, 6, 2, 7, 8]\n",
      "[3, 5, 6, 2, 7, 8]\n",
      "[3, 5, 2, 6, 7, 8]\n",
      "[3, 5, 2, 6, 7, 8]\n",
      "[3, 2, 5, 6, 7, 8]\n",
      "[2, 3, 5, 6, 7, 8]\n",
      "\n",
      "final sorted array:  [2, 3, 5, 6, 7, 8]\n"
     ]
    }
   ],
   "source": [
    "def sort(nums):\n",
    "    for i in range(len(nums)-1 , 0 ,-1):       #range(start,end, step)  --- moving from right ro left\n",
    "        for j in range(i):                    #after every iteration max value will be fixed at the end        \n",
    "            if nums[j] > nums[j+1]:            #and the 2nd last value would be the 2nd biggest value  \n",
    "                temp = nums[j]\n",
    "                nums[j] = nums[j+1]\n",
    "                nums[j+1] = temp\n",
    "            print(nums)    \n",
    "nums = [5,3,8,6,7,2]\n",
    "sort(nums)\n",
    "print(\"\\nfinal sorted array: \",nums)"
   ]
  },
  {
   "cell_type": "markdown",
   "id": "6f65e6be",
   "metadata": {},
   "source": [
    "# 2. Selection Sort\n",
    "\n",
    "- Move from start to end and findout either min or max value.\n",
    "- On comparison will move the min value one side and thus will get a sorted and unsorted array.\n",
    "- Repeat until fully sorted array found.\n",
    "\n",
    "<img src = \"image/Selection_sort.png\" align=\"left\" style=\"width:350px; height:400px\"/>"
   ]
  },
  {
   "cell_type": "code",
   "execution_count": 19,
   "id": "72a6517e",
   "metadata": {},
   "outputs": [
    {
     "name": "stdout",
     "output_type": "stream",
     "text": [
      "[2, 3, 8, 6, 7, 5]\n",
      "[2, 3, 8, 6, 7, 5]\n",
      "[2, 3, 5, 6, 7, 8]\n",
      "[2, 3, 5, 6, 7, 8]\n",
      "[2, 3, 5, 6, 7, 8]\n",
      "\n",
      "Final sorted array:  [2, 3, 5, 6, 7, 8]\n"
     ]
    }
   ],
   "source": [
    "def sort(nums):\n",
    "    for i in range(5):                     #moving from 0 to max\n",
    "        minpos = i                         #minpos holds the min position \n",
    "        for j in range(i,6):   \n",
    "            if nums[j] < nums[minpos]:\n",
    "                minpos = j\n",
    "                \n",
    "        temp = nums[i]                    #swapping index value i\n",
    "        nums[i] = nums[minpos]\n",
    "        nums[minpos] = temp\n",
    "        print(nums) \n",
    "            \n",
    "nums = [5,3,8,6,7,2]\n",
    "sort(nums) \n",
    "print(\"\\nFinal sorted array: \",nums)"
   ]
  },
  {
   "cell_type": "markdown",
   "id": "cbe8047f",
   "metadata": {},
   "source": [
    "- 1st -> 2&5 swapped\n",
    "- 2nd -> \n",
    "- 3rd -> 5&8 swapped    as i = 2 for 3rd iteration\n",
    "- 4th & 5th remains sorted"
   ]
  },
  {
   "cell_type": "code",
   "execution_count": null,
   "id": "efc97c65",
   "metadata": {},
   "outputs": [],
   "source": []
  }
 ],
 "metadata": {
  "kernelspec": {
   "display_name": "Python 3 (ipykernel)",
   "language": "python",
   "name": "python3"
  },
  "language_info": {
   "codemirror_mode": {
    "name": "ipython",
    "version": 3
   },
   "file_extension": ".py",
   "mimetype": "text/x-python",
   "name": "python",
   "nbconvert_exporter": "python",
   "pygments_lexer": "ipython3",
   "version": "3.8.8"
  }
 },
 "nbformat": 4,
 "nbformat_minor": 5
}
