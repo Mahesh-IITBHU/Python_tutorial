{
 "cells": [
  {
   "cell_type": "markdown",
   "id": "3fffcce4",
   "metadata": {},
   "source": [
    "# Exception Handling \n",
    "\n",
    "##### 3 Types of errors\n",
    "\n",
    "1. Compile time error\n",
    "    > a. Syntactical error : e.g  missing (:), wrong spelling etc \n",
    "2. Logical Error\n",
    "    > e.g Showing wrong Output\n",
    "3. Run time error\n",
    "    > e.g divide by zero"
   ]
  },
  {
   "cell_type": "code",
   "execution_count": 1,
   "id": "81117b25",
   "metadata": {},
   "outputs": [
    {
     "name": "stdout",
     "output_type": "stream",
     "text": [
      "15\n",
      "0\n"
     ]
    },
    {
     "ename": "ZeroDivisionError",
     "evalue": "division by zero",
     "output_type": "error",
     "traceback": [
      "\u001b[1;31m---------------------------------------------------------------------------\u001b[0m",
      "\u001b[1;31mZeroDivisionError\u001b[0m                         Traceback (most recent call last)",
      "Input \u001b[1;32mIn [1]\u001b[0m, in \u001b[0;36m<cell line: 6>\u001b[1;34m()\u001b[0m\n\u001b[0;32m      3\u001b[0m a \u001b[38;5;241m=\u001b[39m \u001b[38;5;28mint\u001b[39m(\u001b[38;5;28minput\u001b[39m())\n\u001b[0;32m      4\u001b[0m b \u001b[38;5;241m=\u001b[39m \u001b[38;5;28mint\u001b[39m(\u001b[38;5;28minput\u001b[39m())\n\u001b[1;32m----> 6\u001b[0m \u001b[38;5;28mprint\u001b[39m(\u001b[43ma\u001b[49m\u001b[38;5;241;43m/\u001b[39;49m\u001b[43mb\u001b[49m)\n\u001b[0;32m      7\u001b[0m \u001b[38;5;28mprint\u001b[39m(\u001b[38;5;124m\"\u001b[39m\u001b[38;5;124mBye\u001b[39m\u001b[38;5;124m\"\u001b[39m)\n",
      "\u001b[1;31mZeroDivisionError\u001b[0m: division by zero"
     ]
    }
   ],
   "source": [
    "#Run time error :  zero division error :  a = 15, b = 0\n",
    "\n",
    "a = int(input())\n",
    "b = int(input())\n",
    "\n",
    "print(a/b)\n",
    "print(\"Bye\")"
   ]
  },
  {
   "cell_type": "code",
   "execution_count": 2,
   "id": "140df576",
   "metadata": {},
   "outputs": [
    {
     "name": "stdout",
     "output_type": "stream",
     "text": [
      "15\n",
      "0\n",
      "You cannt divide a number by zero\n",
      "Bye\n"
     ]
    }
   ],
   "source": [
    "#Run time error :  zero division error :  a = 15, b = 0\n",
    "\n",
    "a = int(input())\n",
    "b = int(input())\n",
    "\n",
    "try:\n",
    "    print(\"Result : \",a/b)\n",
    "except Exception:\n",
    "    print(\"You cannt divide a number by zero\")\n",
    "print(\"Bye\")"
   ]
  },
  {
   "cell_type": "code",
   "execution_count": 3,
   "id": "12700c59",
   "metadata": {},
   "outputs": [
    {
     "name": "stdout",
     "output_type": "stream",
     "text": [
      "15\n",
      "0\n",
      "You cannt divide a number by zero because of -  division by zero error\n",
      "Bye\n"
     ]
    }
   ],
   "source": [
    "a = int(input())\n",
    "b = int(input())\n",
    "\n",
    "try:\n",
    "    print(\"Result : \",a/b)\n",
    "except Exception as e:\n",
    "    print(\"You cannt divide a number by zero because of - \", e, \"error\")\n",
    "print(\"Bye\")"
   ]
  },
  {
   "cell_type": "markdown",
   "id": "3d8dff4e",
   "metadata": {},
   "source": [
    "# finally block will execute whether we get error or not"
   ]
  },
  {
   "cell_type": "code",
   "execution_count": 4,
   "id": "c97d5dc0",
   "metadata": {},
   "outputs": [
    {
     "name": "stdout",
     "output_type": "stream",
     "text": [
      "15\n",
      "0\n",
      "resource open\n",
      "You cannt divide a number by zero because of -  division by zero error\n",
      "resource closed\n"
     ]
    }
   ],
   "source": [
    "a = int(input())\n",
    "b = int(input())\n",
    "\n",
    "try:\n",
    "    print(\"resource open\")\n",
    "    print(\"Result : \",a/b)\n",
    "    \n",
    "except Exception as e:\n",
    "    print(\"You cannt divide a number by zero because of - \", e, \"error\")\n",
    "    \n",
    "finally:\n",
    "    print(\"resource closed\")"
   ]
  },
  {
   "cell_type": "code",
   "execution_count": 6,
   "id": "62ab2a74",
   "metadata": {},
   "outputs": [
    {
     "name": "stdout",
     "output_type": "stream",
     "text": [
      "15\n",
      "3\n",
      "resource open\n",
      "Result :  5.0\n",
      "enter a number: mahesh\n",
      "Invalid Input\n",
      "resource closed\n"
     ]
    }
   ],
   "source": [
    "#To handle different known errors we can try different exception as below:-\n",
    "\n",
    "a = int(input())\n",
    "b = int(input())\n",
    "\n",
    "try:\n",
    "    print(\"resource open\")\n",
    "    print(\"Result : \",a/b)\n",
    "    k = int(input(\"enter a number: \"))\n",
    "    print(k)\n",
    "    \n",
    "except ZeroDivisionError as e:\n",
    "    print(\"You cannt divide a number by zero because of - \", e, \"error\")\n",
    "    \n",
    "except ValueError as e:\n",
    "    print(\"Invalid Input\")\n",
    "    \n",
    "except Exception as e:\n",
    "    print(\"Something went wrong...\")\n",
    "    \n",
    "finally:\n",
    "    print(\"resource closed\")"
   ]
  },
  {
   "cell_type": "markdown",
   "id": "d74744f8",
   "metadata": {},
   "source": [
    "# MultiThreading - \n",
    "### MultiTasking\n",
    "\n",
    "- Breaking down 1 Task into Multiple Process and then again breakdown those process into a thread\n",
    "- Thread is just like a light weight process when we break down the big task into small parts, each part will be called thread.\n",
    "\n",
    "**This concept is very useful in Multitask work**"
   ]
  },
  {
   "cell_type": "code",
   "execution_count": 8,
   "id": "00c28253",
   "metadata": {},
   "outputs": [
    {
     "name": "stdout",
     "output_type": "stream",
     "text": [
      "Hello \n",
      "Hello \n",
      "Hello \n",
      "Hello \n",
      "Hello \n",
      "Hi\n",
      "Hi\n",
      "Hi\n",
      "Hi\n",
      "Hi\n",
      "Bye\n"
     ]
    }
   ],
   "source": [
    "from threading import *\n",
    "\n",
    "class Hello(Thread):\n",
    "    def run(self):\n",
    "        for i in range(5):\n",
    "            print(\"Hello \")\n",
    "            \n",
    "class Hi(Thread):\n",
    "    def run(self):\n",
    "        for i in range(5):\n",
    "            print(\"Hi\")\n",
    "\n",
    "#creating objects for \"hello\" and \"hi\"            \n",
    "t1 = Hello()\n",
    "t2 = Hi()\n",
    "\n",
    "#calling the function/method for objects created\n",
    "t1.run()\n",
    "t2.run()\n",
    "\n",
    "print(\"Bye\")"
   ]
  },
  {
   "cell_type": "markdown",
   "id": "8ffd1b43",
   "metadata": {},
   "source": [
    "### Explaination\n",
    "\n",
    "- Output is 5 times \"hello\" and \"hi\", since calling run of hello 1st and then hi hence printing in that order.\n",
    "- **Can we execute Hello and hi i.e 2 functions Simultaneously on different cores ??**\n",
    "- **By-default every execution has 1 thread so even if we are not creating a thread by ourself, we do have 1 thread and that is known as main thread**"
   ]
  },
  {
   "cell_type": "markdown",
   "id": "fb657ad1",
   "metadata": {},
   "source": [
    "# Creating Threads - to run functions individually on different cores\n",
    "\n",
    "\n",
    "<img src = \"image/Main_thread.png\" align=\"left\" style=\"width:350px; height:250px\"/>\n"
   ]
  },
  {
   "cell_type": "code",
   "execution_count": 10,
   "id": "78171194",
   "metadata": {},
   "outputs": [
    {
     "name": "stdout",
     "output_type": "stream",
     "text": [
      "Hello \n",
      "Hello \n",
      "Hello \n",
      "Hello \n",
      "Hello \n",
      "Hello \n",
      "Hello \n",
      "Hello \n",
      "Hi\n",
      "Hi\n",
      "Hi\n",
      "Hi\n",
      "ByeHello \n",
      "Hello \n",
      "Hi\n",
      "Hi\n",
      "Hi\n",
      "Hi\n",
      "Hi\n",
      "Hi\n",
      "\n"
     ]
    }
   ],
   "source": [
    "from threading import *\n",
    "\n",
    "class Hello(Thread):                      #Hello is now treated as subclass of thread\n",
    "    def run(self):\n",
    "        for i in range(10):\n",
    "            print(\"Hello \")\n",
    "            \n",
    "class Hi(Thread):                         #Hi is now treated as subclass of thread\n",
    "    def run(self):\n",
    "        for i in range(10):\n",
    "            print(\"Hi\")\n",
    "            \n",
    "t1 = Hello()\n",
    "t2 = Hi()\n",
    "\n",
    "t1.start()           #To create thread instead of calling a run method need to call start method for objects created\n",
    "t2.start()           #At the back start method internally calls the run method, since run method is define inside thread class \n",
    "\n",
    "print(\"Bye\")"
   ]
  },
  {
   "cell_type": "markdown",
   "id": "9d3ea58b",
   "metadata": {},
   "source": [
    "### Parallel execution is taking place but not in proper sequence as we wanted it to be.\n",
    "- It is because at all the execution is taking place very fast hence need to schedule the execution by delaying them."
   ]
  },
  {
   "cell_type": "code",
   "execution_count": 12,
   "id": "04904b24",
   "metadata": {},
   "outputs": [
    {
     "name": "stdout",
     "output_type": "stream",
     "text": [
      "Hello \n",
      "Hi\n",
      "Bye\n",
      "HiHello \n",
      "\n",
      "HiHello \n",
      "\n",
      "Hello Hi\n",
      "\n",
      "Hello Hi\n",
      "\n",
      "Hi\n",
      "Hello \n",
      "HiHello \n",
      "\n",
      "Hello Hi\n",
      "\n",
      "HiHello \n",
      "\n",
      "Hello Hi\n",
      "\n"
     ]
    }
   ],
   "source": [
    "from time import sleep\n",
    "from threading import *\n",
    "\n",
    "class Hello(Thread):\n",
    "    def run(self):\n",
    "        for i in range(10):\n",
    "            print(\"Hello \")\n",
    "            sleep(1)\n",
    "class Hi(Thread):\n",
    "    def run(self):\n",
    "        for i in range(10):\n",
    "            print(\"Hi\")\n",
    "            sleep(1)\n",
    "                \n",
    "t1 = Hello()\n",
    "t2 = Hi()\n",
    "\n",
    "t1.start()\n",
    "t2.start()\n",
    "\n",
    "print(\"Bye\")"
   ]
  },
  {
   "cell_type": "markdown",
   "id": "c41e5db1",
   "metadata": {},
   "source": [
    "### Collision : 2 threads are executing at the same time in CPU\n",
    "- **How to avoid collision??** : Collision is happening because after sleeping they are going to CPU at the same time.\n",
    "- Creating gap between both execution method could help us."
   ]
  },
  {
   "cell_type": "code",
   "execution_count": 15,
   "id": "709fd5d0",
   "metadata": {},
   "outputs": [
    {
     "name": "stdout",
     "output_type": "stream",
     "text": [
      "Hello \n",
      "Hi\n",
      "Bye\n",
      "Hello \n",
      "Hi\n",
      "Hello \n",
      "Hi\n",
      "Hello \n",
      "Hi\n",
      "Hello \n",
      "Hi\n",
      "Hello \n",
      "Hi\n",
      "Hello \n",
      "Hi\n",
      "Hello \n",
      "Hi\n",
      "Hello \n",
      "Hi\n",
      "Hello \n",
      "Hi\n"
     ]
    }
   ],
   "source": [
    "from time import sleep\n",
    "from threading import *\n",
    "\n",
    "class Hello(Thread):\n",
    "    def run(self):\n",
    "        for i in range(10):\n",
    "            print(\"Hello \")\n",
    "            sleep(1)\n",
    "            \n",
    "class Hi(Thread):\n",
    "    def run(self):\n",
    "        for i in range(10):\n",
    "            print(\"Hi\")\n",
    "            sleep(1)\n",
    "            \n",
    "t1 = Hello()\n",
    "t2 = Hi()\n",
    "\n",
    "t1.start()\n",
    "sleep(0.2)              #Creating gap between both execution of about 0.2 sec to avoid collision\n",
    "t2.start()\n",
    "\n",
    "print(\"Bye\")"
   ]
  },
  {
   "cell_type": "markdown",
   "id": "10f8f668",
   "metadata": {},
   "source": [
    "## **We have 3 threads now : 1. Main thread   2. t1 thread   3. t2 thread**\n",
    "- **Since main thread has responsibiltity to start t1 and t2 thread and also to print bye** hence bye is printed before the executing of all \"hi\" and \"hello\". \n",
    "> - How to print Bye at the end now???\n",
    "\n",
    "- We will **ask main thread** to execute printing bye **after finishing the hello and hi** by using **`join`** Method**"
   ]
  },
  {
   "cell_type": "code",
   "execution_count": 16,
   "id": "cdba83f2",
   "metadata": {},
   "outputs": [
    {
     "name": "stdout",
     "output_type": "stream",
     "text": [
      "Hello \n",
      "Hi\n",
      "Hello \n",
      "Hi\n",
      "Hello \n",
      "Hi\n",
      "Hello \n",
      "Hi\n",
      "Hello \n",
      "Hi\n",
      "Bye\n"
     ]
    }
   ],
   "source": [
    "from time import sleep\n",
    "from threading import *\n",
    "\n",
    "class Hello(Thread):\n",
    "    def run(self):\n",
    "        for i in range(5):\n",
    "            print(\"Hello \")\n",
    "            sleep(1)\n",
    "            \n",
    "class Hi(Thread):\n",
    "    def run(self):\n",
    "        for i in range(5):\n",
    "            print(\"Hi\")\n",
    "            sleep(1)\n",
    "            \n",
    "t1 = Hello()\n",
    "t2 = Hi()\n",
    "\n",
    "t1.start()\n",
    "sleep(0.2)              #Creating gap between both execution of about 0.2 sec to avoid collision\n",
    "t2.start()\n",
    "\n",
    "t1.join()               #Join method used to delay execution of main thread and perform t1 and t2 thread 1st.   \n",
    "t2.join()\n",
    "\n",
    "print(\"Bye\")"
   ]
  },
  {
   "cell_type": "markdown",
   "id": "8c070fc7",
   "metadata": {},
   "source": [
    "# File Handling in Python\n",
    "\n",
    "- r = read, w = write, a = append\n",
    "- rb = read binary, wb = write binary"
   ]
  },
  {
   "cell_type": "code",
   "execution_count": 48,
   "id": "86e5f01b",
   "metadata": {},
   "outputs": [
    {
     "name": "stdout",
     "output_type": "stream",
     "text": [
      "My name is Mahesh Purbia\n",
      "I am a native of Udaipur\n",
      "I Achieved AIR 68 in GATE(TF) and Selected for MTech programme in IIT BHU.\n",
      "I am pursuing masters in Decision Sciences and Engineering\n",
      "Before Mtech I have done my graduation in Textile Chemistry and also worked for 3 years in Raymond Lted Jalgaon section handling Operation activity in the Wet processing Department.\n"
     ]
    }
   ],
   "source": [
    "f = open('MyData','r')\n",
    "print(f.read())"
   ]
  },
  {
   "cell_type": "code",
   "execution_count": 49,
   "id": "6ea086c0",
   "metadata": {},
   "outputs": [
    {
     "name": "stdout",
     "output_type": "stream",
     "text": [
      "My name is Mahesh Purbia\n",
      "\n",
      "I am a native of Udaipur\n",
      "\n"
     ]
    }
   ],
   "source": [
    "f = open('MyData','r')\n",
    "print(f.readline())\n",
    "print(f.readline()) #as print command would itself print a new line hence an space will create"
   ]
  },
  {
   "cell_type": "code",
   "execution_count": 50,
   "id": "d9d946da",
   "metadata": {},
   "outputs": [
    {
     "name": "stdout",
     "output_type": "stream",
     "text": [
      "My name is Mahesh Purbia\n",
      "I am a native of Udaipur\n"
     ]
    }
   ],
   "source": [
    "f = open('MyData','r')\n",
    "print(f.readline(), end =\"\")\n",
    "print(f.readline(), end =\"\")"
   ]
  },
  {
   "cell_type": "code",
   "execution_count": 51,
   "id": "41f25d0c",
   "metadata": {},
   "outputs": [
    {
     "data": {
      "text/plain": [
       "83"
      ]
     },
     "execution_count": 51,
     "metadata": {},
     "output_type": "execute_result"
    }
   ],
   "source": [
    "f1 = open('MaheshSubject', 'w')        #This will create Maheshsubject file and then we can write in that file\n",
    "\n",
    "f1.write(\"Programming_DSA, DDM, Production Operation and Analysis, MCDM, Probability and Statistics\")\n",
    "f1.write(\"Stochastic, Machine Learning, SupplyChain Management,FaciltityLocation, Simulation,\")"
   ]
  },
  {
   "cell_type": "code",
   "execution_count": 52,
   "id": "ae7b23ea",
   "metadata": {},
   "outputs": [
    {
     "data": {
      "text/plain": [
       "12"
      ]
     },
     "execution_count": 52,
     "metadata": {},
     "output_type": "execute_result"
    }
   ],
   "source": [
    "# If we use \"w\" to write new data it will delete the previous data and store new data\n",
    "\n",
    "f1 = open('MaheshSubject','a')       #To append new data in the file use append instead\n",
    "f1.write(\"Mtech Thesis\")                                                       "
   ]
  },
  {
   "cell_type": "code",
   "execution_count": 53,
   "id": "ea3cbc71",
   "metadata": {},
   "outputs": [
    {
     "name": "stdout",
     "output_type": "stream",
     "text": [
      "I Achieved AIR 68 in GATE(TF) and Selected for MTech programme in IIT BHU.\n",
      "\n",
      "I am pursuing masters in Decision Sciences and Engineering\n",
      "\n",
      "Before Mtech I have done my graduation in Textile Chemistry and also worked for 3 years in Raymond Lted Jalgaon section handling Operation activity in the Wet processing Department.\n"
     ]
    }
   ],
   "source": [
    "#To read data 1 by 1 we can try following method:-\n",
    "for data in f:\n",
    "    print(data)\n",
    "    \n"
   ]
  },
  {
   "cell_type": "code",
   "execution_count": 54,
   "id": "75db4799",
   "metadata": {},
   "outputs": [],
   "source": [
    "f = open('MyData','r')\n",
    "f1 = open('abc', 'w')\n",
    "\n",
    "for data in f:\n",
    "    f1.write(data)"
   ]
  },
  {
   "cell_type": "markdown",
   "id": "80f08267",
   "metadata": {},
   "source": [
    "# Commenting in Python\n",
    "\n",
    "#  #  (Used for commenting line by line)\n",
    "#  \"\"\"    \"\"\" (Triple Double Quotes, Used for Documentation.)"
   ]
  },
  {
   "cell_type": "code",
   "execution_count": 3,
   "id": "5a458c23",
   "metadata": {},
   "outputs": [
    {
     "data": {
      "text/plain": [
       "'\\n\\n    Hello\\n    Mahesh\\n    Purbia\\n\\n'"
      ]
     },
     "execution_count": 3,
     "metadata": {},
     "output_type": "execute_result"
    }
   ],
   "source": [
    "# Hello\n",
    "\n",
    "\"\"\"\n",
    "\n",
    "    Hello\n",
    "    Mahesh\n",
    "    Purbia\n",
    "\n",
    "\"\"\""
   ]
  },
  {
   "cell_type": "code",
   "execution_count": null,
   "id": "a6d18e94",
   "metadata": {},
   "outputs": [],
   "source": []
  }
 ],
 "metadata": {
  "kernelspec": {
   "display_name": "Python 3 (ipykernel)",
   "language": "python",
   "name": "python3"
  },
  "language_info": {
   "codemirror_mode": {
    "name": "ipython",
    "version": 3
   },
   "file_extension": ".py",
   "mimetype": "text/x-python",
   "name": "python",
   "nbconvert_exporter": "python",
   "pygments_lexer": "ipython3",
   "version": "3.8.8"
  }
 },
 "nbformat": 4,
 "nbformat_minor": 5
}
