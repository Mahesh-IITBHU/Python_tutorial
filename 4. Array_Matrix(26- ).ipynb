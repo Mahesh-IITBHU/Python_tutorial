{
 "cells": [
  {
   "cell_type": "markdown",
   "id": "c7e17645",
   "metadata": {},
   "source": [
    "# Array in Python\n",
    "\n",
    "- In array all values are of same type\n",
    "- ## Advantage: \n",
    "- Arrays in python don't have specific size(Dynamic Array), means we can expand/shrink.\n",
    "- Methods: .append, .find, .index etc.\n",
    "\n",
    "- To us array need to import --->    **import array**\n",
    "\n",
    "<img src = \"image/array_type.png\" align=\"left\" style=\"width:500px; height:300px\"/>"
   ]
  },
  {
   "cell_type": "code",
   "execution_count": 1,
   "id": "ea0617fa",
   "metadata": {},
   "outputs": [],
   "source": [
    "import array as arr   # this requires calling function as arr.___()\n",
    "\n",
    "from array import *  #to avoid writing code as arr.___, we can directly call funcion by importing all the required function "
   ]
  },
  {
   "cell_type": "code",
   "execution_count": 2,
   "id": "d6c265d1",
   "metadata": {},
   "outputs": [
    {
     "name": "stdout",
     "output_type": "stream",
     "text": [
      "array('i', [5, 9, 8, 4, 2])\n"
     ]
    },
    {
     "data": {
      "text/plain": [
       "array.array"
      ]
     },
     "execution_count": 2,
     "metadata": {},
     "output_type": "execute_result"
    }
   ],
   "source": [
    "#1. specify type, but we have to use type code not the keywords\n",
    "#2. Mention values\n",
    "\n",
    "vals = array('i', [5,9,8,4,2])      \n",
    "print(vals)\n",
    "type(vals)"
   ]
  },
  {
   "cell_type": "code",
   "execution_count": 3,
   "id": "155e9cd6",
   "metadata": {},
   "outputs": [
    {
     "name": "stdout",
     "output_type": "stream",
     "text": [
      "(2151974287152, 5)\n"
     ]
    }
   ],
   "source": [
    "print(vals.buffer_info())              #gives( address, size) of array"
   ]
  },
  {
   "cell_type": "code",
   "execution_count": 4,
   "id": "04535c58",
   "metadata": {},
   "outputs": [
    {
     "name": "stdout",
     "output_type": "stream",
     "text": [
      "array('i', [2, 4, 8, 9, 5])\n"
     ]
    }
   ],
   "source": [
    "vals.reverse()\n",
    "print(vals)"
   ]
  },
  {
   "cell_type": "markdown",
   "id": "c392cd71",
   "metadata": {},
   "source": [
    "## Array using For Loop"
   ]
  },
  {
   "cell_type": "code",
   "execution_count": 5,
   "id": "56004de4",
   "metadata": {},
   "outputs": [
    {
     "name": "stdout",
     "output_type": "stream",
     "text": [
      "2 4 8 9 5 "
     ]
    }
   ],
   "source": [
    "for i in range(5):\n",
    "    print(vals[i], end = \" \")"
   ]
  },
  {
   "cell_type": "code",
   "execution_count": 6,
   "id": "a8097b2d",
   "metadata": {},
   "outputs": [
    {
     "name": "stdout",
     "output_type": "stream",
     "text": [
      "2 4 8 9 5 "
     ]
    }
   ],
   "source": [
    "for i in range(len(vals)):\n",
    "    print(vals[i], end = \" \")"
   ]
  },
  {
   "cell_type": "code",
   "execution_count": 7,
   "id": "51f56fd1",
   "metadata": {},
   "outputs": [
    {
     "name": "stdout",
     "output_type": "stream",
     "text": [
      "2 4 8 9 5 "
     ]
    }
   ],
   "source": [
    "for i in vals:\n",
    "    print(i, end = \" \")"
   ]
  },
  {
   "cell_type": "code",
   "execution_count": 8,
   "id": "6e7f4d49",
   "metadata": {},
   "outputs": [
    {
     "name": "stdout",
     "output_type": "stream",
     "text": [
      "2 4 8 9 5 "
     ]
    }
   ],
   "source": [
    "newArr = array(vals.typecode,(a for a in vals))   # creating new array with same values\n",
    "                                                  # since copying from the previous array, we can copy the type of array.....\n",
    "for i in newArr:                                  # using .typecode method\n",
    "    print(i, end = \" \")                           # using for loop we can assign values from previous array to new array."
   ]
  },
  {
   "cell_type": "code",
   "execution_count": 9,
   "id": "e76848a7",
   "metadata": {},
   "outputs": [
    {
     "name": "stdout",
     "output_type": "stream",
     "text": [
      "4 16 64 81 25 "
     ]
    }
   ],
   "source": [
    "newArr2 = array(vals.typecode,(a*a for a in vals))                                                    \n",
    "for i in newArr2:                                 \n",
    "    print(i, end = \" \") "
   ]
  },
  {
   "cell_type": "markdown",
   "id": "a957be1d",
   "metadata": {},
   "source": [
    "## Array using while Loop\n",
    "\n",
    "- **while loop require initialization, condition and the increment/decrement**"
   ]
  },
  {
   "cell_type": "code",
   "execution_count": 10,
   "id": "76ec8f93",
   "metadata": {},
   "outputs": [
    {
     "name": "stdout",
     "output_type": "stream",
     "text": [
      "4 16 64 81 25 "
     ]
    }
   ],
   "source": [
    "newArr3 = array(vals.typecode,(a*a for a in vals))   \n",
    "i = 0\n",
    "while i <len(newArr3):\n",
    "    print(newArr3[i], end = \" \")\n",
    "    i+=1"
   ]
  },
  {
   "cell_type": "markdown",
   "id": "2dfa9de2",
   "metadata": {},
   "source": [
    "## Array Values from user in python\n",
    "\n",
    "- Since we will take values from user, we dont know the size of the array, so how to create array ?"
   ]
  },
  {
   "cell_type": "code",
   "execution_count": 11,
   "id": "539ef5e1",
   "metadata": {},
   "outputs": [
    {
     "name": "stdout",
     "output_type": "stream",
     "text": [
      "Enter the length of array: 5\n",
      "Enter the next value: 5\n",
      "Enter the next value: 10\n",
      "Enter the next value: 15\n",
      "Enter the next value: 20\n",
      "Enter the next value: 25\n",
      "array('i', [5, 10, 15, 20, 25])\n"
     ]
    }
   ],
   "source": [
    "arr = array('i',[])                                   # creating empty array\n",
    "n = int(input(\"Enter the length of array: \"))\n",
    "\n",
    "for i in range(n):\n",
    "    x = int(input('Enter the next value: '))\n",
    "    arr.append(x)\n",
    "print(arr)"
   ]
  },
  {
   "cell_type": "code",
   "execution_count": 12,
   "id": "9122eac7",
   "metadata": {},
   "outputs": [
    {
     "name": "stdout",
     "output_type": "stream",
     "text": [
      "Enter the value for search: 20\n",
      "Required Index value is  3\n"
     ]
    }
   ],
   "source": [
    "val = int(input(\"Enter the value for search: \"))\n",
    "\n",
    "k=0\n",
    "for e in arr:                                                  #e = element\n",
    "    if e == val:\n",
    "        print('Required Index value is ',k)\n",
    "        break\n",
    "    k+=1 "
   ]
  },
  {
   "cell_type": "code",
   "execution_count": 13,
   "id": "018a3c2e",
   "metadata": {},
   "outputs": [
    {
     "name": "stdout",
     "output_type": "stream",
     "text": [
      "Enter the value for search: 15\n",
      "Required Index value is  2\n"
     ]
    }
   ],
   "source": [
    "val = int(input(\"Enter the value for search: \"))\n",
    "print('Required Index value is ',arr.index(val))"
   ]
  },
  {
   "cell_type": "markdown",
   "id": "5234a32a",
   "metadata": {},
   "source": [
    "# Accessing Array Elements\n",
    "\n",
    "<img src = \"image/Access_Arr.png\" align=\"left\" style=\"width:600px; height:450px\"/>"
   ]
  },
  {
   "cell_type": "code",
   "execution_count": 14,
   "id": "c3681e2c",
   "metadata": {},
   "outputs": [
    {
     "data": {
      "text/plain": [
       "array('i', [1, 2, 3, 4, 5, 6])"
      ]
     },
     "execution_count": 14,
     "metadata": {},
     "output_type": "execute_result"
    }
   ],
   "source": [
    "import array as arr\n",
    "a = arr.array('i',[1,2,3,4,5,6])\n",
    "a"
   ]
  },
  {
   "cell_type": "code",
   "execution_count": 15,
   "id": "fb557b41",
   "metadata": {},
   "outputs": [
    {
     "data": {
      "text/plain": [
       "3"
      ]
     },
     "execution_count": 15,
     "metadata": {},
     "output_type": "execute_result"
    }
   ],
   "source": [
    "a[2]        #accessing value at 2nd index position"
   ]
  },
  {
   "cell_type": "markdown",
   "id": "063e37ed",
   "metadata": {},
   "source": [
    "# Basic Array Operations\n",
    "\n",
    "- Finding the length of an array\n",
    "- Adding/Changing element of an array\n",
    "- Removing/Deleting elements of an array\n",
    "- Array Concatenation\n",
    "- Slicing\n",
    "- Looping through an Array"
   ]
  },
  {
   "cell_type": "markdown",
   "id": "166fab99",
   "metadata": {},
   "source": [
    "### 1. Finding length of an array \n",
    "- Length of an array is the number of elements that are actually present in an array.\n",
    "- You can make use of len() function to achieve this.\n",
    "- The len() function returns an integer value that is equal to the number of elements present in that array.\n"
   ]
  },
  {
   "cell_type": "code",
   "execution_count": 16,
   "id": "1e9b9753",
   "metadata": {},
   "outputs": [
    {
     "data": {
      "text/plain": [
       "6"
      ]
     },
     "execution_count": 16,
     "metadata": {},
     "output_type": "execute_result"
    }
   ],
   "source": [
    "len(a)"
   ]
  },
  {
   "cell_type": "markdown",
   "id": "63ae32a3",
   "metadata": {},
   "source": [
    "### 2. Adding Elements to an Array\n",
    "\n",
    "1. append() - Add element at the end of an array\n",
    "2. extend() - Add more than 1 element at the end of an array\n",
    "3. insert() - Add element at specific position in an array"
   ]
  },
  {
   "cell_type": "code",
   "execution_count": 17,
   "id": "6ca695d7",
   "metadata": {},
   "outputs": [
    {
     "name": "stdout",
     "output_type": "stream",
     "text": [
      "Array a= array('d', [1.1, 2.1, 3.1, 3.4])\n",
      "Array b= array('d', [2.1, 3.2, 4.6, 4.5, 3.6, 7.2])\n",
      "Array c= array('d', [1.1, 2.1, 3.4, 3.1])\n"
     ]
    }
   ],
   "source": [
    "a = arr.array('d', [1.1, 2.1, 3.1])\n",
    "a.append(3.4)\n",
    "print(\"Array a=\",a)\n",
    "\n",
    "b = arr.array('d',[2.1,3.2,4.6])\n",
    "b.extend([4.5,3.6,7.2])\n",
    "print(\"Array b=\",b)\n",
    "\n",
    "c = arr.array( 'd' , [1.1 , 2.1 ,3.1] )\n",
    "c.insert(2,3.4)\n",
    "print(\"Array c=\",c)"
   ]
  },
  {
   "cell_type": "markdown",
   "id": "776250f2",
   "metadata": {},
   "source": [
    "### 2. Removing Elements to an Array\n",
    "\n",
    "- pop() : remove element and **return it**\n",
    "- remove() : remove an element with a specific value **without returning it.**"
   ]
  },
  {
   "cell_type": "code",
   "execution_count": 18,
   "id": "853ac55d",
   "metadata": {},
   "outputs": [],
   "source": [
    "a = arr.array('d', [1.1, 2.1, 3.1,4.5,7,8.2,9,4.6,12,11,2])"
   ]
  },
  {
   "cell_type": "code",
   "execution_count": 19,
   "id": "3927ffd6",
   "metadata": {},
   "outputs": [
    {
     "data": {
      "text/plain": [
       "2.0"
      ]
     },
     "execution_count": 19,
     "metadata": {},
     "output_type": "execute_result"
    }
   ],
   "source": [
    "a.pop()         #will return value "
   ]
  },
  {
   "cell_type": "code",
   "execution_count": 20,
   "id": "af7e78d9",
   "metadata": {},
   "outputs": [
    {
     "data": {
      "text/plain": [
       "12.0"
      ]
     },
     "execution_count": 20,
     "metadata": {},
     "output_type": "execute_result"
    }
   ],
   "source": [
    "a.pop(-2)"
   ]
  },
  {
   "cell_type": "code",
   "execution_count": 21,
   "id": "c5f3e590",
   "metadata": {},
   "outputs": [
    {
     "data": {
      "text/plain": [
       "array('d', [1.1, 2.1, 3.1, 4.5, 7.0, 8.2, 9.0, 4.6, 11.0])"
      ]
     },
     "execution_count": 21,
     "metadata": {},
     "output_type": "execute_result"
    }
   ],
   "source": [
    "a"
   ]
  },
  {
   "cell_type": "code",
   "execution_count": 22,
   "id": "e2c73de4",
   "metadata": {},
   "outputs": [],
   "source": [
    "a.remove(7.0)     #will not return anything"
   ]
  },
  {
   "cell_type": "code",
   "execution_count": 23,
   "id": "2f564e30",
   "metadata": {},
   "outputs": [
    {
     "data": {
      "text/plain": [
       "array('d', [1.1, 2.1, 3.1, 4.5, 8.2, 9.0, 4.6, 11.0])"
      ]
     },
     "execution_count": 23,
     "metadata": {},
     "output_type": "execute_result"
    }
   ],
   "source": [
    "a"
   ]
  },
  {
   "cell_type": "code",
   "execution_count": 24,
   "id": "f23c2d07",
   "metadata": {},
   "outputs": [
    {
     "name": "stdout",
     "output_type": "stream",
     "text": [
      "Popping last element 3.7\n",
      "Popping 4th element 3.1\n",
      "array('d', [2.2, 3.8])\n"
     ]
    }
   ],
   "source": [
    "a = arr.array('d', [1.1, 2.2, 3.8, 3.1, 3.7])\n",
    "\n",
    "print('Popping last element',a.pop())\n",
    "print('Popping 4th element', a.pop(3))\n",
    "\n",
    "a.remove(1.1)\n",
    "print(a)        "
   ]
  },
  {
   "cell_type": "markdown",
   "id": "554e8fb5",
   "metadata": {},
   "source": [
    "# Array Concatenation"
   ]
  },
  {
   "cell_type": "code",
   "execution_count": 25,
   "id": "abcdebe0",
   "metadata": {},
   "outputs": [
    {
     "name": "stdout",
     "output_type": "stream",
     "text": [
      "Array c =  array('d', [1.1, 2.1, 3.1, 2.6, 7.8, 3.7, 8.6])\n"
     ]
    }
   ],
   "source": [
    "import array as arr\n",
    "\n",
    "a=arr.array('d',[1.1 , 2.1 ,3.1,2.6,7.8])\n",
    "b=arr.array('d',[3.7,8.6])\n",
    "c=arr.array('d')\n",
    "c=a+b\n",
    "\n",
    "print(\"Array c = \",c)"
   ]
  },
  {
   "cell_type": "markdown",
   "id": "9283a2ed",
   "metadata": {},
   "source": [
    "# Slicing an Array:\n",
    "\n",
    "- An array can be sliced using the **`:`** symbol. This returns a range of elements that we have specified by the index numbers."
   ]
  },
  {
   "cell_type": "code",
   "execution_count": 26,
   "id": "17220d6b",
   "metadata": {},
   "outputs": [
    {
     "data": {
      "text/plain": [
       "array('d', [1.1, 2.1, 3.1])"
      ]
     },
     "execution_count": 26,
     "metadata": {},
     "output_type": "execute_result"
    }
   ],
   "source": [
    "a=arr.array('d',[1.1,2.1 ,3.1,2.6,7.8,10,6,5.5,2.3])\n",
    "a[0:3]"
   ]
  },
  {
   "cell_type": "code",
   "execution_count": 27,
   "id": "abbc268e",
   "metadata": {},
   "outputs": [
    {
     "data": {
      "text/plain": [
       "array('d', [2.3, 6.0, 7.8, 3.1, 1.1])"
      ]
     },
     "execution_count": 27,
     "metadata": {},
     "output_type": "execute_result"
    }
   ],
   "source": [
    "a[::-2]"
   ]
  },
  {
   "cell_type": "markdown",
   "id": "1949f4f5",
   "metadata": {},
   "source": [
    "# Looping through an array\n",
    "1. **for loop**   : iterates over the items of an array specified number of times\n",
    "2. **while loop** : iterates over the elements until a certain condition is met"
   ]
  },
  {
   "cell_type": "code",
   "execution_count": 28,
   "id": "e4ba2072",
   "metadata": {},
   "outputs": [
    {
     "name": "stdout",
     "output_type": "stream",
     "text": [
      "All Values\n",
      "1.1 2.2 3.4 5.6 6.8 7.1 8.3 9.4 9.9 "
     ]
    }
   ],
   "source": [
    "a = arr.array('d',[1.1,2.2,3.4,5.6,6.8,7.1,8.3,9.4,9.9])\n",
    "print(\"All Values\")\n",
    "for x in a:\n",
    "    print(x, end = \" \")"
   ]
  },
  {
   "cell_type": "code",
   "execution_count": 29,
   "id": "38317e22",
   "metadata": {},
   "outputs": [
    {
     "name": "stdout",
     "output_type": "stream",
     "text": [
      "1.1 2.2 3.4 5.6 6.8 7.1 8.3 9.4 9.9 "
     ]
    }
   ],
   "source": [
    "a = arr.array('d',[1.1,2.2,3.4,5.6,6.8,7.1,8.3,9.4,9.9])\n",
    "\n",
    "b=0\n",
    "while b<len(a):\n",
    "    print(a[b], end = \" \")\n",
    "    b=b+1"
   ]
  },
  {
   "cell_type": "code",
   "execution_count": 30,
   "id": "60c1a837",
   "metadata": {},
   "outputs": [
    {
     "name": "stdout",
     "output_type": "stream",
     "text": [
      "1.1 2.2 3.4 5.6 "
     ]
    }
   ],
   "source": [
    "b=0\n",
    "while b<a[2]:\n",
    "    print(a[b], end = \" \")\n",
    "    b=b+1"
   ]
  },
  {
   "cell_type": "markdown",
   "id": "01c457c7",
   "metadata": {},
   "source": [
    "# Numpy in python\n",
    "\n",
    "- since array only work for 1D array not helpful in working with multidimensional array\n",
    "- To work with multidimensional array\n",
    "> e.g 2D array - Matrix/Vector\n",
    "\n",
    "- No need to mention type for values in numpy arrays, its optional to mention"
   ]
  },
  {
   "cell_type": "code",
   "execution_count": 31,
   "id": "995fe6a4",
   "metadata": {},
   "outputs": [
    {
     "data": {
      "text/plain": [
       "array([1, 2, 9, 5, 6])"
      ]
     },
     "execution_count": 31,
     "metadata": {},
     "output_type": "execute_result"
    }
   ],
   "source": [
    "import numpy as np\n",
    "\n",
    "from numpy import *\n",
    "arr = array([1,2,9,5,6])\n",
    "arr"
   ]
  },
  {
   "cell_type": "code",
   "execution_count": 32,
   "id": "380ee7b1",
   "metadata": {},
   "outputs": [
    {
     "data": {
      "text/plain": [
       "array([1, 2, 9, 5, 6])"
      ]
     },
     "execution_count": 32,
     "metadata": {},
     "output_type": "execute_result"
    }
   ],
   "source": [
    "arr1 = array([1,2,9,5,6], int)\n",
    "arr1"
   ]
  },
  {
   "cell_type": "markdown",
   "id": "05c7cb99",
   "metadata": {},
   "source": [
    "# Different ways of creatig a Numpy array\n",
    "\n",
    "- array()\n",
    "- linspace()\n",
    "- logspace()\n",
    "- arange()\n",
    "- zeros()\n",
    "- ones()"
   ]
  },
  {
   "cell_type": "markdown",
   "id": "d3698831",
   "metadata": {},
   "source": [
    "#### array()"
   ]
  },
  {
   "cell_type": "code",
   "execution_count": 33,
   "id": "7c851655",
   "metadata": {},
   "outputs": [
    {
     "name": "stdout",
     "output_type": "stream",
     "text": [
      "[1 2 3 4 5 6]\n",
      "int32\n"
     ]
    }
   ],
   "source": [
    "arr = array([1,2,3,4,5,6])              #no need to specify type\n",
    "print(arr)\n",
    "print(arr.dtype)"
   ]
  },
  {
   "cell_type": "code",
   "execution_count": 34,
   "id": "59bc4772",
   "metadata": {},
   "outputs": [
    {
     "name": "stdout",
     "output_type": "stream",
     "text": [
      "[1.  2.  3.  4.  5.3 6.1]\n",
      "float64\n"
     ]
    }
   ],
   "source": [
    "arr = array([1,2,3,4,5.3,6.1])              #no need to specify type, its optional\n",
    "print(arr)                                  #In numpy arrays all arrays converted into float \n",
    "print(arr.dtype)"
   ]
  },
  {
   "cell_type": "code",
   "execution_count": 35,
   "id": "f9b72530",
   "metadata": {},
   "outputs": [
    {
     "name": "stdout",
     "output_type": "stream",
     "text": [
      "[1 2 3 4 5 6]\n",
      "int32\n"
     ]
    }
   ],
   "source": [
    "arr = array([1,2,3,4,5.3,6.1], int)    #If we specify type than it will o/p with all integer value even it contain float value \n",
    "print(arr)                             #In numpy arrays all arrays converted into float \n",
    "print(arr.dtype)"
   ]
  },
  {
   "cell_type": "markdown",
   "id": "db945686",
   "metadata": {},
   "source": [
    "#### linspace()"
   ]
  },
  {
   "cell_type": "code",
   "execution_count": 36,
   "id": "623c5472",
   "metadata": {},
   "outputs": [
    {
     "name": "stdout",
     "output_type": "stream",
     "text": [
      "[ 0.          0.65217391  1.30434783  1.95652174  2.60869565  3.26086957\n",
      "  3.91304348  4.56521739  5.2173913   5.86956522  6.52173913  7.17391304\n",
      "  7.82608696  8.47826087  9.13043478  9.7826087  10.43478261 11.08695652\n",
      " 11.73913043 12.39130435 13.04347826 13.69565217 14.34782609 15.        ]\n",
      "float64\n"
     ]
    }
   ],
   "source": [
    "arr = linspace(0,15,24)              #{start, stop, no of parts} ; \n",
    "print(arr)                           #stop (included) , step - No. of parts reqd. to move (break range into reqd step) \n",
    "print(arr.dtype)"
   ]
  },
  {
   "cell_type": "markdown",
   "id": "b3b5f913",
   "metadata": {},
   "source": [
    "#### arange()"
   ]
  },
  {
   "cell_type": "code",
   "execution_count": 37,
   "id": "31719065",
   "metadata": {},
   "outputs": [
    {
     "name": "stdout",
     "output_type": "stream",
     "text": [
      "[ 2  4  6  8 10 12 14 16 18]\n",
      "int32\n"
     ]
    }
   ],
   "source": [
    "arr = arange(2,20,2)                #start,stop, step(difference)\n",
    "print(arr)\n",
    "print(arr.dtype)"
   ]
  },
  {
   "cell_type": "markdown",
   "id": "22ce9d94",
   "metadata": {},
   "source": [
    "#### logspace()"
   ]
  },
  {
   "cell_type": "code",
   "execution_count": 38,
   "id": "357a36dd",
   "metadata": {},
   "outputs": [
    {
     "name": "stdout",
     "output_type": "stream",
     "text": [
      "[1.00000000e+01 5.62341325e+10 3.16227766e+20 1.77827941e+30\n",
      " 1.00000000e+40]\n",
      "float64\n"
     ]
    }
   ],
   "source": [
    "arr = logspace(1,40,5)              # start : 10^1, Stop 10^40, no of parts = 5\n",
    "print(arr)\n",
    "print(arr.dtype)"
   ]
  },
  {
   "cell_type": "code",
   "execution_count": 39,
   "id": "e5943f44",
   "metadata": {},
   "outputs": [
    {
     "name": "stdout",
     "output_type": "stream",
     "text": [
      "10000000000000000303786028427003666890752.00\n"
     ]
    }
   ],
   "source": [
    "print('%.2f' %arr[4])"
   ]
  },
  {
   "cell_type": "markdown",
   "id": "9eb6971c",
   "metadata": {},
   "source": [
    "#### Zeros and Ones"
   ]
  },
  {
   "cell_type": "code",
   "execution_count": 40,
   "id": "8ebe237c",
   "metadata": {},
   "outputs": [
    {
     "name": "stdout",
     "output_type": "stream",
     "text": [
      "[0. 0. 0. 0. 0.]\n",
      "float64\n",
      "[0 0 0 0 0]\n",
      "int32\n"
     ]
    }
   ],
   "source": [
    "arr = zeros(5)              #no need to specify type\n",
    "print(arr)\n",
    "print(arr.dtype)\n",
    "\n",
    "arr = zeros(5, int)              #no need to specify type\n",
    "print(arr)\n",
    "print(arr.dtype)"
   ]
  },
  {
   "cell_type": "code",
   "execution_count": 41,
   "id": "d6f8ae07",
   "metadata": {},
   "outputs": [
    {
     "name": "stdout",
     "output_type": "stream",
     "text": [
      "[1. 1. 1. 1. 1.]\n",
      "float64\n",
      "[1 1 1 1 1]\n",
      "int32\n"
     ]
    }
   ],
   "source": [
    "arr = ones(5)              #no need to specify type\n",
    "print(arr)\n",
    "print(arr.dtype)\n",
    "\n",
    "arr = ones(5, int)              #no need to specify type\n",
    "print(arr)\n",
    "print(arr.dtype)"
   ]
  },
  {
   "cell_type": "markdown",
   "id": "062540a1",
   "metadata": {},
   "source": [
    "## Copying an array in python\n",
    "\n",
    "- Array addition\n",
    "- Aliasing\n",
    "- Shallow Copy\n",
    "- Deep Copy`"
   ]
  },
  {
   "cell_type": "markdown",
   "id": "774a17b8",
   "metadata": {},
   "source": [
    "## Vectorized Operation"
   ]
  },
  {
   "cell_type": "code",
   "execution_count": 42,
   "id": "fd34f6af",
   "metadata": {},
   "outputs": [
    {
     "name": "stdout",
     "output_type": "stream",
     "text": [
      "[ 6  7  8  9 10]\n"
     ]
    }
   ],
   "source": [
    "#adding value in the existing array\n",
    "\n",
    "#Method 1 : using for loop add values in each element\n",
    "#Method 2 : using simple operation\n",
    "\n",
    "arr = array([1,2,3,4,5])\n",
    "arrn= arr+5\n",
    "print(arrn)"
   ]
  },
  {
   "cell_type": "code",
   "execution_count": 43,
   "id": "9eddb4e1",
   "metadata": {},
   "outputs": [
    {
     "name": "stdout",
     "output_type": "stream",
     "text": [
      "[11 17 19 27 29]\n"
     ]
    }
   ],
   "source": [
    "arr1 = array([1,2,3,4,5])\n",
    "arr2 = array([10,15,16,23,24])\n",
    "arr3 = arr1 + arr2                          #Vectorized Operation\n",
    "print(arr3)"
   ]
  },
  {
   "cell_type": "markdown",
   "id": "e243900c",
   "metadata": {},
   "source": [
    "# Mathematical Operation"
   ]
  },
  {
   "cell_type": "code",
   "execution_count": 44,
   "id": "cf4d76d4",
   "metadata": {},
   "outputs": [
    {
     "name": "stdout",
     "output_type": "stream",
     "text": [
      "Sin Values:  [-0.54402111  0.91294525 -0.98803162  0.74511316 -0.26237485]\n",
      "Cos Values:  [-0.83907153  0.40808206  0.15425145 -0.66693806  0.96496603]\n",
      "Logarithm:  [2.30258509 2.99573227 3.40119738 3.68887945 3.91202301]\n",
      "max  50\n",
      "sum  150\n",
      "mean  30.0\n"
     ]
    }
   ],
   "source": [
    "arr1 = array([10,20,30,40,50])\n",
    "print('Sin Values: ',sin(arr1))\n",
    "print('Cos Values: ',cos(arr1))\n",
    "print('Logarithm: ',log(arr1))\n",
    "\n",
    "print(\"max \",max(arr1))\n",
    "print(\"sum \",sum(arr1))\n",
    "print(\"mean \",mean(arr1))"
   ]
  },
  {
   "cell_type": "code",
   "execution_count": 45,
   "id": "ea6d03c1",
   "metadata": {},
   "outputs": [
    {
     "name": "stdout",
     "output_type": "stream",
     "text": [
      "[10 20 30 40 50]\n",
      "[10 20 30 40 50]\n",
      "2151981056240\n",
      "2151981056240\n"
     ]
    }
   ],
   "source": [
    "arr1 = array([10,20,30,40,50])\n",
    "arr2 = arr1                            #Both array stored on same address\n",
    "\n",
    "print(arr1)\n",
    "print(arr2)\n",
    "      \n",
    "print(id(arr1))\n",
    "print(id(arr2))"
   ]
  },
  {
   "cell_type": "code",
   "execution_count": 46,
   "id": "5c39d260",
   "metadata": {},
   "outputs": [
    {
     "name": "stdout",
     "output_type": "stream",
     "text": [
      "[10 20 30 40 50]\n",
      "[10 20 30 40 50]\n",
      "2151981056432\n",
      "2151981057200\n"
     ]
    }
   ],
   "source": [
    "arr1 = array([10,20,30,40,50])\n",
    "arr2 = arr1.view()                           #array value may be same but but both value would be stored in different address\n",
    "\n",
    "print(arr1)\n",
    "print(arr2)\n",
    "      \n",
    "print(id(arr1))\n",
    "print(id(arr2))"
   ]
  },
  {
   "cell_type": "code",
   "execution_count": 47,
   "id": "69a432b0",
   "metadata": {},
   "outputs": [
    {
     "name": "stdout",
     "output_type": "stream",
     "text": [
      "[10  7 30 40 50]\n",
      "[10  7 30 40 50]\n",
      "2151981057776\n",
      "2151981057968\n"
     ]
    }
   ],
   "source": [
    "#shallow copy\n",
    "\n",
    "arr1 = array([10,20,30,40,50])\n",
    "arr2 = arr1.view()\n",
    "\n",
    "arr1[1] = 7                          # value change for both array stored in different address\n",
    "print(arr1)\n",
    "print(arr2)\n",
    "      \n",
    "print(id(arr1))\n",
    "print(id(arr2))"
   ]
  },
  {
   "cell_type": "code",
   "execution_count": 48,
   "id": "98c2d434",
   "metadata": {},
   "outputs": [
    {
     "name": "stdout",
     "output_type": "stream",
     "text": [
      "[10 20 30 17 50]\n",
      "[10 20 30 40 50]\n",
      "2151981058352\n",
      "2151981058448\n"
     ]
    }
   ],
   "source": [
    "#Deep copy\n",
    "\n",
    "arr1 = array([10,20,30,40,50])\n",
    "arr2 = arr1.copy()\n",
    "\n",
    "arr1[3] = 17                          # value change only for given array\n",
    "\n",
    "print(arr1)\n",
    "print(arr2)\n",
    "      \n",
    "print(id(arr1))\n",
    "print(id(arr2))"
   ]
  },
  {
   "cell_type": "markdown",
   "id": "5849f600",
   "metadata": {},
   "source": [
    "# Working with Matix in Pyhon"
   ]
  },
  {
   "cell_type": "code",
   "execution_count": 49,
   "id": "63f59581",
   "metadata": {},
   "outputs": [
    {
     "name": "stdout",
     "output_type": "stream",
     "text": [
      "[[1 2 3]\n",
      " [4 5 6]]\n",
      "Dimensions    :  2\n",
      "Type          :  int32\n",
      "rows, Column  :  (2, 3)\n",
      "Size of array :  6\n"
     ]
    }
   ],
   "source": [
    "arr1 = array([\n",
    "              [1,2,3],\n",
    "              [4,5,6]\n",
    "             ])\n",
    "\n",
    "print(arr1)\n",
    "print(\"Dimensions    : \",arr1.ndim)                    #Provides dimension of an array and also it ranks the array.\n",
    "print(\"Type          : \",arr1.dtype)\n",
    "print(\"rows, Column  : \",arr1.shape)                   #rows, columns\n",
    "print(\"Size of array : \",arr1.size)                   "
   ]
  },
  {
   "cell_type": "code",
   "execution_count": 50,
   "id": "ec047cab",
   "metadata": {},
   "outputs": [
    {
     "name": "stdout",
     "output_type": "stream",
     "text": [
      "[1 2 3 4 5 6]\n"
     ]
    }
   ],
   "source": [
    "arr2 = arr1.flatten()                                 #convert multidimensional array to 1D dimensional array\n",
    "print(arr2)"
   ]
  },
  {
   "cell_type": "code",
   "execution_count": 51,
   "id": "ae971b73",
   "metadata": {},
   "outputs": [
    {
     "name": "stdout",
     "output_type": "stream",
     "text": [
      "arr2 : 1-D array with 12 values in single array \n",
      " [1 2 3 7 8 9 4 5 6 3 5 8]\n",
      "\n",
      "arr3 : 2D array with 3 1-D array having 4 values each \n",
      " [[1 2 3 7]\n",
      " [8 9 4 5]\n",
      " [6 3 5 8]]\n",
      "\n",
      "arr4 : 3-D array with two - 2D array and each 2D array two 1-D array having 3 values each \n",
      " [[[1 2 3]\n",
      "  [7 8 9]]\n",
      "\n",
      " [[4 5 6]\n",
      "  [3 5 8]]]\n"
     ]
    }
   ],
   "source": [
    "arr1 = array([\n",
    "                [1,2,3,7,8,9],\n",
    "                [4,5,6,3,5,8]\n",
    "             ])\n",
    "\n",
    "arr2 = arr1.flatten() \n",
    "print(\"arr2 : 1-D array with 12 values in single array \\n\",arr2)\n",
    "\n",
    "arr3 = arr2.reshape(3,4)                # converting 1D array to 2D array\n",
    "print(\"\\narr3 : 2D array with 3 1-D array having 4 values each \\n\",arr3)\n",
    "\n",
    "arr4 = arr2.reshape(2,2,3)              # converting 1D array to 3D array\n",
    "print(\"\\narr4 : 3-D array with two - 2D array and each 2D array two 1-D array having 3 values each \\n\",arr4)"
   ]
  },
  {
   "cell_type": "markdown",
   "id": "60fbe8ed",
   "metadata": {},
   "source": [
    "# Matrices"
   ]
  },
  {
   "cell_type": "code",
   "execution_count": 52,
   "id": "906d306d",
   "metadata": {},
   "outputs": [
    {
     "name": "stdout",
     "output_type": "stream",
     "text": [
      "[[ 1  2  3  9]\n",
      " [ 4  5 17  8]]\n"
     ]
    }
   ],
   "source": [
    "arr1 = array([\n",
    "              [1,2,3,9],\n",
    "              [4,5,17,8]\n",
    "             ])\n",
    "print(arr1)"
   ]
  },
  {
   "cell_type": "code",
   "execution_count": 53,
   "id": "174e81a0",
   "metadata": {},
   "outputs": [
    {
     "name": "stdout",
     "output_type": "stream",
     "text": [
      "[[ 1  2  3  9]\n",
      " [ 4  5 17  8]]\n"
     ]
    }
   ],
   "source": [
    "m = matrix(arr1)\n",
    "print(m)"
   ]
  },
  {
   "cell_type": "code",
   "execution_count": 54,
   "id": "724fc6b7",
   "metadata": {},
   "outputs": [
    {
     "name": "stdout",
     "output_type": "stream",
     "text": [
      "[[ 1  2  3]\n",
      " [ 9  4  5]\n",
      " [17  6  9]]\n"
     ]
    }
   ],
   "source": [
    "m = matrix('1 2 3; 9 4 5; 17 6 9')\n",
    "print(m)"
   ]
  },
  {
   "cell_type": "code",
   "execution_count": 55,
   "id": "1feb5e19",
   "metadata": {},
   "outputs": [
    {
     "name": "stdout",
     "output_type": "stream",
     "text": [
      "Diagonal :  [1 4 9]\n",
      "Max :  17\n",
      "Max :  1\n"
     ]
    }
   ],
   "source": [
    "print(\"Diagonal : \",diagonal(m)) #to print diagonal values\n",
    "print(\"Max : \" ,m.max())\n",
    "print(\"Max : \" ,m.min())"
   ]
  },
  {
   "cell_type": "markdown",
   "id": "a75240ff",
   "metadata": {},
   "source": [
    "### Matrix Multiplication"
   ]
  },
  {
   "cell_type": "code",
   "execution_count": 56,
   "id": "e43356a4",
   "metadata": {},
   "outputs": [
    {
     "name": "stdout",
     "output_type": "stream",
     "text": [
      "[[19 36 34]\n",
      " [40 74 73]\n",
      " [51 92 82]]\n"
     ]
    }
   ],
   "source": [
    "m1 = matrix('1 2 3; 6 4 5; 1 6 7')\n",
    "m2 = matrix('1 2 3; 6 8 5; 2 6 7')\n",
    "\n",
    "m3 = m1 * m2\n",
    "print(m3)"
   ]
  }
 ],
 "metadata": {
  "kernelspec": {
   "display_name": "Python 3 (ipykernel)",
   "language": "python",
   "name": "python3"
  },
  "language_info": {
   "codemirror_mode": {
    "name": "ipython",
    "version": 3
   },
   "file_extension": ".py",
   "mimetype": "text/x-python",
   "name": "python",
   "nbconvert_exporter": "python",
   "pygments_lexer": "ipython3",
   "version": "3.8.8"
  }
 },
 "nbformat": 4,
 "nbformat_minor": 5
}
