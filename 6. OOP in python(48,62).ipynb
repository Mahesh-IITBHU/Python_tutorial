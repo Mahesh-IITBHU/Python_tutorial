{
 "cells": [
  {
   "cell_type": "markdown",
   "id": "902c5e04",
   "metadata": {},
   "source": [
    "# Python support all programming paradigm such as:-\n",
    "\n",
    "> ### 1. Procedural programming\n",
    "> ### 2. Functional programming\n",
    "> ### 3. Object oriented programming"
   ]
  },
  {
   "cell_type": "markdown",
   "id": "fb2865e9",
   "metadata": {},
   "source": [
    "# OOP Introduction\n",
    "\n",
    "- Everything in the world is treated as Object in virtual world of programming\n",
    "- Every object have 2 things\n",
    "> - Every object have certain attributes  (Data)\n",
    "> - Every object have certain behaviour  (action)\n",
    "\n",
    "- Funtions in OOP are called **Methods**\n",
    "\n",
    "- OOP concept\n",
    "> 1. Object & Classes                           \n",
    "> 2. Encapsulation and Abstraction\n",
    "> 3. Inheritance\n",
    "> 4. Polymorphism"
   ]
  },
  {
   "cell_type": "markdown",
   "id": "e112468f",
   "metadata": {},
   "source": [
    "# CONCEPT 1. Object and Classes:\n",
    "\n",
    "- Class - It's a design or can be term as blueprint\n",
    "- Object - It's instance of the design\n",
    "\n",
    "1. For creating we use :- class (keyword and than its name:\n",
    "- Class require 2 things; \n",
    "> - a. Atrributes i.e variables \n",
    "> - b. Behaviour i.e Methods(functions)"
   ]
  },
  {
   "cell_type": "code",
   "execution_count": 1,
   "id": "d771fd43",
   "metadata": {},
   "outputs": [
    {
     "name": "stdout",
     "output_type": "stream",
     "text": [
      "Hp laptop i5, 8gb ram, 1TB + 500gb ssd\n",
      "Hp laptop i5, 8gb ram, 1TB + 500gb ssd\n"
     ]
    }
   ],
   "source": [
    "class computer:                                            # defining computer class\n",
    "    def config(self):                                      #creating/defining config method\n",
    "        print('Hp laptop i5, 8gb ram, 1TB + 500gb ssd')\n",
    "\n",
    "#Constructor\n",
    "com1 = computer()                                        #com1 is an boject of class computer\n",
    "#print(type(com1))\n",
    "\n",
    "\n",
    "computer.config(com1)                             #calling config method/function from computer class for com1 object\n",
    "                                                  #com1 (object) is taken or passed as parameter\n",
    "\n",
    "com1.config()                                     #using object itself to call the function\n",
    "\n",
    "# config method will take com1 as parameter AND com1 (object) belongs to computer class"
   ]
  },
  {
   "cell_type": "markdown",
   "id": "264a4a20",
   "metadata": {},
   "source": [
    "# Special Method :   __ init __  Method \n",
    "- __ init __ is basically a constructor"
   ]
  },
  {
   "cell_type": "code",
   "execution_count": 2,
   "id": "b4c6c189",
   "metadata": {},
   "outputs": [
    {
     "name": "stdout",
     "output_type": "stream",
     "text": [
      "Config is i5 16\n",
      "Config is Ryzen 3 8\n"
     ]
    }
   ],
   "source": [
    "class Computer :\n",
    "    #creating 2 variables i.e cpu, ram\n",
    "    def __init__(self,cpu,ram):                  #(com1,cpu.ram)  - passing 3 argument      \n",
    "        self.cpu = cpu\n",
    "        self.ram = ram\n",
    "        \n",
    "    def config(self):\n",
    "        print(\"Config is\",self.cpu,self.ram )    #as cpu and ram belongs to the com1 object hence calling them by using self.\n",
    "        \n",
    "#Creating objects : it will call init method 2 times where com1 will pass as argument(Self)        \n",
    "com1 = Computer('i5', 16)\n",
    "com2 = Computer('Ryzen 3',8)\n",
    "\n",
    "com1.config( )\n",
    "com2.config( )"
   ]
  },
  {
   "cell_type": "markdown",
   "id": "06ea2ee1",
   "metadata": {},
   "source": [
    "# CONCEPT2 : Constructor, self and Comparing Objects"
   ]
  },
  {
   "cell_type": "markdown",
   "id": "066c6570",
   "metadata": {},
   "source": [
    "1. **Heap Memory** : All objects are stored inside Heap Memory\n",
    "2. Every time we create and object it will **alloted to a new space(Address)**\n",
    "3. **Size of and object** depends on the **number of variables and size of each variable**\n",
    "4. Who **allocates size** to object : **Constructor**"
   ]
  },
  {
   "cell_type": "code",
   "execution_count": 3,
   "id": "32372dbc",
   "metadata": {},
   "outputs": [
    {
     "name": "stdout",
     "output_type": "stream",
     "text": [
      "2112663667376\n",
      "2112663666848\n"
     ]
    }
   ],
   "source": [
    "class computer():\n",
    "    pass\n",
    "\n",
    "c1 = computer()            #constructor\n",
    "c2 = computer()\n",
    "\n",
    "print(id(c1))              #Printing address of c1 object stored in Heap Memory\n",
    "print(id(c2))"
   ]
  },
  {
   "cell_type": "code",
   "execution_count": 4,
   "id": "34053d99",
   "metadata": {},
   "outputs": [
    {
     "name": "stdout",
     "output_type": "stream",
     "text": [
      "Mahesh\n",
      "Mahesh\n"
     ]
    }
   ],
   "source": [
    "class computer:\n",
    "    def __init__(self):                      #creating variables for the object\n",
    "        self.name = \"Mahesh\"\n",
    "        self.age = 26\n",
    "        \n",
    "c1 = computer()\n",
    "c2 = computer()\n",
    "\n",
    "print(c1.name)\n",
    "print(c2.name)"
   ]
  },
  {
   "cell_type": "code",
   "execution_count": 5,
   "id": "4a5662a0",
   "metadata": {},
   "outputs": [
    {
     "name": "stdout",
     "output_type": "stream",
     "text": [
      "shubham\n",
      "22\n",
      "Mahesh\n",
      "26\n"
     ]
    }
   ],
   "source": [
    "class computer:\n",
    "    def __init__(self):                     \n",
    "        self.name = \"Mahesh\"\n",
    "        self.age = 26\n",
    "        \n",
    "c1 = computer()\n",
    "c2 = computer()\n",
    "\n",
    "c1.name = \"shubham\"          #updating variable data/value\n",
    "c1.age = 22\n",
    "\n",
    "print(c1.name)\n",
    "print(c1.age)\n",
    "\n",
    "print(c2.name)\n",
    "print(c2.age)"
   ]
  },
  {
   "cell_type": "markdown",
   "id": "80047e1d",
   "metadata": {},
   "source": [
    "# Importance of self\n",
    "<img src = \"image/self_concept.png\" align=\"left\" style=\"width:400px; height:250px\"/>\n",
    "\n",
    "      - Hence if we than use c1.object than c1 will be pass as self argument \n",
    "        or vice versa\n",
    "      - self is used refers to the object, so that at any instance can work \n",
    "        with single object."
   ]
  },
  {
   "cell_type": "code",
   "execution_count": 6,
   "id": "9204b36b",
   "metadata": {},
   "outputs": [
    {
     "name": "stdout",
     "output_type": "stream",
     "text": [
      "Mahesh\n",
      "30\n"
     ]
    }
   ],
   "source": [
    "class computer:\n",
    "    def __init__(self):                     \n",
    "        self.name = \"Mahesh\"\n",
    "        self.age = 26\n",
    "    \n",
    "    def update(self):\n",
    "        self.age = 30\n",
    "        \n",
    "c1 = computer()\n",
    "c2 = computer()\n",
    "\n",
    "c1.name = \"shubham\"          #updating variable data/value\n",
    "c1.age = 22\n",
    "\n",
    "c2.update()                 #self argument help in referring to the object as require     \n",
    "\n",
    "print(c2.name)\n",
    "print(c2.age)"
   ]
  },
  {
   "cell_type": "code",
   "execution_count": 7,
   "id": "13af3e79",
   "metadata": {},
   "outputs": [
    {
     "name": "stdout",
     "output_type": "stream",
     "text": [
      "Both object are different\n",
      "40\n",
      "26\n"
     ]
    }
   ],
   "source": [
    "#comparing 2 objects\n",
    "\n",
    "class computer:\n",
    "    def __init__(self):                     \n",
    "        self.name = \"Mahesh\"\n",
    "        self.age = 26\n",
    "    \n",
    "    def update(self):\n",
    "        self.age = 30\n",
    "    \n",
    "    def compare(self,other):\n",
    "        if self.age == other.age:\n",
    "            return True\n",
    "        else:\n",
    "            return False\n",
    "        \n",
    "c1 = computer()\n",
    "c1.age=40\n",
    "c2 = computer()\n",
    "\n",
    "if c1.compare(c2):\n",
    "    print(\"Both object are same\")\n",
    "else:\n",
    "    print(\"Both object are different\")\n",
    "    \n",
    "print(c1.age)\n",
    "print(c2.age)\n",
    "    "
   ]
  },
  {
   "cell_type": "markdown",
   "id": "3df78783",
   "metadata": {},
   "source": [
    "# CONCEPT 3: Types of variables\n",
    "\n",
    "1. Instance variable - this variables are different for different objects\n",
    "2. Class(static) variable\n",
    "\n",
    "\n",
    "\n",
    "<img src = \"image/instance_var.png\" align=\"left\" style=\"width:300px; height:250px\"/>\n",
    "<img src = \"image/Ex_object.png\" align=\"right\" style=\"width:300px; height:250px\"/>\n",
    "                                                         \n",
    "                                                         - Note : c1 mil updated from 10 to 8                                                            "
   ]
  },
  {
   "cell_type": "code",
   "execution_count": 8,
   "id": "4f04880a",
   "metadata": {},
   "outputs": [
    {
     "name": "stdout",
     "output_type": "stream",
     "text": [
      "BMW 8\n",
      "BMW 10\n"
     ]
    }
   ],
   "source": [
    "class car:                       \n",
    "    \n",
    "    def __init__(self):\n",
    "        self.mil = 10\n",
    "        self.com = \"BMW\"\n",
    "        \n",
    "c1 = car()\n",
    "c2 = car()\n",
    "\n",
    "c1.mil = 8\n",
    "\n",
    "print(c1.com, c1.mil)\n",
    "print(c2.com, c2.mil)"
   ]
  },
  {
   "cell_type": "markdown",
   "id": "f3f37853",
   "metadata": {},
   "source": [
    "# Object vs Class\n",
    "\n",
    "<img src = \"image/class_vs_instance.png\" align=\"left\" style=\"width:250px; height:180px\"/>\n",
    "  \n",
    "  #  Namespace \n",
    "    - Namespace is an area where you create and store object/variable\n",
    "\n",
    "    - Types of name space:\n",
    "    > 1. Class Namespace   - here we can store all the class variables\n",
    "    > 2. Object/Instance namespace - here we can store all the instance variable\n",
    "    \n",
    "- wheels is common to all that is class variable"
   ]
  },
  {
   "cell_type": "code",
   "execution_count": 9,
   "id": "922a6bc0",
   "metadata": {},
   "outputs": [
    {
     "name": "stdout",
     "output_type": "stream",
     "text": [
      "BMW 8 5\n",
      "BMW 10 5\n"
     ]
    }
   ],
   "source": [
    "class car:\n",
    "    wheels = 4                #class variables    #class namespace\n",
    "    \n",
    "    def __init__(self):\n",
    "        self.mil = 10\n",
    "        self.com = \"BMW\"      #instance namespace\n",
    "        \n",
    "c1 = car()\n",
    "c2 = car()\n",
    "\n",
    "c1.mil = 8\n",
    "car.wheels = 5                 #To modify class variables req to use class name, this will affect the value for all the object\n",
    "\n",
    "print(c1.com, c1.mil, c1.wheels)\n",
    "print(c2.com, c2.mil, c2.wheels)"
   ]
  },
  {
   "cell_type": "markdown",
   "id": "8d618023",
   "metadata": {},
   "source": [
    "# CONCEPT 4 : Types of methods\n",
    "\n",
    "1. Instance Method\n",
    "> -  Accessor Methods\n",
    "> -  Mutator Methods\n",
    "\n",
    "2. Class Method\n",
    "3. Static Method\n",
    "\n",
    "- **In methods Class and Static are two different methods**"
   ]
  },
  {
   "cell_type": "code",
   "execution_count": 10,
   "id": "230a17a9",
   "metadata": {},
   "outputs": [
    {
     "name": "stdout",
     "output_type": "stream",
     "text": [
      "48.67\n",
      "45.00\n"
     ]
    }
   ],
   "source": [
    "class student:\n",
    "    school = 'telusko'              #static Variable    \n",
    "    \n",
    "    def __init__(self,m1,m2,m3):\n",
    "        self.m1 = m1\n",
    "        self.m2 = m2\n",
    "        self.m3 = m3                #created 3 instance variables m1,m2,m3\n",
    "        \n",
    "    def avg(self):                  #Instance method as it works for the object\n",
    "        return (self.m1 + self.m2 + self.m3)/3\n",
    "        \n",
    "s1 = student(56,54,36)              #creating object\n",
    "s2 = student(21,18,96)\n",
    "\n",
    "print(\"%.2f\" % s1.avg())\n",
    "print(\"%.2f\" % s2.avg())"
   ]
  },
  {
   "cell_type": "markdown",
   "id": "0482fa07",
   "metadata": {},
   "source": [
    "### 1. Accessor method\n",
    "- Used when we want to only fetch the value\n",
    "\n",
    "### 2. Mutator Method\n",
    "- Used when we want to modify the variables"
   ]
  },
  {
   "cell_type": "code",
   "execution_count": 11,
   "id": "dba660e9",
   "metadata": {},
   "outputs": [
    {
     "name": "stdout",
     "output_type": "stream",
     "text": [
      "48.67\n",
      "45.00\n"
     ]
    }
   ],
   "source": [
    "class student:\n",
    "    school = 'telusko'               \n",
    "    \n",
    "    def __init__(self,m1,m2,m3):\n",
    "        self.m1 = m1\n",
    "        self.m2 = m2\n",
    "        self.m3 = m3                \n",
    "        \n",
    "    def avg(self):                      # 1. Instance method : work for the object\n",
    "        return (self.m1 + self.m2 + self.m3)/3\n",
    "    \n",
    "    def get_m1(self):\n",
    "        return self.m1                  # 2. Accessor method : only fetch the value\n",
    "     \n",
    "    def set_m1(self,value):             # 3. Mutator method : Change the value\n",
    "        set.m1 = value                  # We can either use constructor to pass/modify value or we can use setters\n",
    "        \n",
    "s1 = student(56,54,36)             \n",
    "s2 = student(21,18,96)\n",
    "\n",
    "print(\"%.2f\" % s1.avg())\n",
    "print(\"%.2f\" % s2.avg())"
   ]
  },
  {
   "cell_type": "markdown",
   "id": "1aca67b6",
   "metadata": {},
   "source": [
    "# 2. Class Methods "
   ]
  },
  {
   "cell_type": "code",
   "execution_count": 12,
   "id": "b52a9579",
   "metadata": {},
   "outputs": [
    {
     "name": "stdout",
     "output_type": "stream",
     "text": [
      "48.67\n",
      "45.00\n",
      "telusko\n"
     ]
    }
   ],
   "source": [
    "class student:\n",
    "    school = 'telusko'                #Class Variable       \n",
    "    \n",
    "    def __init__(self,m1,m2,m3):\n",
    "        self.m1 = m1\n",
    "        self.m2 = m2\n",
    "        self.m3 = m3 \n",
    "    \n",
    "    def avg(self):                     \n",
    "        return (self.m1 + self.m2 + self.m3)/3\n",
    "                                      # using decorators, when we want to use any object as class method\n",
    "    @classmethod                      # we req. to use decorators as @classmethod.\n",
    "    def info(cls):                    # While workig with instance we use self, while working with class we use 'cls'\n",
    "        return cls.school\n",
    "       \n",
    "s1 = student(56,54,36)             \n",
    "s2 = student(21,18,96)\n",
    "\n",
    "print(\"%.2f\" % s1.avg())\n",
    "print(\"%.2f\" % s2.avg())\n",
    "\n",
    "print(student.info())"
   ]
  },
  {
   "cell_type": "markdown",
   "id": "d16be676",
   "metadata": {},
   "source": [
    "# 3. Static Method"
   ]
  },
  {
   "cell_type": "code",
   "execution_count": 13,
   "id": "98c539ce",
   "metadata": {},
   "outputs": [
    {
     "name": "stdout",
     "output_type": "stream",
     "text": [
      "instance method 48.67\n",
      "instance method 45.00\n",
      "class method :  telusko\n",
      "This is student class : STATIC METHOD\n"
     ]
    }
   ],
   "source": [
    "class student:\n",
    "    school = 'telusko'                #Class Variable       \n",
    "    \n",
    "    def __init__(self,m1,m2,m3):\n",
    "        self.m1 = m1\n",
    "        self.m2 = m2\n",
    "        self.m3 = m3 \n",
    "    \n",
    "    def avg(self):                     \n",
    "        return (self.m1 + self.m2 + self.m3)/3\n",
    "                                      # using decorators, when we want to use any object as class method\n",
    "    @classmethod                      # we req. to use decorators as @classmethod.\n",
    "    def getSchool(cls):                    # While workig with instance we use self, while working with class we use 'cls'\n",
    "        return cls.school\n",
    "    \n",
    "    @staticmethod                   #for static method, decorators used is : @staticmethod\n",
    "    def info():                     # For Static Method - NO self / NO cls, keep the parenthesis empty \n",
    "        print(\"This is student class : STATIC METHOD\")\n",
    "        \n",
    "s1 = student(56,54,36)             \n",
    "s2 = student(21,18,96)\n",
    "\n",
    "print(\"instance method\",\"%.2f\" % s1.avg())\n",
    "print(\"instance method\",\"%.2f\" % s2.avg())\n",
    "print(\"class method : \", student.getSchool())\n",
    "      \n",
    "student.info()"
   ]
  },
  {
   "cell_type": "markdown",
   "id": "2677df7d",
   "metadata": {},
   "source": [
    "# CONCEPT 5: Inner Class  {Class inside a class}\n",
    "\n",
    "> - a. You can create object of inner class inside the outer class\n",
    "> - b. You can create object of inner class outside the outer class provided you use outer class name to call it"
   ]
  },
  {
   "cell_type": "code",
   "execution_count": 14,
   "id": "abd2368a",
   "metadata": {},
   "outputs": [
    {
     "name": "stdout",
     "output_type": "stream",
     "text": [
      "Mahesh 2\n",
      "HP i5 8\n",
      "2112663773440\n",
      "2112663773872\n"
     ]
    }
   ],
   "source": [
    "class student:\n",
    "    school = 'telusko'                #Class Variable       \n",
    "    \n",
    "    def __init__(self,name,rollno):\n",
    "        self.name = name\n",
    "        self.rollno = rollno\n",
    "        self.lap = self.laptop()        #created object for laptop class\n",
    "         \n",
    "    def show(self):\n",
    "        print(self.name, self.rollno)\n",
    "        self.lap.show()\n",
    "    \n",
    "    class laptop:\n",
    "        def __init__(self):\n",
    "            self.brand = \"HP\"\n",
    "            self.cpu = \"i5\"\n",
    "            self.ram = 8                   #we can create object for this variable here also\n",
    "                                           #but we will create object for laptop in outer class i.e in student class\n",
    "                \n",
    "        def show(self):\n",
    "            print(self.brand, self.cpu, self.ram)\n",
    "                \n",
    "s1 = student('Mahesh', 2)             \n",
    "s2 = student('himanshu',3)\n",
    "\n",
    "s1.show()\n",
    "s1.lap.brand                             #as lap object is inside the student class hence\n",
    "\n",
    "lap1 = s1.lap\n",
    "lap2 = s2.lap\n",
    "\n",
    "print(id(lap1))\n",
    "print(id(lap2))\n",
    "\n",
    "lap11 = student.laptop()      #creating object outside the outer class, by using name of outer class"
   ]
  },
  {
   "cell_type": "markdown",
   "id": "0554372f",
   "metadata": {},
   "source": [
    "# CONCEPT 6 : Inheritance\n",
    "\n",
    "- Parent and child relationship concept e.g father's peoperty is by default childs property.\n",
    "- subclass cam access all the features of Super Class But vice versa is not true\n"
   ]
  },
  {
   "cell_type": "code",
   "execution_count": 15,
   "id": "0d9306d2",
   "metadata": {},
   "outputs": [
    {
     "name": "stdout",
     "output_type": "stream",
     "text": [
      "Feature 1 working\n",
      "Feature 2 working\n"
     ]
    }
   ],
   "source": [
    "class A:\n",
    "    def feature1(self):\n",
    "        print(\"Feature 1 working\")\n",
    "    \n",
    "    def feature2(self):\n",
    "        print(\"Feature 2 working\")\n",
    "        \n",
    "a1 = A()\n",
    "\n",
    "a1.feature1()\n",
    "a1.feature2()"
   ]
  },
  {
   "cell_type": "code",
   "execution_count": 16,
   "id": "906436fc",
   "metadata": {},
   "outputs": [
    {
     "name": "stdout",
     "output_type": "stream",
     "text": [
      "Feature 3 working\n",
      "Feature 4 working\n"
     ]
    }
   ],
   "source": [
    "class A:\n",
    "    def feature1(self):\n",
    "        print(\"Feature 1 working\")\n",
    "    \n",
    "    def feature2(self):\n",
    "        print(\"Feature 2 working\")\n",
    "        \n",
    "class B:\n",
    "    def feature3(self):\n",
    "        print(\"Feature 3 working\")\n",
    "    \n",
    "    def feature4(self):\n",
    "        print(\"Feature 4 working\")        \n",
    "\n",
    "a1 = A()\n",
    "\n",
    "#a1.feature1()\n",
    "#a1.feature2()\n",
    "\n",
    "b1 = B()\n",
    "\n",
    "b1.feature3()                      #here we are only able to fetch the feature 3 and feature 4\n",
    "b1.feature4()                      #hoow to use feature of class A in Class B"
   ]
  },
  {
   "cell_type": "markdown",
   "id": "52d04348",
   "metadata": {},
   "source": [
    "# Inheritance : \n",
    "## Before --------------------------------------------------------------------------------------------------- After\n",
    "<img src = \"image/inheritance.png\" align=\"right\" style=\"width:300px; height:250px\"/>\n",
    "<img src = \"image/inheritance_bef.png\" align=\"left\" style=\"width:300px; height:250px\"/>\n",
    "\n",
    "        - for defiing any class as child/sub class :  \n",
    "        class childclass(parent class): \n"
   ]
  },
  {
   "cell_type": "markdown",
   "id": "f1e94d1a",
   "metadata": {},
   "source": [
    "### Single level Inheritance"
   ]
  },
  {
   "cell_type": "code",
   "execution_count": 17,
   "id": "fd74466d",
   "metadata": {},
   "outputs": [
    {
     "name": "stdout",
     "output_type": "stream",
     "text": [
      "Feature 3 working\n",
      "Feature 4 working\n"
     ]
    }
   ],
   "source": [
    "class A:\n",
    "    def feature1(self):\n",
    "        print(\"Feature 1 working\")\n",
    "    \n",
    "    def feature2(self):\n",
    "        print(\"Feature 2 working\")\n",
    "        \n",
    "class B(A):                            #class b inheritating features of class A (parent class)\n",
    "    def feature3(self):\n",
    "        print(\"Feature 3 working\")\n",
    "    \n",
    "    def feature4(self):\n",
    "        print(\"Feature 4 working\")        \n",
    "\n",
    "a1 = A()\n",
    "b1 = B()\n",
    "\n",
    "b1.feature3()                      #here we are able to fetch the feature 1,2,3,4\n",
    "b1.feature4()                    "
   ]
  },
  {
   "cell_type": "markdown",
   "id": "39fb565f",
   "metadata": {},
   "source": [
    "### Multilevel Inheritance"
   ]
  },
  {
   "cell_type": "code",
   "execution_count": 18,
   "id": "fcc4c0d7",
   "metadata": {},
   "outputs": [
    {
     "name": "stdout",
     "output_type": "stream",
     "text": [
      "Feature 1 working\n",
      "Feature 2 working\n",
      "Feature 5 working\n"
     ]
    }
   ],
   "source": [
    "class A:\n",
    "    def feature1(self):\n",
    "        print(\"Feature 1 working\")\n",
    "    \n",
    "    def feature2(self):\n",
    "        print(\"Feature 2 working\")\n",
    "        \n",
    "class B(A):                            #class b inheritating features of class A (parent class)\n",
    "    def feature3(self):\n",
    "        print(\"Feature 3 working\")\n",
    "    \n",
    "    def feature4(self):\n",
    "        print(\"Feature 4 working\")    \n",
    "        \n",
    "class C(B):                           \n",
    "    def feature5(self):\n",
    "        print(\"Feature 5 working\")\n",
    "    \n",
    "        \n",
    "a1 = A()\n",
    "b1 = B()\n",
    "c1 = C()\n",
    "\n",
    "c1.feature1()                      #here we are able to fetch the feature 1,2,3,4,5\n",
    "c1.feature2()\n",
    "c1.feature5()\n"
   ]
  },
  {
   "cell_type": "markdown",
   "id": "48104e19",
   "metadata": {},
   "source": [
    "## Multiple Inheritance"
   ]
  },
  {
   "cell_type": "code",
   "execution_count": 19,
   "id": "77d9ca4e",
   "metadata": {},
   "outputs": [
    {
     "name": "stdout",
     "output_type": "stream",
     "text": [
      "Feature 3 working\n",
      "Feature 2 working\n",
      "Feature 4 working\n"
     ]
    }
   ],
   "source": [
    "class A:\n",
    "    def feature1(self):\n",
    "        print(\"Feature 1 working\")\n",
    "    \n",
    "    def feature2(self):\n",
    "        print(\"Feature 2 working\")\n",
    "        \n",
    "class B():                           \n",
    "    def feature3(self):\n",
    "        print(\"Feature 3 working\")\n",
    "    \n",
    "    def feature4(self):\n",
    "        print(\"Feature 4 working\")    \n",
    "        \n",
    "class C(A,B):                            #class C inheritating features of class A & Class B (Multiple Inheritance)\n",
    "    def feature5(self):\n",
    "        print(\"Feature 5 working\")\n",
    "    \n",
    "        \n",
    "a1 = A()\n",
    "b1 = B()\n",
    "c1 = C()\n",
    "\n",
    "b1.feature3()               #only fetching features 3 & 5 \n",
    "\n",
    "c1.feature2()               #C1 able to fetch features from all class i.e A & B as well\n",
    "c1.feature4()"
   ]
  },
  {
   "cell_type": "markdown",
   "id": "16cff1c9",
   "metadata": {},
   "source": [
    "- ### Inheritance : using features of existing classes\n",
    "##### \n",
    "- **1. Constructor in inheritance**\n",
    "- **2. Method Resolution Order (MRO)**"
   ]
  },
  {
   "cell_type": "markdown",
   "id": "74fd07fe",
   "metadata": {},
   "source": [
    "# 1. Constructor in Inheritance"
   ]
  },
  {
   "cell_type": "code",
   "execution_count": 20,
   "id": "0542887c",
   "metadata": {},
   "outputs": [
    {
     "name": "stdout",
     "output_type": "stream",
     "text": [
      "in A Init\n",
      "in A Init\n"
     ]
    }
   ],
   "source": [
    "class A:\n",
    "    def __init__(self):\n",
    "        print(\"in A Init\")\n",
    "        \n",
    "    def feature1(self):\n",
    "        print(\"Feature 1 working\")\n",
    "    \n",
    "    def feature2(self):\n",
    "        print(\"Feature 2 working\")\n",
    "        \n",
    "class B(A): \n",
    "           \n",
    "    def feature3(self):\n",
    "        print(\"Feature 3 working\")\n",
    "    \n",
    "    def feature4(self):\n",
    "        print(\"Feature 4 working\") \n",
    "        \n",
    "a1 = A()\n",
    "a1 = B()                    #this will also call __ init __ of super class"
   ]
  },
  {
   "cell_type": "markdown",
   "id": "463e365f",
   "metadata": {},
   "source": [
    "# 2. Method Resolution Order (MRO)"
   ]
  },
  {
   "cell_type": "code",
   "execution_count": 21,
   "id": "a210da16",
   "metadata": {},
   "outputs": [
    {
     "name": "stdout",
     "output_type": "stream",
     "text": [
      "in B Init\n"
     ]
    }
   ],
   "source": [
    "class A:\n",
    "    def __init__(self):\n",
    "        print(\"in A Init\")\n",
    "        \n",
    "    def feature1(self):\n",
    "        print(\"Feature 1 working\")\n",
    "    \n",
    "    def feature2(self):\n",
    "        print(\"Feature 2 working\")\n",
    "        \n",
    "class B(A): \n",
    "    def __init__(self):\n",
    "        print(\"in B Init\")\n",
    "        \n",
    "    def feature3(self):\n",
    "        print(\"Feature 3 working\")\n",
    "    \n",
    "    def feature4(self):\n",
    "        print(\"Feature 4 working\") \n",
    "        \n",
    "#a1 = A()\n",
    "a1 = B()                         #will only call init of itself as defined"
   ]
  },
  {
   "cell_type": "markdown",
   "id": "3dcd1a8b",
   "metadata": {},
   "source": [
    "## Note :\n",
    "###  If you create object of sub class it will try to find __ init __ of sub class, if it is not found then it will call __ init __ of super class"
   ]
  },
  {
   "cell_type": "code",
   "execution_count": 22,
   "id": "d177199e",
   "metadata": {},
   "outputs": [
    {
     "name": "stdout",
     "output_type": "stream",
     "text": [
      "in A Init\n",
      "in B Init\n"
     ]
    }
   ],
   "source": [
    "class A:\n",
    "    def __init__(self):\n",
    "        print(\"in A Init\")\n",
    "        \n",
    "    def feature1(self):\n",
    "        print(\"Feature 1 working\")\n",
    "    \n",
    "    def feature2(self):\n",
    "        print(\"Feature 2 working\")\n",
    "        \n",
    "class B(A): \n",
    "    def __init__(self):                #to call init variable of othe class as well      \n",
    "        super().__init__()             #super method is used to call/fetch all features of parent class\n",
    "        print(\"in B Init\")\n",
    "        \n",
    "    def feature3(self):\n",
    "        print(\"Feature 3 working\")\n",
    "    \n",
    "    def feature4(self):\n",
    "        print(\"Feature 4 working\") \n",
    "        \n",
    "#a1 = A()\n",
    "a1 = B()"
   ]
  },
  {
   "cell_type": "markdown",
   "id": "04da30d3",
   "metadata": {},
   "source": [
    "# Note : \n",
    "- ### 1. when you create object of subclass it will call init of subclass first.\n",
    "- ### 2. If you have call super then it will first call init of super class then call init of sub class."
   ]
  },
  {
   "cell_type": "code",
   "execution_count": 23,
   "id": "41bdd433",
   "metadata": {},
   "outputs": [
    {
     "name": "stdout",
     "output_type": "stream",
     "text": [
      "in A Init\n",
      "in C Init\n"
     ]
    }
   ],
   "source": [
    "class A:\n",
    "    def __init__(self):\n",
    "        print(\"in A Init\")\n",
    "        \n",
    "    def feature1(self):\n",
    "        print(\"Feature 1 working\")\n",
    "    \n",
    "    def feature2(self):\n",
    "        print(\"Feature 2 working\")\n",
    "        \n",
    "class B:   \n",
    "    def __init__(self):\n",
    "        print(\"in B Init\")\n",
    "        \n",
    "    def feature3(self):\n",
    "        print(\"Feature 3 working\")\n",
    "    \n",
    "    def feature4(self):\n",
    "        print(\"Feature 4 working\")    \n",
    "        \n",
    "class C(A,B):                            #class C inheritating features of class A & Class B (Multiple Inheritance)\n",
    "    def __init__(self):\n",
    "        super().__init__()\n",
    "        print(\"in C Init\")\n",
    "        \n",
    "    def feature5(self):\n",
    "        print(\"Feature 5 working\")\n",
    "        \n",
    "a1 = C()                             \n",
    "\n",
    "# but this will call only init of class A, i.e i is biased towards class A not considering class B"
   ]
  },
  {
   "cell_type": "markdown",
   "id": "f0a8f88e",
   "metadata": {},
   "source": [
    "# Note :   \n",
    "\n",
    "- ### In case of Multiple level Inheritance, while calling it will always start from left to right which means.\n",
    "\n",
    "- ### First it will try to find init of itself and then it will call left class init\n",
    "\n",
    "<img src = \"image/Multiple_Inheritance.png\" align=\"left\" style=\"width:300px; height:250px\"/>\n",
    "\n",
    "\n",
    "\n",
    "\n",
    "\n"
   ]
  },
  {
   "cell_type": "markdown",
   "id": "57dd911d",
   "metadata": {},
   "source": [
    "# CONCEPT 7 : Polymorphism"
   ]
  },
  {
   "cell_type": "markdown",
   "id": "630f0fbd",
   "metadata": {},
   "source": [
    "### 1. Polymorphism = Poly (many)  + morph (form) ism\n",
    "\n",
    "### 2. Polymorphism  Concept used very much in case of Software Development such as:-\n",
    "- **Loose Coupling**\n",
    "- **Dependency Injection**\n",
    "- **Interface**.\n",
    "\n",
    "### 3. Four ways of implementing Polymorphism in Python\n",
    "- **Duck typing**\n",
    "- **Operator Overloading**\n",
    "- **Method Overloading**.\n",
    "- **Method Over-riding**"
   ]
  },
  {
   "cell_type": "markdown",
   "id": "c01fa79b",
   "metadata": {},
   "source": [
    "# 1. Duck Typing\n",
    "\n",
    "- **Principal** If it looks like a duck, swim like a duck, and quacks like a duck, then it probably is a duck.\n",
    "- Duck Typing is a term commonly related to **dynamically typed programming languages and polymorphism**, where the type or the class of an object is less important than the methods it defines.\n",
    "- It enables Python code to be applied to objects without caring about their actual data types.\n",
    "- When you invoke a method using an object which is not checked in python we can use any object to invoke a method as long as the method is their to invoke\n",
    "  \n"
   ]
  },
  {
   "cell_type": "code",
   "execution_count": 24,
   "id": "d543d69e",
   "metadata": {},
   "outputs": [
    {
     "name": "stdout",
     "output_type": "stream",
     "text": [
      "25\n",
      "AB\n"
     ]
    }
   ],
   "source": [
    "#Duck Typing refers to the principle of not constraining or binding the code to specific data types.\n",
    "\n",
    "\n",
    "a = 10 + 15\n",
    "print(a)\n",
    "a = 'A' + 'B'\n",
    "print(a)"
   ]
  },
  {
   "cell_type": "code",
   "execution_count": 25,
   "id": "7a0cb23f",
   "metadata": {},
   "outputs": [],
   "source": [
    "# Define the three classes\n",
    " \n",
    "class Duck:\n",
    "    def quack(self):\n",
    "        print(\"I am a duck and I quack.\")\n",
    "    \n",
    "class Goose:\n",
    "    def quack(self):\n",
    "        print(\"I am a goose and I quack.\")\n",
    "    \n",
    "class Cat:\n",
    "    def meow(self):\n",
    "        print(\"I am a cat and I meow.\")\n",
    "\n",
    "# Define the method\n",
    "def quack(animal):\n",
    "    animal.quack()"
   ]
  },
  {
   "cell_type": "code",
   "execution_count": 26,
   "id": "aa2c4fe8",
   "metadata": {},
   "outputs": [
    {
     "name": "stdout",
     "output_type": "stream",
     "text": [
      "I am a duck and I quack.\n",
      "I am a goose and I quack.\n"
     ]
    }
   ],
   "source": [
    "quack(Duck())\n",
    "quack(Goose())"
   ]
  },
  {
   "cell_type": "code",
   "execution_count": 27,
   "id": "4c478d85",
   "metadata": {},
   "outputs": [],
   "source": [
    "#quack(Cat())          #Cat cannot quack and therefore throws an error."
   ]
  },
  {
   "cell_type": "code",
   "execution_count": 28,
   "id": "8c70be14",
   "metadata": {},
   "outputs": [
    {
     "name": "stdout",
     "output_type": "stream",
     "text": [
      "Quack Quack\n",
      "meow meow\n",
      "Hey Hello\n"
     ]
    }
   ],
   "source": [
    "#duckTyping in Python\n",
    "\n",
    "class Duck:\n",
    "    def sound(self):\n",
    "        print(\"Quack Quack\")\n",
    "        \n",
    "class Cat:\n",
    "    def sound(self):\n",
    "        print(\"meow meow\")\n",
    "        \n",
    "class Human:\n",
    "    def sound(self):\n",
    "        print(\"Hey Hello\")\n",
    "        \n",
    "#Defining Method\n",
    "class Test:\n",
    "    def invoke(self, obj):                         #takes object as argument.\n",
    "        obj.sound();                                #calling sound method on object\n",
    "        \n",
    "t = Test()               #creating object of test method\n",
    "\n",
    "obj = Duck()             #creating an object for Duck type\n",
    "t.invoke(obj)            #passing duck type object in invoke method\n",
    "\n",
    "obj  = Cat()\n",
    "t.invoke(obj)\n",
    "\n",
    "obj = Human()\n",
    "t.invoke(obj)"
   ]
  },
  {
   "cell_type": "code",
   "execution_count": 29,
   "id": "f0e6ccac",
   "metadata": {},
   "outputs": [
    {
     "name": "stdout",
     "output_type": "stream",
     "text": [
      "compiling\n",
      "running\n"
     ]
    }
   ],
   "source": [
    "class Pycharm:\n",
    "    def execute(self):\n",
    "        print(\"compiling\")\n",
    "        print(\"running\")\n",
    "        \n",
    "class Laptop:                          \n",
    "    def code(self,ide):               #defining method for executing code \n",
    "        ide.execute()                 #to execute code required ide  (IDE is of what type? )\n",
    "        \n",
    "ide = Pycharm()             #let type of ide we are working with is Pycharm, which is user define #creating object\n",
    "lap1 = Laptop()             #creating obj for laptop class\n",
    "\n",
    "lap1.code(ide)"
   ]
  },
  {
   "cell_type": "code",
   "execution_count": 30,
   "id": "b93801b4",
   "metadata": {},
   "outputs": [
    {
     "name": "stdout",
     "output_type": "stream",
     "text": [
      "Spell Check\n",
      "Convention Check\n",
      "Compilig\n",
      "Running\n"
     ]
    }
   ],
   "source": [
    "class Pycharm:\n",
    "    def execute(self):\n",
    "        print(\"compiling\")\n",
    "        print(\"running\")\n",
    "        \n",
    "class Myeditor:\n",
    "    def execute(self):\n",
    "        print(\"Spell Check\")\n",
    "        print(\"Convention Check\")\n",
    "        print(\"Compilig\")\n",
    "        print(\"Running\")\n",
    "\n",
    "class Laptop:                          \n",
    "    def code(self,ide):               #defining method for executing code \n",
    "        ide.execute()                 #to execute code reuired ide  (IDE is of what type ? )\n",
    "\n",
    "ide = Myeditor()                     # replace IDE type from pycharm to editor provided we have that method which is execute it\n",
    "lap1 = Laptop()                      #it doesnt matter which class, object we are passing\n",
    "                                     #only requirement is that, it should have the execute method\n",
    "lap1.code(ide)"
   ]
  },
  {
   "cell_type": "markdown",
   "id": "2de56a34",
   "metadata": {},
   "source": [
    "# 2. Operator Overloading"
   ]
  },
  {
   "cell_type": "code",
   "execution_count": 31,
   "id": "4992795f",
   "metadata": {},
   "outputs": [
    {
     "name": "stdout",
     "output_type": "stream",
     "text": [
      "10.9 \n",
      "\n",
      "MaheshPurbia\n"
     ]
    }
   ],
   "source": [
    "a = 5\n",
    "b = 5.9\n",
    "print(a+b,'\\n')\n",
    "\n",
    "a = 'Mahesh'\n",
    "b = 'Purbia'\n",
    "print(a+b)"
   ]
  },
  {
   "cell_type": "code",
   "execution_count": 32,
   "id": "7011a58e",
   "metadata": {},
   "outputs": [],
   "source": [
    "# a = 5\n",
    "# b = 'Mahesh'\n",
    "# print(a+b)          #will throw error as int and str cannt be added , Not defined at back in pyhon simply"
   ]
  },
  {
   "cell_type": "code",
   "execution_count": 33,
   "id": "a3da7f2a",
   "metadata": {},
   "outputs": [
    {
     "name": "stdout",
     "output_type": "stream",
     "text": [
      "25\n",
      "25 \n",
      "\n",
      "520mahesh\n"
     ]
    }
   ],
   "source": [
    "a = 15\n",
    "b = 10\n",
    "\n",
    "c = '5'\n",
    "d = '20mahesh'\n",
    "\n",
    "print(a+b)                         #this is directly call __add__ method\n",
    "print(int.__add__(a,b),'\\n')           #add is a method which belong to int class which is calling a+b in back\n",
    "print(str.__add__(c,d))"
   ]
  },
  {
   "cell_type": "markdown",
   "id": "27b103d6",
   "metadata": {},
   "source": [
    "## Operator Overloading\n",
    "**Note :** Whenever we perform any operation like \"+, -, *, /\"  at the back we are calling methods also k/as magic method\n",
    "\n",
    "<img src = \"image/operator_overload.png\" align=\"left\" style=\"width:300px; height:250px\"/>"
   ]
  },
  {
   "cell_type": "code",
   "execution_count": 34,
   "id": "0dddddf0",
   "metadata": {},
   "outputs": [
    {
     "name": "stdout",
     "output_type": "stream",
     "text": [
      "9 \n",
      "\n",
      "<__main__.student object at 0x000001EBE4941400>\n"
     ]
    }
   ],
   "source": [
    "a = 9\n",
    "print(a,\"\\n\")                  \n",
    "\n",
    "#Example to understand the concept of operator over riding \n",
    "#This will print address of s5 not value of s5\n",
    "# as in the back it is calling the method __str__\n",
    "\n",
    "s5 = student(54,35)        \n",
    "print(s5)                        #calling print(s5.__str__()) in the back, which gives the address of object\n",
    "\n",
    "#hence need to over ride this method to print values instead"
   ]
  },
  {
   "cell_type": "code",
   "execution_count": 35,
   "id": "0c16a838",
   "metadata": {},
   "outputs": [],
   "source": [
    "class student:\n",
    "    def __init__(self,m1,m2):         #student class having 2 variable m1,m2\n",
    "        self.m1 = m1                  \n",
    "        self.m2 = m2\n",
    "        \n",
    "    def __add__(self, other):             #defining add method for student class\n",
    "        m1 = self.m1 + other.m1\n",
    "        m2 = self.m2 + other.m2\n",
    "        s3 = student(m1,m2)\n",
    "        return s3\n",
    "    \n",
    "    def __gt__(self,other):              #defining method to check grether than value for student class\n",
    "        r1 = self.m1 + self.m2\n",
    "        r2 = other.m1 + other.m2\n",
    "        if r1 > r2:\n",
    "            return True\n",
    "        else:\n",
    "            return False\n",
    "        \n",
    "    #as __str__ is already a predefined method in python\n",
    "    \n",
    "    def __str__(self):                               #Operator over-riding to define our own __str__ method to print values\n",
    "        return '{} {}'.format(self.m1,self.m2)\n",
    "\n",
    "#To perform any operation using operator, we need to define method for objects for different operations "
   ]
  },
  {
   "cell_type": "code",
   "execution_count": 36,
   "id": "e2ebad9a",
   "metadata": {},
   "outputs": [
    {
     "name": "stdout",
     "output_type": "stream",
     "text": [
      "112\n",
      "134\n"
     ]
    }
   ],
   "source": [
    "# Method 1 : addition\n",
    "\n",
    "#creting objects s1,s2\n",
    "s1 = student(52,69)\n",
    "s2 = student(60,65)\n",
    "\n",
    "#applying operator on students class\n",
    "s3 = s1+s2                               #we cannt use '+' operator between student + student as we have not defined it\n",
    "#s3 = s1 + s2 ---> student._add__(s1,s2)    here parameters, s1 = self and s2 = other\n",
    "print(s3.m1) \n",
    "print(s3.m2)"
   ]
  },
  {
   "cell_type": "code",
   "execution_count": 37,
   "id": "e1bfc2b3",
   "metadata": {},
   "outputs": [
    {
     "name": "stdout",
     "output_type": "stream",
     "text": [
      "s2 wins\n"
     ]
    }
   ],
   "source": [
    "# Method 2 : checking for greater than values\n",
    "\n",
    "# adding marks (m1,m2) for both studens and then compare\n",
    "if s1 > s2:\n",
    "    print(\"s1 wins\")\n",
    "else:\n",
    "    print(\"s2 wins\")"
   ]
  },
  {
   "cell_type": "code",
   "execution_count": 38,
   "id": "f59a7539",
   "metadata": {},
   "outputs": [
    {
     "name": "stdout",
     "output_type": "stream",
     "text": [
      "9\n",
      "52 69\n"
     ]
    }
   ],
   "source": [
    "print(a.__str__())\n",
    "print(s1.__str__())"
   ]
  },
  {
   "cell_type": "markdown",
   "id": "b39ae74c",
   "metadata": {},
   "source": [
    "# 3. Method Overloading\n",
    "##### Concept of methid overloading is not available in Python\n",
    "\n",
    "**Q1. What is method overloading?**\n",
    "- Suppose we have a class in which their are **2 methods with the same name with different parameter/arguments** is k/as method overloading.\n",
    "e.g class student:\n",
    "        def avg(a,b)\n",
    "        def avg(a,b,c,d)\n",
    "        \n",
    "- In python we cann't create 2 methods with the same name.\n",
    "\n",
    "**Q2 What is Method Over riding ?**\n",
    "\n",
    "- When having 2 method with the same name and same number of parameters/arguments in different classes"
   ]
  },
  {
   "cell_type": "code",
   "execution_count": 39,
   "id": "d8af5074",
   "metadata": {},
   "outputs": [],
   "source": [
    "class student:\n",
    "    def __init__(self,ml,m2):\n",
    "        self.m1 = ml\n",
    "        self.m2 = m2\n",
    "    \n",
    "    def sum(self,a,b):\n",
    "        s = a + b\n",
    "        return s"
   ]
  },
  {
   "cell_type": "code",
   "execution_count": 40,
   "id": "c62433de",
   "metadata": {},
   "outputs": [
    {
     "name": "stdout",
     "output_type": "stream",
     "text": [
      "26\n"
     ]
    }
   ],
   "source": [
    "s1 = student(58,69)\n",
    "print(s1.sum(10,16))\n",
    "#print(s1.sum(10,16,35))"
   ]
  },
  {
   "cell_type": "code",
   "execution_count": 41,
   "id": "fa999a71",
   "metadata": {},
   "outputs": [],
   "source": [
    "#since python not supports Method Overloading, But we can implement it in python for example\n",
    "\n",
    "class student:\n",
    "    def __init__(self,ml,m2):\n",
    "        self.m1 = ml\n",
    "        self.m2 = m2\n",
    "    \n",
    "    def sum(self, a=None, b=None, c=None):\n",
    "        s = 0\n",
    "        if a!=None and b!=None and c!=None:\n",
    "            s = a+b+c\n",
    "        elif a!=None and b!=None:\n",
    "            s = a+b\n",
    "        else:\n",
    "            s = a\n",
    "        return s"
   ]
  },
  {
   "cell_type": "code",
   "execution_count": 42,
   "id": "4f4119f7",
   "metadata": {},
   "outputs": [
    {
     "name": "stdout",
     "output_type": "stream",
     "text": [
      "15\n",
      "26\n",
      "61\n"
     ]
    }
   ],
   "source": [
    "s1 = student(58,69)\n",
    "print(s1.sum(15))\n",
    "print(s1.sum(10,16))\n",
    "print(s1.sum(10,16,35))"
   ]
  },
  {
   "cell_type": "markdown",
   "id": "136816b7",
   "metadata": {},
   "source": [
    "# 4. Method Over-riding"
   ]
  },
  {
   "cell_type": "code",
   "execution_count": 43,
   "id": "7f9294c6",
   "metadata": {},
   "outputs": [
    {
     "name": "stdout",
     "output_type": "stream",
     "text": [
      "in a show\n"
     ]
    }
   ],
   "source": [
    "class A:\n",
    "    def show(self):\n",
    "        print(\"in a show\")\n",
    "        \n",
    "class B(A):                                        #inheriatance\n",
    "    pass\n",
    "\n",
    "a1 = B()\n",
    "a1.show()"
   ]
  },
  {
   "cell_type": "code",
   "execution_count": 44,
   "id": "84147cae",
   "metadata": {},
   "outputs": [
    {
     "name": "stdout",
     "output_type": "stream",
     "text": [
      "in B show\n"
     ]
    }
   ],
   "source": [
    "class A:\n",
    "    def show(self):\n",
    "        print(\"in a show\")\n",
    "        \n",
    "class B(A):                                        #inheriatance\n",
    "    def show(self):                                #over riding the earlier show method\n",
    "        print(\"in B show\")\n",
    "\n",
    "a1 = B()\n",
    "a1.show()"
   ]
  },
  {
   "cell_type": "markdown",
   "id": "19f83392",
   "metadata": {},
   "source": [
    "# Concept 8: Abstract Class and Abstract Method\n",
    "\n",
    "### Python dont support concept of abstract class/absract method:\n",
    "> To use in Python **Need to import module which is ABC (abstract base classes)**\n",
    "\n",
    "**Q1 What are abstract Class and Abstract Method**\n",
    "- abstract class is a class which have atleast 1 abstract method \n",
    "- abstract method are those methods which dont have any definition have only declaration\n",
    "\n",
    "\n",
    "- when you inherit a abstract class as a parent to the child class, the child class should define all the abstract method present in parent class. If it is not done then child class also becomes abstract class automatically."
   ]
  },
  {
   "cell_type": "raw",
   "id": "63522ade",
   "metadata": {},
   "source": [
    "# Error: Can't instantiate abstract class Computer with abstract methods process\n",
    "\n",
    "from abc import ABC, abstractmethod\n",
    "\n",
    "class Computer(ABC):  \n",
    "    @abstractmethod         #Decorator : this will make the class subclass of ABC \n",
    "                            #Decorator mention that this process is a method which is abstract for compiler \n",
    "    def process(self):      #abstract method : Only declaration but not any definition\n",
    "        pass\n",
    "    \n",
    "#we cannt create object of abstract class\n",
    "\n",
    "com = Computer()\n",
    "com.process()\n",
    "\n",
    "\n",
    "\n",
    "#Error : Can't instantiate abstract class Computer with abstract methods process"
   ]
  },
  {
   "cell_type": "raw",
   "id": "78c1fa13",
   "metadata": {},
   "source": [
    "# Can't instantiate abstract class Laptop with abstract methods process\n",
    "\n",
    "from abc import ABC, abstractmethod\n",
    "\n",
    "class Computer(ABC):  \n",
    "    @abstractmethod         \n",
    "    def process(self):     \n",
    "        pass\n",
    "class Laptop(Computer):\n",
    "    pass\n",
    "    \n",
    "#com = Computer()\n",
    "\n",
    "#creating object for laptop\n",
    "com1 = Laptop()                   #Can't instantiate abstract class Laptop with abstract methods process\n",
    "\n",
    "#laptop class is inheriting Computer class in which we have abstract method, \n",
    "#hence we need to define it otherwise python treat other class also as abstratc class"
   ]
  },
  {
   "cell_type": "code",
   "execution_count": 45,
   "id": "8e0cafc4",
   "metadata": {},
   "outputs": [
    {
     "name": "stdout",
     "output_type": "stream",
     "text": [
      "its running\n"
     ]
    }
   ],
   "source": [
    "from abc import ABC, abstractmethod\n",
    "\n",
    "class Computer(ABC):  \n",
    "    @abstractmethod         \n",
    "    def process(self):     \n",
    "        pass\n",
    "class Laptop(Computer):\n",
    "    def process(self):\n",
    "        print(\"its running\")\n",
    "        \n",
    "com1 = Laptop() \n",
    "com1.process()"
   ]
  },
  {
   "cell_type": "code",
   "execution_count": 46,
   "id": "cf50f113",
   "metadata": {},
   "outputs": [
    {
     "name": "stdout",
     "output_type": "stream",
     "text": [
      "Solving Bugs\n",
      "its running\n"
     ]
    }
   ],
   "source": [
    "from abc import ABC, abstractmethod\n",
    "\n",
    "class Computer(ABC):\n",
    "    @abstractmethod                          #decorators\n",
    "    def process(self):\n",
    "        pass\n",
    "    \n",
    "class Laptop(Computer):\n",
    "    def process(self):\n",
    "        print(\"its running\")\n",
    "        \n",
    "class Whiteboard:\n",
    "    def write(self):\n",
    "        print(\"its writing\")\n",
    "        \n",
    "class Programmer:\n",
    "    def work(self,com):\n",
    "        print(\"Solving Bugs\")\n",
    "        com.process()\n",
    "        \n",
    "        \n",
    "com1 = Laptop()\n",
    "prog1 = Programmer()\n",
    "prog1.work(com1)"
   ]
  },
  {
   "cell_type": "raw",
   "id": "af1642ab",
   "metadata": {},
   "source": [
    "# Error: 'Whiteboard' object has no attribute 'process'\n",
    "\n",
    "com1 = Laptop()\n",
    "com2 = Whiteboard()      \n",
    "\n",
    "prog1 = Programmer()\n",
    "prog1.work(com2)\n",
    "\n",
    "#Error: 'Whiteboard' object has no attribute 'process'"
   ]
  },
  {
   "cell_type": "markdown",
   "id": "8a9c021e",
   "metadata": {},
   "source": [
    "# CONCEPT : 9 Iterator\n",
    "\n",
    "- Mainly used for getting output one by one instead of a for loop( which ouputs all at once)\n",
    "- Iterators allow **lazy evaluation,** only generating the next element of an iterable object when requested. This is **useful for very large data sets.**\n",
    "- Technically, in Python, an iterator is an object which implements the iterator protocol, which **consist of the methods __iter__() and __next__().**\n",
    "- **Lists, tuples, dictionaries, and sets are all iterable objects.** They are iterable containers which you can get an iterator from.  All these objects have a iter() method which is used to get an iterator\n",
    "\n",
    "- The **for loop actually creates an iterator object** and executes the next() method for each loop\n",
    "\n"
   ]
  },
  {
   "cell_type": "code",
   "execution_count": 47,
   "id": "248096ef",
   "metadata": {},
   "outputs": [
    {
     "name": "stdout",
     "output_type": "stream",
     "text": [
      "7\n",
      "5\n"
     ]
    }
   ],
   "source": [
    "nums = [7,8,9,5]\n",
    "print(nums[0])\n",
    "print(nums[3])"
   ]
  },
  {
   "cell_type": "code",
   "execution_count": 48,
   "id": "7788594a",
   "metadata": {},
   "outputs": [
    {
     "name": "stdout",
     "output_type": "stream",
     "text": [
      "7\n",
      "8\n",
      "9\n",
      "5\n"
     ]
    }
   ],
   "source": [
    "for i in nums:\n",
    "    print(i)"
   ]
  },
  {
   "cell_type": "code",
   "execution_count": 49,
   "id": "328ea840",
   "metadata": {},
   "outputs": [
    {
     "name": "stdout",
     "output_type": "stream",
     "text": [
      "<list_iterator object at 0x000001EBE4964A30>\n",
      "7\n",
      "8\n",
      "9\n"
     ]
    }
   ],
   "source": [
    "# Iterator : this not give you all the value, it provide 1 value at a time\n",
    "\n",
    "it = iter(nums)            #iter is a function used which is converting list into iterator\n",
    "print(it)                  #will provide object \n",
    "print(it.__next__())       \n",
    "print(it.__next__())            #this preserves the last value of the list and print next element\n",
    "\n",
    "print(next(it))"
   ]
  },
  {
   "cell_type": "code",
   "execution_count": 50,
   "id": "0be88d67",
   "metadata": {},
   "outputs": [
    {
     "name": "stdout",
     "output_type": "stream",
     "text": [
      "7\n",
      "8\n",
      "9\n",
      "5\n"
     ]
    }
   ],
   "source": [
    "for i in nums:\n",
    "    print(i)"
   ]
  },
  {
   "cell_type": "code",
   "execution_count": 51,
   "id": "d1f77d0a",
   "metadata": {},
   "outputs": [
    {
     "name": "stdout",
     "output_type": "stream",
     "text": [
      "1\n",
      "2\n",
      "3\n",
      "4\n",
      "5\n",
      "6\n",
      "7\n",
      "8\n",
      "9\n",
      "10\n"
     ]
    }
   ],
   "source": [
    "# Create our own object and  class for iteration\n",
    "\n",
    "class Topten:\n",
    "    def __init__(self):\n",
    "        self.num = 1\n",
    "        \n",
    "    def __iter__(self):\n",
    "        return self\n",
    "    \n",
    "    def __next__(self):\n",
    "        if self.num <= 10:\n",
    "            val = self.num\n",
    "            self.num += 1\n",
    "            return val\n",
    "        else:\n",
    "            raise StopIteration\n",
    "    \n",
    "values = Topten()       #creating object for Topten\n",
    "\n",
    "for i in values:\n",
    "    print(i)"
   ]
  },
  {
   "cell_type": "code",
   "execution_count": 52,
   "id": "12337d2c",
   "metadata": {},
   "outputs": [
    {
     "name": "stdout",
     "output_type": "stream",
     "text": [
      "1\n",
      "2\n",
      "3\n",
      "4\n",
      "5\n",
      "6\n",
      "7\n",
      "8\n",
      "9\n",
      "10\n"
     ]
    }
   ],
   "source": [
    "# Create ouw own object and  class for iteration\n",
    "\n",
    "class Topten:\n",
    "    def __init__(self):\n",
    "        self.num = 1\n",
    "        \n",
    "    def __iter__(self):\n",
    "        return self\n",
    "    \n",
    "    def __next__(self):\n",
    "        if self.num <= 10:          #this will only upto 10 values else will loop for infinite no of iteration\n",
    "            val = self.num\n",
    "            self.num += 1\n",
    "            return val\n",
    "        else:\n",
    "            raise StopIteration\n",
    "    \n",
    "values = Topten()       #creating object for Topten\n",
    "print(next(values))\n",
    "for i in values:\n",
    "    print(i)"
   ]
  },
  {
   "cell_type": "markdown",
   "id": "d90b41e7",
   "metadata": {},
   "source": [
    "# CONCEPT 10 : Generator\n",
    "\n",
    "- There is a lot of work in building an iterator in Python. \n",
    "> We have to implement a class with __iter__() and __next__() method, keep track of internal states, and raise StopIteration when there are no values to be returned. \n",
    "> This is both lengthy and counterintuitive. Generator comes to the rescue in such situations.\n",
    "\n",
    "- Python Generator functions allow you to declare a function that behaves likes an iterator.\n",
    "- It is used to abstract a container of data to make it behave like an **iterable object**\n",
    "> Examples of **iterable objects** that are used more commonly include lists, dictionaries, and strings.\n",
    "\n",
    "- Generators introduce the **yield** statement to Python. It **works a bit like return** because it returns a value. Both yield and return will return some value from a function.\n",
    "- The **difference is that while a return statement terminates a function entirely, yield statement pauses the function saving all its states and later continues from there on successive calls.**"
   ]
  },
  {
   "cell_type": "code",
   "execution_count": 53,
   "id": "12841f72",
   "metadata": {},
   "outputs": [
    {
     "name": "stdout",
     "output_type": "stream",
     "text": [
      "Hi!\n",
      "How are you?\n",
      "Are you there?\n"
     ]
    }
   ],
   "source": [
    "def greeting():\n",
    "    print('Hi!')\n",
    "    print('How are you?')\n",
    "    print('Are you there?')\n",
    "    \n",
    "greeting()\n",
    "\n",
    "# Python cannot pause the function at the following line:  print('How are you?')"
   ]
  },
  {
   "cell_type": "code",
   "execution_count": 54,
   "id": "6e3b10d2",
   "metadata": {},
   "outputs": [
    {
     "name": "stdout",
     "output_type": "stream",
     "text": [
      "Hi!\n",
      "1\n",
      "How are you?\n",
      "2\n"
     ]
    }
   ],
   "source": [
    "# To pause a function midway and resume from where the function was paused, you use the yield statement.\n",
    "# When a function contains at least one yield statement, it’s a generator function.\n",
    "\n",
    "def greeting():\n",
    "    print('Hi!')\n",
    "    yield 1\n",
    "    print('How are you?')\n",
    "    yield 2\n",
    "    print('Are you there?')\n",
    "    yield 3\n",
    "\n",
    "messenger = greeting()\n",
    "\n",
    "result = next(messenger)\n",
    "print(result)\n",
    "\n",
    "result = next(messenger)\n",
    "print(result)"
   ]
  },
  {
   "cell_type": "code",
   "execution_count": 55,
   "id": "a18e1831",
   "metadata": {},
   "outputs": [
    {
     "name": "stdout",
     "output_type": "stream",
     "text": [
      "Are you there?\n",
      "3\n"
     ]
    }
   ],
   "source": [
    "result = next(messenger)\n",
    "print(result)\n",
    "\n",
    "# result = next(messenger)\n",
    "# print(result)"
   ]
  },
  {
   "cell_type": "code",
   "execution_count": 56,
   "id": "6b000d36",
   "metadata": {},
   "outputs": [
    {
     "name": "stdout",
     "output_type": "stream",
     "text": [
      "1\n",
      "4\n",
      "9\n",
      "16\n",
      "25\n",
      "36\n",
      "49\n",
      "64\n",
      "81\n",
      "100\n"
     ]
    }
   ],
   "source": [
    "def topten():\n",
    "    n = 1\n",
    "    while n <= 10:\n",
    "        sq = n*n\n",
    "        yield sq                  #generator\n",
    "        n += 1\n",
    "\n",
    "values = topten()\n",
    "\n",
    "for i in values:\n",
    "    print(i)"
   ]
  },
  {
   "cell_type": "code",
   "execution_count": null,
   "id": "3463f424",
   "metadata": {},
   "outputs": [],
   "source": []
  },
  {
   "cell_type": "markdown",
   "id": "541674eb",
   "metadata": {},
   "source": [
    "# List Comprehension vs Generator Expression"
   ]
  },
  {
   "cell_type": "markdown",
   "id": "43e0c7c4",
   "metadata": {},
   "source": [
    "## 1. Generator Expression"
   ]
  },
  {
   "cell_type": "markdown",
   "id": "35b51d77",
   "metadata": {},
   "source": [
    "- A generator expression is an expression that returns a generator object.\n",
    "\n",
    "- Basically, a generator function is a function that contains a yield statement and returns a generator object.\n",
    "\n",
    "- A **generator expression is like a list comprehension in terms of syntax**. For example, a generator expression also supports complex syntaxes including:\n",
    " > - if statements\n",
    " > - Multiple nested loops\n",
    " > - Nested comprehensions\n",
    "- However, a **generator expression uses the parentheses () instead of square brackets []**"
   ]
  },
  {
   "cell_type": "code",
   "execution_count": 57,
   "id": "0aad2266",
   "metadata": {},
   "outputs": [
    {
     "name": "stdout",
     "output_type": "stream",
     "text": [
      "0\n",
      "1\n",
      "4\n",
      "9\n",
      "16\n"
     ]
    }
   ],
   "source": [
    "# Example : Generator\n",
    "def squares(length):\n",
    "    for n in range(length):\n",
    "        yield n ** 2\n",
    "        \n",
    "for square in squares(5):\n",
    "    print(square)"
   ]
  },
  {
   "cell_type": "code",
   "execution_count": 58,
   "id": "73128ec7",
   "metadata": {},
   "outputs": [
    {
     "name": "stdout",
     "output_type": "stream",
     "text": [
      "0\n",
      "1\n",
      "4\n",
      "9\n",
      "16\n"
     ]
    }
   ],
   "source": [
    "# Example : Generator Expression which uses () parentheses.\n",
    "square = (n** 2 for n in range(5))\n",
    "\n",
    "for square in square:\n",
    "    print(square)"
   ]
  },
  {
   "cell_type": "markdown",
   "id": "a2dc6688",
   "metadata": {},
   "source": [
    "# 2. List Comprehension\n",
    "-  Python List comprehensions that allow you to create a new list from an existing one."
   ]
  },
  {
   "cell_type": "markdown",
   "id": "2ccbc10b",
   "metadata": {},
   "source": [
    "## Trying Basic Methods\n",
    "\n",
    "- For example, suppose that you have a list of five numbers like this:\n",
    "- And you want to get a list of squares based on this numbers list"
   ]
  },
  {
   "cell_type": "code",
   "execution_count": 59,
   "id": "1fa9643e",
   "metadata": {},
   "outputs": [
    {
     "name": "stdout",
     "output_type": "stream",
     "text": [
      "[1, 4, 9, 16, 25]\n"
     ]
    }
   ],
   "source": [
    "#basic\n",
    "\n",
    "numbers = [1, 2, 3, 4, 5]\n",
    "\n",
    "squares = []\n",
    "for number in numbers:\n",
    "    squares.append(number**2)\n",
    "\n",
    "print(squares)"
   ]
  },
  {
   "cell_type": "code",
   "execution_count": 60,
   "id": "d109df23",
   "metadata": {},
   "outputs": [
    {
     "name": "stdout",
     "output_type": "stream",
     "text": [
      "[1, 4, 9, 16, 25]\n"
     ]
    }
   ],
   "source": [
    "# To make the code more concise, you can use the built-in map() function with a lambda expression:\n",
    "\n",
    "numbers = [1, 2, 3, 4, 5]\n",
    "squares = list(map(lambda number: number**2, numbers))\n",
    "print(squares)\n",
    "\n",
    "# map() function returns an iterator, you need to use the list() function to convert the iterator to a list.\n",
    "# for loop and map() function can help you create a new list based on an existing one. But the code isn’t really concise"
   ]
  },
  {
   "cell_type": "markdown",
   "id": "dd6089de",
   "metadata": {},
   "source": [
    "# List Comprehension\n",
    "\n",
    "- A list comprehension consists of the following parts:\n",
    "\n",
    "> - An input list (numbers)\n",
    "> - A variable that represents the elements of the list (number)\n",
    "> - An output expression (number**2) that returns the elements of the output list from the elements of the input list"
   ]
  },
  {
   "cell_type": "code",
   "execution_count": 61,
   "id": "07ae5142",
   "metadata": {},
   "outputs": [
    {
     "name": "stdout",
     "output_type": "stream",
     "text": [
      "[1, 4, 9, 16, 25]\n"
     ]
    }
   ],
   "source": [
    "numbers = [1, 2, 3, 4, 5]\n",
    "squares = [number**2 for number in numbers]\n",
    "\n",
    "print(squares)"
   ]
  },
  {
   "cell_type": "code",
   "execution_count": 62,
   "id": "150ae846",
   "metadata": {},
   "outputs": [
    {
     "name": "stdout",
     "output_type": "stream",
     "text": [
      "[['K2', 8611], ['Everest', 8848]]\n"
     ]
    }
   ],
   "source": [
    "# Example 2: get a list of mountains where the height is greater than 8600 meters\n",
    "\n",
    "# use a for loop or the filter() function with a lambda expression like this:\n",
    "mountains = [\n",
    "    ['Makalu', 8485],\n",
    "    ['Lhotse', 8516],\n",
    "    ['Kanchendzonga', 8586],\n",
    "    ['K2', 8611],\n",
    "    ['Everest', 8848]\n",
    "]\n",
    "\n",
    "\n",
    "highest_mountains = list(filter(lambda m: m[1] > 8600, mountains))\n",
    "print(highest_mountains)"
   ]
  },
  {
   "cell_type": "code",
   "execution_count": 63,
   "id": "c9b0a901",
   "metadata": {},
   "outputs": [
    {
     "name": "stdout",
     "output_type": "stream",
     "text": [
      "[['K2', 8611], ['Everest', 8848]]\n"
     ]
    }
   ],
   "source": [
    "# using List Comprehension\n",
    "\n",
    "mountains = [\n",
    "    ['Makalu', 8485],\n",
    "    ['Lhotse', 8516],\n",
    "    ['Kanchendzonga', 8586],\n",
    "    ['K2', 8611],\n",
    "    ['Everest', 8848]\n",
    "]\n",
    "\n",
    "highest_mountains = [m for m in mountains if m[1] > 8600]\n",
    "print(highest_mountains)"
   ]
  },
  {
   "cell_type": "code",
   "execution_count": null,
   "id": "6929543c",
   "metadata": {},
   "outputs": [],
   "source": []
  }
 ],
 "metadata": {
  "kernelspec": {
   "display_name": "Python 3 (ipykernel)",
   "language": "python",
   "name": "python3"
  },
  "language_info": {
   "codemirror_mode": {
    "name": "ipython",
    "version": 3
   },
   "file_extension": ".py",
   "mimetype": "text/x-python",
   "name": "python",
   "nbconvert_exporter": "python",
   "pygments_lexer": "ipython3",
   "version": "3.8.8"
  }
 },
 "nbformat": 4,
 "nbformat_minor": 5
}
