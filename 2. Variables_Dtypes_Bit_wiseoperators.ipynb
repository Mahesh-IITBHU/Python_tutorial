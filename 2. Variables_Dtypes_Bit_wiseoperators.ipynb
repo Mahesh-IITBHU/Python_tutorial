{
 "cells": [
  {
   "cell_type": "markdown",
   "id": "468535fd",
   "metadata": {},
   "source": [
    "# Variables (Advance Concept):\n",
    "\n",
    "> - Memory consumption\n",
    "> - What happen when we create multiple variables"
   ]
  },
  {
   "cell_type": "code",
   "execution_count": 1,
   "id": "1bf140fb",
   "metadata": {},
   "outputs": [
    {
     "data": {
      "text/plain": [
       "140720506415024"
      ]
     },
     "execution_count": 1,
     "metadata": {},
     "output_type": "execute_result"
    }
   ],
   "source": [
    "num = 5              #num storing value 5 at some particular address in memory \n",
    "id(num)              #To get the variable address we use id(object)"
   ]
  },
  {
   "cell_type": "code",
   "execution_count": 2,
   "id": "aa3c590c",
   "metadata": {},
   "outputs": [
    {
     "data": {
      "text/plain": [
       "1575390859888"
      ]
     },
     "execution_count": 2,
     "metadata": {},
     "output_type": "execute_result"
    }
   ],
   "source": [
    "name = 'Mahesh'\n",
    "id(name)"
   ]
  },
  {
   "cell_type": "markdown",
   "id": "3289c752",
   "metadata": {},
   "source": [
    "### Memory efficient\n",
    "\n",
    "- **In Python when creating multiple variables with same data than it points to same address.**"
   ]
  },
  {
   "cell_type": "code",
   "execution_count": 3,
   "id": "7e8e4960",
   "metadata": {},
   "outputs": [
    {
     "name": "stdout",
     "output_type": "stream",
     "text": [
      "140720506415184\n",
      "140720506415184\n"
     ]
    }
   ],
   "source": [
    "a = 10                             # address for both variables a & b is same\n",
    "print(id(a))\n",
    "\n",
    "b = a\n",
    "print(id(b))"
   ]
  },
  {
   "cell_type": "code",
   "execution_count": 4,
   "id": "4636f9c0",
   "metadata": {},
   "outputs": [
    {
     "name": "stdout",
     "output_type": "stream",
     "text": [
      "140720506415184\n"
     ]
    }
   ],
   "source": [
    "k = 10                          #In python we can tagg the value to multiple variables but it consume only single memory\n",
    "print(id(k))"
   ]
  },
  {
   "cell_type": "code",
   "execution_count": 5,
   "id": "90b0c888",
   "metadata": {},
   "outputs": [
    {
     "name": "stdout",
     "output_type": "stream",
     "text": [
      "140720506415504\n",
      "140720506415280\n",
      "140720506415376\n"
     ]
    }
   ],
   "source": [
    "a = 20                          #value to variables can be reassigned and will consume different memory space\n",
    "print(id(a))\n",
    "\n",
    "b = 13\n",
    "print(id(b))\n",
    "\n",
    "k = 16\n",
    "print(id(k))"
   ]
  },
  {
   "cell_type": "markdown",
   "id": "8aff68a9",
   "metadata": {},
   "source": [
    "- since all value are now tagged to different variables consuming different memory spaces\n",
    "- None of the variables is pointing value - 10, hence this will be treated as **garbage collection in python**\n",
    "\n",
    "**Garbage Collection** :- Data which is not used/tagged by any variables is k/as garbage collection"
   ]
  },
  {
   "cell_type": "markdown",
   "id": "ffbf431f",
   "metadata": {},
   "source": [
    "# Data Types in Python\n",
    "\n",
    "##### **Types** : \n",
    "  - None : Variables if not assigned to any value is termed as None, in other language we assigned variable to Null\n",
    "  - Numeric: int, float, complex (complex/imaginary numbers), bool\n",
    "  - List: \n",
    "  - Tuple:\n",
    "  - Set: \n",
    "  - String: \n",
    "  - Range:\n",
    "  - Dictionary:\n",
    "  \n",
    "**Sequence : {List, Tuple, Set, String, Range}**"
   ]
  },
  {
   "cell_type": "code",
   "execution_count": 6,
   "id": "b61e66f9",
   "metadata": {},
   "outputs": [
    {
     "name": "stdout",
     "output_type": "stream",
     "text": [
      "<class 'int'>\n",
      "<class 'str'>\n"
     ]
    }
   ],
   "source": [
    "print(type(a))\n",
    "print(type(name))"
   ]
  },
  {
   "cell_type": "code",
   "execution_count": 7,
   "id": "c9a61ce4",
   "metadata": {},
   "outputs": [
    {
     "name": "stdout",
     "output_type": "stream",
     "text": [
      "<class 'float'>\n",
      "<class 'int'>\n",
      "<class 'complex'>\n"
     ]
    }
   ],
   "source": [
    "#Numeric Data types\n",
    "\n",
    "num = 2.5\n",
    "numb = 6\n",
    "numbe = 6+9j                   #j = sqrt(-1)\n",
    "print(type(num))\n",
    "print(type(numb))\n",
    "print(type(numbe))"
   ]
  },
  {
   "cell_type": "code",
   "execution_count": 8,
   "id": "9a55274d",
   "metadata": {},
   "outputs": [
    {
     "name": "stdout",
     "output_type": "stream",
     "text": [
      "5\n",
      "<class 'int'>\n",
      "5.0\n",
      "<class 'float'>\n",
      "(5+6j)\n",
      "<class 'complex'>\n"
     ]
    }
   ],
   "source": [
    "#Type Conversion\n",
    "\n",
    "a = 5.6\n",
    "b = int(a)\n",
    "print(b)\n",
    "print(type(b))\n",
    "\n",
    "k=float(b)\n",
    "print(k)\n",
    "print(type(k))\n",
    "\n",
    "k = 6\n",
    "c = complex(b,k)\n",
    "print(c)\n",
    "print(type(c))"
   ]
  },
  {
   "cell_type": "code",
   "execution_count": 9,
   "id": "ed56d293",
   "metadata": {},
   "outputs": [
    {
     "name": "stdout",
     "output_type": "stream",
     "text": [
      "True\n",
      "False\n"
     ]
    }
   ],
   "source": [
    "print(b<k)\n",
    "print(b>a)"
   ]
  },
  {
   "cell_type": "code",
   "execution_count": 10,
   "id": "3120579a",
   "metadata": {},
   "outputs": [
    {
     "name": "stdout",
     "output_type": "stream",
     "text": [
      "range(0, 10)\n",
      "[0, 1, 2, 3, 4, 5, 6, 7, 8, 9]\n",
      "[2, 4, 6, 8]\n"
     ]
    }
   ],
   "source": [
    "print(range(10))\n",
    "print(list(range(10)))\n",
    "print(list(range(2,10,2)))                 #{Start, end, step}"
   ]
  },
  {
   "cell_type": "markdown",
   "id": "06031653",
   "metadata": {},
   "source": [
    "# Operators in Python\n",
    "\n",
    "- Arithmetic Operators : +,-,/,*\n",
    "- Assignment Operators : =    also  *=,/=,+=,-=\n",
    "- Relational Operators : <, >, ==, <=, >=, !=\n",
    "- Logical Operators    : AND, OR, NOT\n",
    "- Unary Operators      : negation"
   ]
  },
  {
   "cell_type": "code",
   "execution_count": 11,
   "id": "32afdc9d",
   "metadata": {},
   "outputs": [
    {
     "name": "stdout",
     "output_type": "stream",
     "text": [
      "13\n",
      "20\n",
      "33\n",
      "1.5384615384615385\n"
     ]
    }
   ],
   "source": [
    "a,b = 13,20\n",
    "print(a)\n",
    "print(b)\n",
    "print(a+b)\n",
    "print(b/a)"
   ]
  },
  {
   "cell_type": "code",
   "execution_count": 12,
   "id": "632b592e",
   "metadata": {},
   "outputs": [
    {
     "name": "stdout",
     "output_type": "stream",
     "text": [
      "-7\n"
     ]
    }
   ],
   "source": [
    "n=7\n",
    "n = -n                #unary operator\n",
    "print(n)          "
   ]
  },
  {
   "cell_type": "code",
   "execution_count": 13,
   "id": "8ace4804",
   "metadata": {},
   "outputs": [
    {
     "name": "stdout",
     "output_type": "stream",
     "text": [
      "True\n",
      "False\n"
     ]
    }
   ],
   "source": [
    "a = 5\n",
    "b = 4\n",
    "print(a<8 and b<5)\n",
    "print(a>8 and b<2)"
   ]
  },
  {
   "cell_type": "markdown",
   "id": "a9a13ace",
   "metadata": {},
   "source": [
    "### Number system conversion in python"
   ]
  },
  {
   "cell_type": "code",
   "execution_count": 14,
   "id": "5f5d288e",
   "metadata": {},
   "outputs": [
    {
     "name": "stdout",
     "output_type": "stream",
     "text": [
      "0b11001\n",
      "5\n",
      "0o31\n",
      "0x19\n"
     ]
    }
   ],
   "source": [
    "print(bin(25))             #decimal(0-9) to binary(0-1)  # 0b signifies about binary number , binary representation of  25 is 11001\n",
    "print(0b0101)              # bin to decimal\n",
    "\n",
    "print(oct(25))             #oct(0-7) \n",
    "print(hex(25))             #hex(0-9,a-f)"
   ]
  },
  {
   "cell_type": "markdown",
   "id": "fbfb9fc3",
   "metadata": {},
   "source": [
    "##### Swap 2 variables in Python"
   ]
  },
  {
   "cell_type": "code",
   "execution_count": 15,
   "id": "cd326b7e",
   "metadata": {},
   "outputs": [
    {
     "name": "stdout",
     "output_type": "stream",
     "text": [
      "5 8\n"
     ]
    }
   ],
   "source": [
    "a,b = 5,8\n",
    "print(a,b)"
   ]
  },
  {
   "cell_type": "code",
   "execution_count": 16,
   "id": "63dc2707",
   "metadata": {},
   "outputs": [
    {
     "name": "stdout",
     "output_type": "stream",
     "text": [
      "8 8\n"
     ]
    }
   ],
   "source": [
    "a = b               #**Not work** as assigning value for e.g a = b & b = 8 will not work as it forgets the previous assignment\n",
    "b = a\n",
    "print(a,b)"
   ]
  },
  {
   "cell_type": "code",
   "execution_count": 17,
   "id": "e9dcd674",
   "metadata": {},
   "outputs": [
    {
     "name": "stdout",
     "output_type": "stream",
     "text": [
      "8 5\n"
     ]
    }
   ],
   "source": [
    "a,b = 5,8\n",
    "\n",
    "\n",
    "a,b = b,a         #This will swap the value as right side will solve first and store in a stack\n",
    "print(a,b)        #rot_two() - swaps 2 top most stack items"
   ]
  },
  {
   "cell_type": "code",
   "execution_count": 18,
   "id": "9860974e",
   "metadata": {},
   "outputs": [
    {
     "name": "stdout",
     "output_type": "stream",
     "text": [
      "8 5\n"
     ]
    }
   ],
   "source": [
    "#swapping using 3rd variable, as \n",
    "a,b = 5,8\n",
    "\n",
    "\n",
    "temp = a\n",
    "a = b\n",
    "b = temp\n",
    "print(a,b)"
   ]
  },
  {
   "cell_type": "markdown",
   "id": "aa2ba6c3",
   "metadata": {},
   "source": [
    "# Bitwise Operator\n",
    "\n",
    "- Complement(~)\n",
    "- And (&)\n",
    "- Or(|)\n",
    "- XOR(^)\n",
    "- left shift(<<)\n",
    "- right shift(>>)\n",
    "\n",
    "Also Check truth Table for all the operation"
   ]
  },
  {
   "cell_type": "code",
   "execution_count": 19,
   "id": "71c7724b",
   "metadata": {},
   "outputs": [
    {
     "data": {
      "text/plain": [
       "-13"
      ]
     },
     "execution_count": 19,
     "metadata": {},
     "output_type": "execute_result"
    }
   ],
   "source": [
    "~12       "
   ]
  },
  {
   "cell_type": "markdown",
   "id": "24afd84c",
   "metadata": {},
   "source": [
    "# Concept Understanding\n",
    "\n",
    "- complement of  1 =0 , 0 = 1\n",
    "- bin(12) = 00001100, ~12 = **11110011 which is -13**\n",
    "\n",
    "- In system we can only store +ve numbers we cannt store negative numbers to store negative numbers need to understand the concept of 2's complement\n",
    "\n",
    "## **2's complement** = (1's complement + 1)\n",
    "\n",
    "- bin(13) = 00001101, its 1's complement = 11110010\n",
    "- 2's complement of 13 = 11110010 + 1 = **11110011 which is -13**"
   ]
  },
  {
   "cell_type": "code",
   "execution_count": 20,
   "id": "10c0a8d9",
   "metadata": {},
   "outputs": [
    {
     "name": "stdout",
     "output_type": "stream",
     "text": [
      "0b1100\n",
      "-0b1101\n"
     ]
    }
   ],
   "source": [
    "print(bin(12))\n",
    "print(bin(-13))"
   ]
  },
  {
   "cell_type": "code",
   "execution_count": 21,
   "id": "f4d06c1b",
   "metadata": {},
   "outputs": [
    {
     "data": {
      "text/plain": [
       "'0b1101'"
      ]
     },
     "execution_count": 21,
     "metadata": {},
     "output_type": "execute_result"
    }
   ],
   "source": [
    "bin(13)"
   ]
  },
  {
   "cell_type": "code",
   "execution_count": 22,
   "id": "acc3cb07",
   "metadata": {},
   "outputs": [
    {
     "data": {
      "text/plain": [
       "12"
      ]
     },
     "execution_count": 22,
     "metadata": {},
     "output_type": "execute_result"
    }
   ],
   "source": [
    "12 & 13          #00001100 & 00001101 = 00001100"
   ]
  },
  {
   "cell_type": "code",
   "execution_count": 23,
   "id": "99c332e7",
   "metadata": {},
   "outputs": [
    {
     "data": {
      "text/plain": [
       "13"
      ]
     },
     "execution_count": 23,
     "metadata": {},
     "output_type": "execute_result"
    }
   ],
   "source": [
    "12 | 13        #00001100 | 00001101   = 00001101"
   ]
  },
  {
   "cell_type": "code",
   "execution_count": 24,
   "id": "910c5bc6",
   "metadata": {},
   "outputs": [
    {
     "data": {
      "text/plain": [
       "1"
      ]
     },
     "execution_count": 24,
     "metadata": {},
     "output_type": "execute_result"
    }
   ],
   "source": [
    "12 ^ 13        #00001100 + 00001101  = 00000001"
   ]
  },
  {
   "cell_type": "code",
   "execution_count": 25,
   "id": "b102b701",
   "metadata": {},
   "outputs": [
    {
     "data": {
      "text/plain": [
       "40"
      ]
     },
     "execution_count": 25,
     "metadata": {},
     "output_type": "execute_result"
    }
   ],
   "source": [
    "10 << 2       #(1010).(000) ---> after 2 step left shift = 10100  ; 2^5 + 2^3 = 32+8 = 40   **Gain bits**"
   ]
  },
  {
   "cell_type": "code",
   "execution_count": 26,
   "id": "49001cd0",
   "metadata": {},
   "outputs": [
    {
     "data": {
      "text/plain": [
       "2"
      ]
     },
     "execution_count": 26,
     "metadata": {},
     "output_type": "execute_result"
    }
   ],
   "source": [
    "10 >> 2       #(1010).(000) ---> after 2 step righgt shift = 10   ; 2^1 = 2     **loss bits**"
   ]
  },
  {
   "cell_type": "markdown",
   "id": "3c8c5972",
   "metadata": {},
   "source": [
    "# Import Math function in python"
   ]
  },
  {
   "cell_type": "code",
   "execution_count": 27,
   "id": "4114004c",
   "metadata": {},
   "outputs": [],
   "source": [
    "import math as m"
   ]
  },
  {
   "cell_type": "code",
   "execution_count": 28,
   "id": "a3417bcc",
   "metadata": {},
   "outputs": [
    {
     "name": "stdout",
     "output_type": "stream",
     "text": [
      "5.0\n",
      "3.872983346207417\n"
     ]
    }
   ],
   "source": [
    "x = m.sqrt(25)\n",
    "y = m.sqrt(15)\n",
    "print(x)\n",
    "print(y)"
   ]
  },
  {
   "cell_type": "code",
   "execution_count": 29,
   "id": "03df0207",
   "metadata": {},
   "outputs": [
    {
     "name": "stdout",
     "output_type": "stream",
     "text": [
      "2\n",
      "5\n"
     ]
    }
   ],
   "source": [
    "print(m.floor(2.9))        #roundup to last digit value\n",
    "print(m.ceil(4.1))         #roundup to highest digit value"
   ]
  },
  {
   "cell_type": "code",
   "execution_count": 30,
   "id": "a22548ba",
   "metadata": {},
   "outputs": [
    {
     "name": "stdout",
     "output_type": "stream",
     "text": [
      "729.0\n"
     ]
    }
   ],
   "source": [
    "print(m.pow(3,6))"
   ]
  },
  {
   "cell_type": "code",
   "execution_count": 31,
   "id": "1ee26abe",
   "metadata": {},
   "outputs": [
    {
     "name": "stdout",
     "output_type": "stream",
     "text": [
      "3.141592653589793\n",
      "2.718281828459045\n"
     ]
    }
   ],
   "source": [
    "print(m.pi)\n",
    "print(m.e)"
   ]
  },
  {
   "cell_type": "code",
   "execution_count": 32,
   "id": "a7f84e1d",
   "metadata": {},
   "outputs": [],
   "source": [
    "from math import sqrt, pow                     #importing only required function from library --> sqrt,pow"
   ]
  },
  {
   "cell_type": "code",
   "execution_count": 33,
   "id": "a46c7baf",
   "metadata": {},
   "outputs": [
    {
     "data": {
      "text/plain": [
       "1024.0"
      ]
     },
     "execution_count": 33,
     "metadata": {},
     "output_type": "execute_result"
    }
   ],
   "source": [
    "pow(4,5)"
   ]
  },
  {
   "cell_type": "code",
   "execution_count": 34,
   "id": "0a440237",
   "metadata": {},
   "outputs": [],
   "source": [
    "#help('math')"
   ]
  },
  {
   "cell_type": "markdown",
   "id": "5e2031ec",
   "metadata": {},
   "source": [
    "# User input in python"
   ]
  },
  {
   "cell_type": "code",
   "execution_count": 35,
   "id": "116ecd5e",
   "metadata": {},
   "outputs": [
    {
     "name": "stdout",
     "output_type": "stream",
     "text": [
      "Enter 1st number:6\n",
      "Enter 2nd number:9\n",
      "69\n"
     ]
    }
   ],
   "source": [
    "x = input('Enter 1st number:')\n",
    "y = input('Enter 2nd number:')\n",
    "z = x+y\n",
    "print(z)                           # it will treat number as str type and concatenate both input values"
   ]
  },
  {
   "cell_type": "code",
   "execution_count": 36,
   "id": "0467993a",
   "metadata": {},
   "outputs": [
    {
     "name": "stdout",
     "output_type": "stream",
     "text": [
      "<class 'str'>\n",
      "<class 'str'>\n"
     ]
    }
   ],
   "source": [
    "print(type(x))\n",
    "print(type(y))"
   ]
  },
  {
   "cell_type": "code",
   "execution_count": 37,
   "id": "49f0ce18",
   "metadata": {},
   "outputs": [
    {
     "name": "stdout",
     "output_type": "stream",
     "text": [
      "Enter 1st number: 15\n",
      "Enter 2nd number: 16\n",
      "31\n"
     ]
    }
   ],
   "source": [
    "x = int(input('Enter 1st number: '))                #type_conversion\n",
    "y = int(input('Enter 2nd number: '))\n",
    "z = x+y\n",
    "print(z)"
   ]
  },
  {
   "cell_type": "code",
   "execution_count": 38,
   "id": "ff1a7243",
   "metadata": {},
   "outputs": [
    {
     "name": "stdout",
     "output_type": "stream",
     "text": [
      "enter an expression:  7+9*8+3-15\n",
      "67\n"
     ]
    }
   ],
   "source": [
    "result = eval(input('enter an expression:  '))\n",
    "print(result)"
   ]
  },
  {
   "cell_type": "code",
   "execution_count": null,
   "id": "489de074",
   "metadata": {},
   "outputs": [],
   "source": []
  }
 ],
 "metadata": {
  "kernelspec": {
   "display_name": "Python 3 (ipykernel)",
   "language": "python",
   "name": "python3"
  },
  "language_info": {
   "codemirror_mode": {
    "name": "ipython",
    "version": 3
   },
   "file_extension": ".py",
   "mimetype": "text/x-python",
   "name": "python",
   "nbconvert_exporter": "python",
   "pygments_lexer": "ipython3",
   "version": "3.8.8"
  }
 },
 "nbformat": 4,
 "nbformat_minor": 5
}
